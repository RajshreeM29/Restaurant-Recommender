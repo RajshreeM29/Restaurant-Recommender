{
  "nbformat": 4,
  "nbformat_minor": 0,
  "metadata": {
    "colab": {
      "name": "Restaurant Recommender.ipynb",
      "provenance": [],
      "collapsed_sections": [],
      "toc_visible": true,
      "machine_shape": "hm"
    },
    "kernelspec": {
      "name": "python3",
      "display_name": "Python 3"
    }
  },
  "cells": [
    {
      "cell_type": "markdown",
      "metadata": {
        "id": "2OH0M587cUMU",
        "colab_type": "text"
      },
      "source": [
        "# Initial Setup  "
      ]
    },
    {
      "cell_type": "markdown",
      "metadata": {
        "id": "HbBG-AfsYv6L",
        "colab_type": "text"
      },
      "source": [
        "## Importing the  data and libraries"
      ]
    },
    {
      "cell_type": "code",
      "metadata": {
        "id": "Ip3BlgDOcJPA",
        "colab_type": "code",
        "colab": {}
      },
      "source": [
        "from google.colab import drive\n",
        "drive.mount('/content/drive')"
      ],
      "execution_count": 0,
      "outputs": []
    },
    {
      "cell_type": "code",
      "metadata": {
        "id": "ywrN7G06VzIy",
        "colab_type": "code",
        "colab": {}
      },
      "source": [
        "import numpy as np\n",
        "import pandas as pd\n",
        "\n",
        "import matplotlib.pyplot as plt\n",
        "import seaborn as sns\n",
        "\n",
        "from sklearn.model_selection import train_test_split\n",
        "from sklearn.feature_extraction.text import TfidfVectorizer\n",
        "\n",
        "from nltk.corpus import stopwords \n",
        "from nltk.tokenize import WordPunctTokenizer\n",
        "\n",
        "import time\n",
        "import math\n",
        "import json\n",
        "import os\n",
        "\n",
        "import seaborn as sns; sns.set()\n",
        "import matplotlib.pyplot as plt\n",
        "\n",
        "import csv"
      ],
      "execution_count": 0,
      "outputs": []
    },
    {
      "cell_type": "code",
      "metadata": {
        "id": "KdZVptVPy__S",
        "colab_type": "code",
        "colab": {}
      },
      "source": [
        "def timeSince(since):\n",
        "    now = time.time()\n",
        "    s = now - since\n",
        "    m = math.floor(s / 60)\n",
        "    s -= m * 60\n",
        "    return '%dm %ds' % (m, s) "
      ],
      "execution_count": 0,
      "outputs": []
    },
    {
      "cell_type": "code",
      "metadata": {
        "id": "cM2bWPMqe_WH",
        "colab_type": "code",
        "outputId": "f8211f9e-6f22-4c4c-ebbc-edc30ed90c79",
        "colab": {
          "base_uri": "https://localhost:8080/",
          "height": 259
        }
      },
      "source": [
        "os.chdir(\"...filepath\")\n",
        "!ls\n"
      ],
      "execution_count": 4,
      "outputs": [
        {
          "output_type": "stream",
          "text": [
            "'50 K'\t\t\t\t spark-2.4.5-bin-hadoop2.7.tgz.1\n",
            " business_data_file.csv\t\t spark-2.4.5-bin-hadoop2.7.tgz.2\n",
            " Dataset_User_Agreement.pdf\t spark-2.4.5-bin-hadoop2.7.tgz.3\n",
            " illinois.csv\t\t\t spark-2.4.5-bin-hadoop2.7.tgz.4\n",
            " merged_dataset2.csv\t\t spark-2.4.5-bin-hadoop2.7.tgz.5\n",
            " merged_dataset.csv\t\t subset_df.csv\n",
            " P.csv\t\t\t\t user_data_file.csv\n",
            " P_matrix.csv\t\t\t yelp_academic_dataset_business.json\n",
            " Q.csv\t\t\t\t yelp_academic_dataset_checkin.json\n",
            " Q_matrix.csv\t\t\t yelp_academic_dataset_review.json\n",
            " review_data_file.csv\t\t yelp_academic_dataset_tip.json\n",
            " spark-2.4.5-bin-hadoop2.7\t yelp_academic_dataset_user.json\n",
            " spark-2.4.5-bin-hadoop2.7.tgz\n"
          ],
          "name": "stdout"
        }
      ]
    },
    {
      "cell_type": "code",
      "metadata": {
        "id": "ri-sfZZo8exn",
        "colab_type": "code",
        "colab": {}
      },
      "source": [
        "from datetime import datetime\n",
        "import pytz"
      ],
      "execution_count": 0,
      "outputs": []
    },
    {
      "cell_type": "markdown",
      "metadata": {
        "id": "TE4hgH6lHGxV",
        "colab_type": "text"
      },
      "source": [
        "## Reading the Data\n",
        "\n",
        "All the orginial data is in the JSON format. for ease of use, we save them into csv files"
      ]
    },
    {
      "cell_type": "code",
      "metadata": {
        "id": "yKaIeIoi_Clu",
        "colab_type": "code",
        "outputId": "be4a9118-8fba-4b54-c2ef-b062615f07fe",
        "colab": {
          "base_uri": "https://localhost:8080/",
          "height": 350
        }
      },
      "source": [
        "users = []\n",
        "for line in open('yelp_academic_dataset_user.json', 'r'):\n",
        "    users.append(json.loads(line))\n",
        "\n",
        "data_file = open('user_data_file.csv', 'w')\n",
        "csv_writer = csv.writer(data_file)\n",
        "\n",
        "count = 0\n",
        "  \n",
        "for emp in users: \n",
        "    if count == 0: \n",
        "      \n",
        "        # Writing headers of CSV file \n",
        "        header = emp.keys() \n",
        "        csv_writer.writerow(header) \n",
        "        count += 1\n",
        "\n",
        "    # Writing data of CSV file \n",
        "    csv_writer.writerow(emp.values()) \n",
        "  \n",
        "data_file.close() \n",
        "\n",
        "del users\n",
        "us_tb = pd.read_csv(\"user_data_file.csv\")\n",
        "us_tb.head()"
      ],
      "execution_count": 0,
      "outputs": [
        {
          "output_type": "stream",
          "text": [
            "/usr/local/lib/python3.6/dist-packages/IPython/core/interactiveshell.py:2718: DtypeWarning: Columns (7) have mixed types.Specify dtype option on import or set low_memory=False.\n",
            "  interactivity=interactivity, compiler=compiler, result=result)\n"
          ],
          "name": "stderr"
        },
        {
          "output_type": "execute_result",
          "data": {
            "text/html": [
              "<div>\n",
              "<style scoped>\n",
              "    .dataframe tbody tr th:only-of-type {\n",
              "        vertical-align: middle;\n",
              "    }\n",
              "\n",
              "    .dataframe tbody tr th {\n",
              "        vertical-align: top;\n",
              "    }\n",
              "\n",
              "    .dataframe thead th {\n",
              "        text-align: right;\n",
              "    }\n",
              "</style>\n",
              "<table border=\"1\" class=\"dataframe\">\n",
              "  <thead>\n",
              "    <tr style=\"text-align: right;\">\n",
              "      <th></th>\n",
              "      <th>user_id</th>\n",
              "      <th>name</th>\n",
              "      <th>review_count</th>\n",
              "      <th>yelping_since</th>\n",
              "      <th>useful</th>\n",
              "      <th>funny</th>\n",
              "      <th>cool</th>\n",
              "      <th>elite</th>\n",
              "      <th>friends</th>\n",
              "      <th>fans</th>\n",
              "      <th>average_stars</th>\n",
              "      <th>compliment_hot</th>\n",
              "      <th>compliment_more</th>\n",
              "      <th>compliment_profile</th>\n",
              "      <th>compliment_cute</th>\n",
              "      <th>compliment_list</th>\n",
              "      <th>compliment_note</th>\n",
              "      <th>compliment_plain</th>\n",
              "      <th>compliment_cool</th>\n",
              "      <th>compliment_funny</th>\n",
              "      <th>compliment_writer</th>\n",
              "      <th>compliment_photos</th>\n",
              "    </tr>\n",
              "  </thead>\n",
              "  <tbody>\n",
              "    <tr>\n",
              "      <th>0</th>\n",
              "      <td>ntlvfPzc8eglqvk92iDIAw</td>\n",
              "      <td>Rafael</td>\n",
              "      <td>553</td>\n",
              "      <td>2007-07-06 03:27:11</td>\n",
              "      <td>628</td>\n",
              "      <td>225</td>\n",
              "      <td>227</td>\n",
              "      <td>NaN</td>\n",
              "      <td>oeMvJh94PiGQnx_6GlndPQ, wm1z1PaJKvHgSDRKfwhfDg...</td>\n",
              "      <td>14</td>\n",
              "      <td>3.57</td>\n",
              "      <td>3</td>\n",
              "      <td>2</td>\n",
              "      <td>1</td>\n",
              "      <td>0</td>\n",
              "      <td>1</td>\n",
              "      <td>11</td>\n",
              "      <td>15</td>\n",
              "      <td>22</td>\n",
              "      <td>22</td>\n",
              "      <td>10</td>\n",
              "      <td>0</td>\n",
              "    </tr>\n",
              "    <tr>\n",
              "      <th>1</th>\n",
              "      <td>FOBRPlBHa3WPHFB5qYDlVg</td>\n",
              "      <td>Michelle</td>\n",
              "      <td>564</td>\n",
              "      <td>2008-04-28 01:29:25</td>\n",
              "      <td>790</td>\n",
              "      <td>316</td>\n",
              "      <td>400</td>\n",
              "      <td>2008,2009,2010,2011,2012,2013</td>\n",
              "      <td>ly7EnE8leJmyqyePVYFlug, pRlR63iDytsnnniPb3AOug...</td>\n",
              "      <td>27</td>\n",
              "      <td>3.84</td>\n",
              "      <td>36</td>\n",
              "      <td>4</td>\n",
              "      <td>5</td>\n",
              "      <td>2</td>\n",
              "      <td>1</td>\n",
              "      <td>33</td>\n",
              "      <td>37</td>\n",
              "      <td>63</td>\n",
              "      <td>63</td>\n",
              "      <td>21</td>\n",
              "      <td>5</td>\n",
              "    </tr>\n",
              "    <tr>\n",
              "      <th>2</th>\n",
              "      <td>zZUnPeh2hEp0WydbAZEOOg</td>\n",
              "      <td>Martin</td>\n",
              "      <td>60</td>\n",
              "      <td>2008-08-28 23:40:05</td>\n",
              "      <td>151</td>\n",
              "      <td>125</td>\n",
              "      <td>103</td>\n",
              "      <td>2010</td>\n",
              "      <td>Uwlk0txjQBPw_JhHsQnyeg, Ybxr1tSCkv3lYA0I1qmnPQ...</td>\n",
              "      <td>5</td>\n",
              "      <td>3.44</td>\n",
              "      <td>9</td>\n",
              "      <td>6</td>\n",
              "      <td>0</td>\n",
              "      <td>1</td>\n",
              "      <td>0</td>\n",
              "      <td>3</td>\n",
              "      <td>7</td>\n",
              "      <td>17</td>\n",
              "      <td>17</td>\n",
              "      <td>4</td>\n",
              "      <td>1</td>\n",
              "    </tr>\n",
              "    <tr>\n",
              "      <th>3</th>\n",
              "      <td>QaELAmRcDc5TfJEylaaP8g</td>\n",
              "      <td>John</td>\n",
              "      <td>206</td>\n",
              "      <td>2008-09-20 00:08:14</td>\n",
              "      <td>233</td>\n",
              "      <td>160</td>\n",
              "      <td>84</td>\n",
              "      <td>2009</td>\n",
              "      <td>iog3Nyg1i4jeumiTVG_BSA, M92xWY2Vr9w0xoH8bPplfQ...</td>\n",
              "      <td>6</td>\n",
              "      <td>3.08</td>\n",
              "      <td>2</td>\n",
              "      <td>1</td>\n",
              "      <td>0</td>\n",
              "      <td>0</td>\n",
              "      <td>0</td>\n",
              "      <td>7</td>\n",
              "      <td>14</td>\n",
              "      <td>7</td>\n",
              "      <td>7</td>\n",
              "      <td>2</td>\n",
              "      <td>0</td>\n",
              "    </tr>\n",
              "    <tr>\n",
              "      <th>4</th>\n",
              "      <td>xvu8G900tezTzbbfqmTKvA</td>\n",
              "      <td>Anne</td>\n",
              "      <td>485</td>\n",
              "      <td>2008-08-09 00:30:27</td>\n",
              "      <td>1265</td>\n",
              "      <td>400</td>\n",
              "      <td>512</td>\n",
              "      <td>2009,2010,2011,2012,2014,2015,2016,2017,2018</td>\n",
              "      <td>3W3ZMSthojCUirKEqAwGNw, eTIbuu23j9tOgmIa9POyLQ...</td>\n",
              "      <td>78</td>\n",
              "      <td>4.37</td>\n",
              "      <td>8</td>\n",
              "      <td>9</td>\n",
              "      <td>2</td>\n",
              "      <td>1</td>\n",
              "      <td>1</td>\n",
              "      <td>22</td>\n",
              "      <td>28</td>\n",
              "      <td>31</td>\n",
              "      <td>31</td>\n",
              "      <td>19</td>\n",
              "      <td>31</td>\n",
              "    </tr>\n",
              "  </tbody>\n",
              "</table>\n",
              "</div>"
            ],
            "text/plain": [
              "                  user_id      name  ...  compliment_writer compliment_photos\n",
              "0  ntlvfPzc8eglqvk92iDIAw    Rafael  ...                 10                 0\n",
              "1  FOBRPlBHa3WPHFB5qYDlVg  Michelle  ...                 21                 5\n",
              "2  zZUnPeh2hEp0WydbAZEOOg    Martin  ...                  4                 1\n",
              "3  QaELAmRcDc5TfJEylaaP8g      John  ...                  2                 0\n",
              "4  xvu8G900tezTzbbfqmTKvA      Anne  ...                 19                31\n",
              "\n",
              "[5 rows x 22 columns]"
            ]
          },
          "metadata": {
            "tags": []
          },
          "execution_count": 6
        }
      ]
    },
    {
      "cell_type": "code",
      "metadata": {
        "id": "eGlxnjcTEaSE",
        "colab_type": "code",
        "outputId": "98886311-c884-4cc3-8ba0-7fd61e1c7512",
        "colab": {
          "base_uri": "https://localhost:8080/",
          "height": 574
        }
      },
      "source": [
        "business = []\n",
        "for line in open('yelp_academic_dataset_business.json', 'r'):\n",
        "    business.append(json.loads(line))\n",
        "\n",
        "data_file = open('business_data_file.csv', 'w')\n",
        "csv_writer = csv.writer(data_file)\n",
        "\n",
        "count = 0\n",
        "  \n",
        "for emp in business: \n",
        "    if count == 0: \n",
        "  \n",
        "        # Writing headers of CSV file \n",
        "        header = emp.keys() \n",
        "        csv_writer.writerow(header) \n",
        "        count += 1\n",
        "  \n",
        "    # Writing data of CSV file \n",
        "    csv_writer.writerow(emp.values()) \n",
        "  \n",
        "data_file.close() \n",
        "\n",
        "del business\n",
        "business_tb = pd.read_csv(\"business_data_file.csv\")\n",
        "business_tb.head()"
      ],
      "execution_count": 0,
      "outputs": [
        {
          "output_type": "execute_result",
          "data": {
            "text/html": [
              "<div>\n",
              "<style scoped>\n",
              "    .dataframe tbody tr th:only-of-type {\n",
              "        vertical-align: middle;\n",
              "    }\n",
              "\n",
              "    .dataframe tbody tr th {\n",
              "        vertical-align: top;\n",
              "    }\n",
              "\n",
              "    .dataframe thead th {\n",
              "        text-align: right;\n",
              "    }\n",
              "</style>\n",
              "<table border=\"1\" class=\"dataframe\">\n",
              "  <thead>\n",
              "    <tr style=\"text-align: right;\">\n",
              "      <th></th>\n",
              "      <th>business_id</th>\n",
              "      <th>name</th>\n",
              "      <th>address</th>\n",
              "      <th>city</th>\n",
              "      <th>state</th>\n",
              "      <th>postal_code</th>\n",
              "      <th>latitude</th>\n",
              "      <th>longitude</th>\n",
              "      <th>stars</th>\n",
              "      <th>review_count</th>\n",
              "      <th>is_open</th>\n",
              "      <th>attributes</th>\n",
              "      <th>categories</th>\n",
              "      <th>hours</th>\n",
              "    </tr>\n",
              "  </thead>\n",
              "  <tbody>\n",
              "    <tr>\n",
              "      <th>0</th>\n",
              "      <td>f9NumwFMBDn751xgFiRbNA</td>\n",
              "      <td>The Range At Lake Norman</td>\n",
              "      <td>10913 Bailey Rd</td>\n",
              "      <td>Cornelius</td>\n",
              "      <td>NC</td>\n",
              "      <td>28031</td>\n",
              "      <td>35.462724</td>\n",
              "      <td>-80.852612</td>\n",
              "      <td>3.5</td>\n",
              "      <td>36</td>\n",
              "      <td>1</td>\n",
              "      <td>{'BusinessAcceptsCreditCards': 'True', 'BikePa...</td>\n",
              "      <td>Active Life, Gun/Rifle Ranges, Guns &amp; Ammo, Sh...</td>\n",
              "      <td>{'Monday': '10:0-18:0', 'Tuesday': '11:0-20:0'...</td>\n",
              "    </tr>\n",
              "    <tr>\n",
              "      <th>1</th>\n",
              "      <td>Yzvjg0SayhoZgCljUJRF9Q</td>\n",
              "      <td>Carlos Santo, NMD</td>\n",
              "      <td>8880 E Via Linda, Ste 107</td>\n",
              "      <td>Scottsdale</td>\n",
              "      <td>AZ</td>\n",
              "      <td>85258</td>\n",
              "      <td>33.569404</td>\n",
              "      <td>-111.890264</td>\n",
              "      <td>5.0</td>\n",
              "      <td>4</td>\n",
              "      <td>1</td>\n",
              "      <td>{'GoodForKids': 'True', 'ByAppointmentOnly': '...</td>\n",
              "      <td>Health &amp; Medical, Fitness &amp; Instruction, Yoga,...</td>\n",
              "      <td>NaN</td>\n",
              "    </tr>\n",
              "    <tr>\n",
              "      <th>2</th>\n",
              "      <td>XNoUzKckATkOD1hP6vghZg</td>\n",
              "      <td>Felinus</td>\n",
              "      <td>3554 Rue Notre-Dame O</td>\n",
              "      <td>Montreal</td>\n",
              "      <td>QC</td>\n",
              "      <td>H4C 1P4</td>\n",
              "      <td>45.479984</td>\n",
              "      <td>-73.580070</td>\n",
              "      <td>5.0</td>\n",
              "      <td>5</td>\n",
              "      <td>1</td>\n",
              "      <td>NaN</td>\n",
              "      <td>Pets, Pet Services, Pet Groomers</td>\n",
              "      <td>NaN</td>\n",
              "    </tr>\n",
              "    <tr>\n",
              "      <th>3</th>\n",
              "      <td>6OAZjbxqM5ol29BuHsil3w</td>\n",
              "      <td>Nevada House of Hose</td>\n",
              "      <td>1015 Sharp Cir</td>\n",
              "      <td>North Las Vegas</td>\n",
              "      <td>NV</td>\n",
              "      <td>89030</td>\n",
              "      <td>36.219728</td>\n",
              "      <td>-115.127725</td>\n",
              "      <td>2.5</td>\n",
              "      <td>3</td>\n",
              "      <td>0</td>\n",
              "      <td>{'BusinessAcceptsCreditCards': 'True', 'ByAppo...</td>\n",
              "      <td>Hardware Stores, Home Services, Building Suppl...</td>\n",
              "      <td>{'Monday': '7:0-16:0', 'Tuesday': '7:0-16:0', ...</td>\n",
              "    </tr>\n",
              "    <tr>\n",
              "      <th>4</th>\n",
              "      <td>51M2Kk903DFYI6gnB5I6SQ</td>\n",
              "      <td>USE MY GUY SERVICES LLC</td>\n",
              "      <td>4827 E Downing Cir</td>\n",
              "      <td>Mesa</td>\n",
              "      <td>AZ</td>\n",
              "      <td>85205</td>\n",
              "      <td>33.428065</td>\n",
              "      <td>-111.726649</td>\n",
              "      <td>4.5</td>\n",
              "      <td>26</td>\n",
              "      <td>1</td>\n",
              "      <td>{'BusinessAcceptsCreditCards': 'True', 'ByAppo...</td>\n",
              "      <td>Home Services, Plumbing, Electricians, Handyma...</td>\n",
              "      <td>{'Monday': '0:0-0:0', 'Tuesday': '9:0-16:0', '...</td>\n",
              "    </tr>\n",
              "  </tbody>\n",
              "</table>\n",
              "</div>"
            ],
            "text/plain": [
              "              business_id  ...                                              hours\n",
              "0  f9NumwFMBDn751xgFiRbNA  ...  {'Monday': '10:0-18:0', 'Tuesday': '11:0-20:0'...\n",
              "1  Yzvjg0SayhoZgCljUJRF9Q  ...                                                NaN\n",
              "2  XNoUzKckATkOD1hP6vghZg  ...                                                NaN\n",
              "3  6OAZjbxqM5ol29BuHsil3w  ...  {'Monday': '7:0-16:0', 'Tuesday': '7:0-16:0', ...\n",
              "4  51M2Kk903DFYI6gnB5I6SQ  ...  {'Monday': '0:0-0:0', 'Tuesday': '9:0-16:0', '...\n",
              "\n",
              "[5 rows x 14 columns]"
            ]
          },
          "metadata": {
            "tags": []
          },
          "execution_count": 7
        }
      ]
    },
    {
      "cell_type": "code",
      "metadata": {
        "id": "jJIcRLw6Eaf_",
        "colab_type": "code",
        "outputId": "ade13ab4-c621-492b-e516-1f0eeb94d37c",
        "colab": {
          "base_uri": "https://localhost:8080/",
          "height": 345
        }
      },
      "source": [
        "review = []\n",
        "for line in open('yelp_academic_dataset_review.json', 'r'):\n",
        "    review.append(json.loads(line))\n",
        "\n",
        "\n",
        "data_file = open('review_data_file.csv', 'w')\n",
        "csv_writer = csv.writer(data_file)\n",
        "\n",
        "count = 0\n",
        "  \n",
        "for emp in review: \n",
        "    if count == 0: \n",
        "  \n",
        "        # Writing headers of CSV file \n",
        "        header = emp.keys() \n",
        "        csv_writer.writerow(header) \n",
        "        count += 1\n",
        "  \n",
        "    # Writing data of CSV file \n",
        "    csv_writer.writerow(emp.values()) \n",
        "  \n",
        "data_file.close() \n",
        "del review\n",
        "review_tb = pd.read_csv(\"review_data_file.csv\")\n",
        "review_tb.head()"
      ],
      "execution_count": 0,
      "outputs": [
        {
          "output_type": "execute_result",
          "data": {
            "text/html": [
              "<div>\n",
              "<style scoped>\n",
              "    .dataframe tbody tr th:only-of-type {\n",
              "        vertical-align: middle;\n",
              "    }\n",
              "\n",
              "    .dataframe tbody tr th {\n",
              "        vertical-align: top;\n",
              "    }\n",
              "\n",
              "    .dataframe thead th {\n",
              "        text-align: right;\n",
              "    }\n",
              "</style>\n",
              "<table border=\"1\" class=\"dataframe\">\n",
              "  <thead>\n",
              "    <tr style=\"text-align: right;\">\n",
              "      <th></th>\n",
              "      <th>review_id</th>\n",
              "      <th>user_id</th>\n",
              "      <th>business_id</th>\n",
              "      <th>stars</th>\n",
              "      <th>useful</th>\n",
              "      <th>funny</th>\n",
              "      <th>cool</th>\n",
              "      <th>text</th>\n",
              "      <th>date</th>\n",
              "    </tr>\n",
              "  </thead>\n",
              "  <tbody>\n",
              "    <tr>\n",
              "      <th>0</th>\n",
              "      <td>xQY8N_XvtGbearJ5X4QryQ</td>\n",
              "      <td>OwjRMXRC0KyPrIlcjaXeFQ</td>\n",
              "      <td>-MhfebM0QIsKt87iDN-FNw</td>\n",
              "      <td>2.0</td>\n",
              "      <td>5</td>\n",
              "      <td>0</td>\n",
              "      <td>0</td>\n",
              "      <td>As someone who has worked with many museums, I...</td>\n",
              "      <td>2015-04-15 05:21:16</td>\n",
              "    </tr>\n",
              "    <tr>\n",
              "      <th>1</th>\n",
              "      <td>UmFMZ8PyXZTY2QcwzsfQYA</td>\n",
              "      <td>nIJD_7ZXHq-FX8byPMOkMQ</td>\n",
              "      <td>lbrU8StCq3yDfr-QMnGrmQ</td>\n",
              "      <td>1.0</td>\n",
              "      <td>1</td>\n",
              "      <td>1</td>\n",
              "      <td>0</td>\n",
              "      <td>I am actually horrified this place is still in...</td>\n",
              "      <td>2013-12-07 03:16:52</td>\n",
              "    </tr>\n",
              "    <tr>\n",
              "      <th>2</th>\n",
              "      <td>LG2ZaYiOgpr2DK_90pYjNw</td>\n",
              "      <td>V34qejxNsCbcgD8C0HVk-Q</td>\n",
              "      <td>HQl28KMwrEKHqhFrrDqVNQ</td>\n",
              "      <td>5.0</td>\n",
              "      <td>1</td>\n",
              "      <td>0</td>\n",
              "      <td>0</td>\n",
              "      <td>I love Deagan's. I do. I really do. The atmosp...</td>\n",
              "      <td>2015-12-05 03:18:11</td>\n",
              "    </tr>\n",
              "    <tr>\n",
              "      <th>3</th>\n",
              "      <td>i6g_oA9Yf9Y31qt0wibXpw</td>\n",
              "      <td>ofKDkJKXSKZXu5xJNGiiBQ</td>\n",
              "      <td>5JxlZaqCnk1MnbgRirs40Q</td>\n",
              "      <td>1.0</td>\n",
              "      <td>0</td>\n",
              "      <td>0</td>\n",
              "      <td>0</td>\n",
              "      <td>Dismal, lukewarm, defrosted-tasting \"TexMex\" g...</td>\n",
              "      <td>2011-05-27 05:30:52</td>\n",
              "    </tr>\n",
              "    <tr>\n",
              "      <th>4</th>\n",
              "      <td>6TdNDKywdbjoTkizeMce8A</td>\n",
              "      <td>UgMW8bLE0QMJDCkQ1Ax5Mg</td>\n",
              "      <td>IS4cv902ykd8wj1TR0N3-A</td>\n",
              "      <td>4.0</td>\n",
              "      <td>0</td>\n",
              "      <td>0</td>\n",
              "      <td>0</td>\n",
              "      <td>Oh happy day, finally have a Canes near my cas...</td>\n",
              "      <td>2017-01-14 21:56:57</td>\n",
              "    </tr>\n",
              "  </tbody>\n",
              "</table>\n",
              "</div>"
            ],
            "text/plain": [
              "                review_id  ...                 date\n",
              "0  xQY8N_XvtGbearJ5X4QryQ  ...  2015-04-15 05:21:16\n",
              "1  UmFMZ8PyXZTY2QcwzsfQYA  ...  2013-12-07 03:16:52\n",
              "2  LG2ZaYiOgpr2DK_90pYjNw  ...  2015-12-05 03:18:11\n",
              "3  i6g_oA9Yf9Y31qt0wibXpw  ...  2011-05-27 05:30:52\n",
              "4  6TdNDKywdbjoTkizeMce8A  ...  2017-01-14 21:56:57\n",
              "\n",
              "[5 rows x 9 columns]"
            ]
          },
          "metadata": {
            "tags": []
          },
          "execution_count": 8
        }
      ]
    },
    {
      "cell_type": "markdown",
      "metadata": {
        "id": "vdcQkEQeywuQ",
        "colab_type": "text"
      },
      "source": [
        "## Preliminary analysis of the data"
      ]
    },
    {
      "cell_type": "code",
      "metadata": {
        "id": "pHloY9fKy0Vj",
        "colab_type": "code",
        "outputId": "13fda931-5e01-4453-8ad5-0cb682e0fe09",
        "colab": {
          "base_uri": "https://localhost:8080/",
          "height": 127
        }
      },
      "source": [
        " print(\"\\033[1mRaw Data Stats:\\033[0m \\n\")\n",
        "\n",
        "print(\"Number of Businesses in the data :\", len(business_tb['business_id'].unique()))\n",
        "print(f\"Across {len(business_tb['state'].unique())} states and {len(business_tb['city'].unique())} cities :\" )\n",
        "print(\"Number of Users in the data      :\", len(us_tb['user_id'].unique()))\n",
        "print(\"Number of Reviews in the data    :\", len(review_tb['review_id'].unique()))\n"
      ],
      "execution_count": 0,
      "outputs": [
        {
          "output_type": "stream",
          "text": [
            "\u001b[1mRaw Data Stats:\u001b[0m \n",
            "\n",
            "Number of Businesses in the data : 209393\n",
            "Across 37 states and 1251 cities :\n",
            "Number of Users in the data      : 1968703\n",
            "Number of Reviews in the data    : 8021122\n"
          ],
          "name": "stdout"
        }
      ]
    },
    {
      "cell_type": "markdown",
      "metadata": {
        "id": "asymRticZAU0",
        "colab_type": "text"
      },
      "source": [
        "## Extracting the relevant variables\n",
        "\n",
        "Now, that we have the 3 tables for users, businesses and reviews, we will be joining the dataframes and retaining only the relavant entries "
      ]
    },
    {
      "cell_type": "code",
      "metadata": {
        "id": "T6upH7VoHVOU",
        "colab_type": "code",
        "outputId": "62dbb219-3794-4f60-c549-5bd0a2a90616",
        "colab": {
          "base_uri": "https://localhost:8080/",
          "height": 206
        }
      },
      "source": [
        "#Since we wont be using all the attributes in the review table, we save the relevant columns in a new dataframe\n",
        "subset_df = review_tb[['review_id', 'user_id', 'business_id', 'stars', 'text', 'date']]\n",
        "subset_df.columns = ['review_id', 'user_id', 'business_id', 'review_stars', 'text', 'date'] #renaming the columns for ease\n",
        "subset_df.head()"
      ],
      "execution_count": 0,
      "outputs": [
        {
          "output_type": "execute_result",
          "data": {
            "text/html": [
              "<div>\n",
              "<style scoped>\n",
              "    .dataframe tbody tr th:only-of-type {\n",
              "        vertical-align: middle;\n",
              "    }\n",
              "\n",
              "    .dataframe tbody tr th {\n",
              "        vertical-align: top;\n",
              "    }\n",
              "\n",
              "    .dataframe thead th {\n",
              "        text-align: right;\n",
              "    }\n",
              "</style>\n",
              "<table border=\"1\" class=\"dataframe\">\n",
              "  <thead>\n",
              "    <tr style=\"text-align: right;\">\n",
              "      <th></th>\n",
              "      <th>review_id</th>\n",
              "      <th>user_id</th>\n",
              "      <th>business_id</th>\n",
              "      <th>review_stars</th>\n",
              "      <th>text</th>\n",
              "      <th>date</th>\n",
              "    </tr>\n",
              "  </thead>\n",
              "  <tbody>\n",
              "    <tr>\n",
              "      <th>0</th>\n",
              "      <td>xQY8N_XvtGbearJ5X4QryQ</td>\n",
              "      <td>OwjRMXRC0KyPrIlcjaXeFQ</td>\n",
              "      <td>-MhfebM0QIsKt87iDN-FNw</td>\n",
              "      <td>2.0</td>\n",
              "      <td>As someone who has worked ...</td>\n",
              "      <td>2015-04-15 05:21:16</td>\n",
              "    </tr>\n",
              "    <tr>\n",
              "      <th>1</th>\n",
              "      <td>UmFMZ8PyXZTY2QcwzsfQYA</td>\n",
              "      <td>nIJD_7ZXHq-FX8byPMOkMQ</td>\n",
              "      <td>lbrU8StCq3yDfr-QMnGrmQ</td>\n",
              "      <td>1.0</td>\n",
              "      <td>I am actually horrified th...</td>\n",
              "      <td>2013-12-07 03:16:52</td>\n",
              "    </tr>\n",
              "    <tr>\n",
              "      <th>2</th>\n",
              "      <td>LG2ZaYiOgpr2DK_90pYjNw</td>\n",
              "      <td>V34qejxNsCbcgD8C0HVk-Q</td>\n",
              "      <td>HQl28KMwrEKHqhFrrDqVNQ</td>\n",
              "      <td>5.0</td>\n",
              "      <td>I love Deagan's. I do. I r...</td>\n",
              "      <td>2015-12-05 03:18:11</td>\n",
              "    </tr>\n",
              "    <tr>\n",
              "      <th>3</th>\n",
              "      <td>i6g_oA9Yf9Y31qt0wibXpw</td>\n",
              "      <td>ofKDkJKXSKZXu5xJNGiiBQ</td>\n",
              "      <td>5JxlZaqCnk1MnbgRirs40Q</td>\n",
              "      <td>1.0</td>\n",
              "      <td>Dismal, lukewarm, defroste...</td>\n",
              "      <td>2011-05-27 05:30:52</td>\n",
              "    </tr>\n",
              "    <tr>\n",
              "      <th>4</th>\n",
              "      <td>6TdNDKywdbjoTkizeMce8A</td>\n",
              "      <td>UgMW8bLE0QMJDCkQ1Ax5Mg</td>\n",
              "      <td>IS4cv902ykd8wj1TR0N3-A</td>\n",
              "      <td>4.0</td>\n",
              "      <td>Oh happy day, finally have...</td>\n",
              "      <td>2017-01-14 21:56:57</td>\n",
              "    </tr>\n",
              "  </tbody>\n",
              "</table>\n",
              "</div>"
            ],
            "text/plain": [
              "                review_id  ...                 date\n",
              "0  xQY8N_XvtGbearJ5X4QryQ  ...  2015-04-15 05:21:16\n",
              "1  UmFMZ8PyXZTY2QcwzsfQYA  ...  2013-12-07 03:16:52\n",
              "2  LG2ZaYiOgpr2DK_90pYjNw  ...  2015-12-05 03:18:11\n",
              "3  i6g_oA9Yf9Y31qt0wibXpw  ...  2011-05-27 05:30:52\n",
              "4  6TdNDKywdbjoTkizeMce8A  ...  2017-01-14 21:56:57\n",
              "\n",
              "[5 rows x 6 columns]"
            ]
          },
          "metadata": {
            "tags": []
          },
          "execution_count": 36
        }
      ]
    },
    {
      "cell_type": "markdown",
      "metadata": {
        "id": "KhYwtkUgbeOo",
        "colab_type": "text"
      },
      "source": [
        "## Identifying relevant businesses"
      ]
    },
    {
      "cell_type": "code",
      "metadata": {
        "id": "abrY9rGxJAQK",
        "colab_type": "code",
        "outputId": "b60a3601-4026-4e82-a425-f8358da1b82b",
        "colab": {
          "base_uri": "https://localhost:8080/",
          "height": 452
        }
      },
      "source": [
        "# for the business tabel, we would have to do a little clean up the Categories column. \n",
        "# The objective is to identify the businesses with the tag 'Restaurant' in them.\n",
        "# The count column measures the number of categories tag per business. \n",
        "business_tb = pd.read_csv(\"business_data_file.csv\")\n",
        "business_tb['categories'] = business_tb['categories'].apply(lambda x: str(x).split(','))\n",
        "business_tb['categories'] = business_tb['categories'].apply(lambda x: [y.strip() for y in x])\n",
        "\n",
        "business_tb['count'] = business_tb['categories'].apply(lambda x: len(x))\n",
        "business_tb['food'] = business_tb['categories'].apply(lambda x: 'Restaurants' in x)\n",
        "business_tb.head()\n"
      ],
      "execution_count": 0,
      "outputs": [
        {
          "output_type": "execute_result",
          "data": {
            "text/html": [
              "<div>\n",
              "<style scoped>\n",
              "    .dataframe tbody tr th:only-of-type {\n",
              "        vertical-align: middle;\n",
              "    }\n",
              "\n",
              "    .dataframe tbody tr th {\n",
              "        vertical-align: top;\n",
              "    }\n",
              "\n",
              "    .dataframe thead th {\n",
              "        text-align: right;\n",
              "    }\n",
              "</style>\n",
              "<table border=\"1\" class=\"dataframe\">\n",
              "  <thead>\n",
              "    <tr style=\"text-align: right;\">\n",
              "      <th></th>\n",
              "      <th>business_id</th>\n",
              "      <th>name</th>\n",
              "      <th>address</th>\n",
              "      <th>city</th>\n",
              "      <th>state</th>\n",
              "      <th>postal_code</th>\n",
              "      <th>latitude</th>\n",
              "      <th>longitude</th>\n",
              "      <th>stars</th>\n",
              "      <th>review_count</th>\n",
              "      <th>is_open</th>\n",
              "      <th>attributes</th>\n",
              "      <th>categories</th>\n",
              "      <th>hours</th>\n",
              "      <th>count</th>\n",
              "      <th>food</th>\n",
              "    </tr>\n",
              "  </thead>\n",
              "  <tbody>\n",
              "    <tr>\n",
              "      <th>0</th>\n",
              "      <td>f9NumwFMBDn751xgFiRbNA</td>\n",
              "      <td>The Range At Lake Norman</td>\n",
              "      <td>10913 Bailey Rd</td>\n",
              "      <td>Cornelius</td>\n",
              "      <td>NC</td>\n",
              "      <td>28031</td>\n",
              "      <td>35.462724</td>\n",
              "      <td>-80.852612</td>\n",
              "      <td>3.5</td>\n",
              "      <td>36</td>\n",
              "      <td>1</td>\n",
              "      <td>{'BusinessAcceptsCreditCar...</td>\n",
              "      <td>[Active Life, Gun/Rifle Ra...</td>\n",
              "      <td>{'Monday': '10:0-18:0', 'T...</td>\n",
              "      <td>4</td>\n",
              "      <td>False</td>\n",
              "    </tr>\n",
              "    <tr>\n",
              "      <th>1</th>\n",
              "      <td>Yzvjg0SayhoZgCljUJRF9Q</td>\n",
              "      <td>Carlos Santo, NMD</td>\n",
              "      <td>8880 E Via Linda, Ste 107</td>\n",
              "      <td>Scottsdale</td>\n",
              "      <td>AZ</td>\n",
              "      <td>85258</td>\n",
              "      <td>33.569404</td>\n",
              "      <td>-111.890264</td>\n",
              "      <td>5.0</td>\n",
              "      <td>4</td>\n",
              "      <td>1</td>\n",
              "      <td>{'GoodForKids': 'True', 'B...</td>\n",
              "      <td>[Health &amp; Medical, Fitness...</td>\n",
              "      <td>NaN</td>\n",
              "      <td>5</td>\n",
              "      <td>False</td>\n",
              "    </tr>\n",
              "    <tr>\n",
              "      <th>2</th>\n",
              "      <td>XNoUzKckATkOD1hP6vghZg</td>\n",
              "      <td>Felinus</td>\n",
              "      <td>3554 Rue Notre-Dame O</td>\n",
              "      <td>Montreal</td>\n",
              "      <td>QC</td>\n",
              "      <td>H4C 1P4</td>\n",
              "      <td>45.479984</td>\n",
              "      <td>-73.580070</td>\n",
              "      <td>5.0</td>\n",
              "      <td>5</td>\n",
              "      <td>1</td>\n",
              "      <td>NaN</td>\n",
              "      <td>[Pets, Pet Services, Pet G...</td>\n",
              "      <td>NaN</td>\n",
              "      <td>3</td>\n",
              "      <td>False</td>\n",
              "    </tr>\n",
              "    <tr>\n",
              "      <th>3</th>\n",
              "      <td>6OAZjbxqM5ol29BuHsil3w</td>\n",
              "      <td>Nevada House of Hose</td>\n",
              "      <td>1015 Sharp Cir</td>\n",
              "      <td>North Las Vegas</td>\n",
              "      <td>NV</td>\n",
              "      <td>89030</td>\n",
              "      <td>36.219728</td>\n",
              "      <td>-115.127725</td>\n",
              "      <td>2.5</td>\n",
              "      <td>3</td>\n",
              "      <td>0</td>\n",
              "      <td>{'BusinessAcceptsCreditCar...</td>\n",
              "      <td>[Hardware Stores, Home Ser...</td>\n",
              "      <td>{'Monday': '7:0-16:0', 'Tu...</td>\n",
              "      <td>5</td>\n",
              "      <td>False</td>\n",
              "    </tr>\n",
              "    <tr>\n",
              "      <th>4</th>\n",
              "      <td>51M2Kk903DFYI6gnB5I6SQ</td>\n",
              "      <td>USE MY GUY SERVICES LLC</td>\n",
              "      <td>4827 E Downing Cir</td>\n",
              "      <td>Mesa</td>\n",
              "      <td>AZ</td>\n",
              "      <td>85205</td>\n",
              "      <td>33.428065</td>\n",
              "      <td>-111.726649</td>\n",
              "      <td>4.5</td>\n",
              "      <td>26</td>\n",
              "      <td>1</td>\n",
              "      <td>{'BusinessAcceptsCreditCar...</td>\n",
              "      <td>[Home Services, Plumbing, ...</td>\n",
              "      <td>{'Monday': '0:0-0:0', 'Tue...</td>\n",
              "      <td>5</td>\n",
              "      <td>False</td>\n",
              "    </tr>\n",
              "  </tbody>\n",
              "</table>\n",
              "</div>"
            ],
            "text/plain": [
              "              business_id                      name  ... count   food\n",
              "0  f9NumwFMBDn751xgFiRbNA  The Range At Lake Norman  ...     4  False\n",
              "1  Yzvjg0SayhoZgCljUJRF9Q         Carlos Santo, NMD  ...     5  False\n",
              "2  XNoUzKckATkOD1hP6vghZg                   Felinus  ...     3  False\n",
              "3  6OAZjbxqM5ol29BuHsil3w      Nevada House of Hose  ...     5  False\n",
              "4  51M2Kk903DFYI6gnB5I6SQ   USE MY GUY SERVICES LLC  ...     5  False\n",
              "\n",
              "[5 rows x 16 columns]"
            ]
          },
          "metadata": {
            "tags": []
          },
          "execution_count": 37
        }
      ]
    },
    {
      "cell_type": "code",
      "metadata": {
        "id": "3FUpqrIsKQXD",
        "colab_type": "code",
        "outputId": "677e50b6-31fb-41a3-b639-2f52d4685a85",
        "colab": {
          "base_uri": "https://localhost:8080/",
          "height": 112
        }
      },
      "source": [
        "#let us look at the total number of businesses that have the tag 'Restaurants' \n",
        "\n",
        "count  = pd.DataFrame(business_tb['food'].value_counts())\n",
        "count.columns = ['Food']\n",
        "count"
      ],
      "execution_count": 0,
      "outputs": [
        {
          "output_type": "execute_result",
          "data": {
            "text/html": [
              "<div>\n",
              "<style scoped>\n",
              "    .dataframe tbody tr th:only-of-type {\n",
              "        vertical-align: middle;\n",
              "    }\n",
              "\n",
              "    .dataframe tbody tr th {\n",
              "        vertical-align: top;\n",
              "    }\n",
              "\n",
              "    .dataframe thead th {\n",
              "        text-align: right;\n",
              "    }\n",
              "</style>\n",
              "<table border=\"1\" class=\"dataframe\">\n",
              "  <thead>\n",
              "    <tr style=\"text-align: right;\">\n",
              "      <th></th>\n",
              "      <th>Food</th>\n",
              "    </tr>\n",
              "  </thead>\n",
              "  <tbody>\n",
              "    <tr>\n",
              "      <th>False</th>\n",
              "      <td>145449</td>\n",
              "    </tr>\n",
              "    <tr>\n",
              "      <th>True</th>\n",
              "      <td>63944</td>\n",
              "    </tr>\n",
              "  </tbody>\n",
              "</table>\n",
              "</div>"
            ],
            "text/plain": [
              "         Food\n",
              "False  145449\n",
              "True    63944"
            ]
          },
          "metadata": {
            "tags": []
          },
          "execution_count": 41
        }
      ]
    },
    {
      "cell_type": "markdown",
      "metadata": {
        "id": "7AIJr8bZZo8J",
        "colab_type": "text"
      },
      "source": [
        "We see there are about 60K businesses with the tag 'Restaurants'"
      ]
    },
    {
      "cell_type": "code",
      "metadata": {
        "id": "yOChbmK_HnZk",
        "colab_type": "code",
        "outputId": "21106b1e-a84b-4cec-e451-7022d325dbf2",
        "colab": {
          "base_uri": "https://localhost:8080/",
          "height": 452
        }
      },
      "source": [
        "# Let us now merge the subset and business table to add the business name, state. \n",
        "pd.options.display.max_colwidth=30\n",
        "subset_df = pd.merge(subset_df,business_tb, how= 'left',on='business_id')[['review_id', 'user_id', 'business_id','name','city','state', 'review_stars', 'text', 'date','categories','food']]\n",
        "subset_df.columns = ['review_id', 'user_id', 'business_id', 'business_name','city', 'state','review_stars', 'text', 'date',  'categories', 'food']\n",
        "# Renaming columns to reflect the appropriate heading\n",
        "\n",
        "\n",
        "#Joining the table with the user table to add the user name, and the data since when the user has been on Yelp\n",
        "subset_df = pd.merge(subset_df,us_tb, how= 'left',on='user_id')[['review_id', 'user_id', 'business_id', \n",
        "                                                     'business_name','city', 'state','review_stars', 'text', 'date', 'categories', 'food', 'name']]\n",
        "subset_df.head()"
      ],
      "execution_count": 0,
      "outputs": [
        {
          "output_type": "execute_result",
          "data": {
            "text/html": [
              "<div>\n",
              "<style scoped>\n",
              "    .dataframe tbody tr th:only-of-type {\n",
              "        vertical-align: middle;\n",
              "    }\n",
              "\n",
              "    .dataframe tbody tr th {\n",
              "        vertical-align: top;\n",
              "    }\n",
              "\n",
              "    .dataframe thead th {\n",
              "        text-align: right;\n",
              "    }\n",
              "</style>\n",
              "<table border=\"1\" class=\"dataframe\">\n",
              "  <thead>\n",
              "    <tr style=\"text-align: right;\">\n",
              "      <th></th>\n",
              "      <th>review_id</th>\n",
              "      <th>user_id</th>\n",
              "      <th>business_id</th>\n",
              "      <th>business_name</th>\n",
              "      <th>city</th>\n",
              "      <th>state</th>\n",
              "      <th>review_stars</th>\n",
              "      <th>text</th>\n",
              "      <th>date</th>\n",
              "      <th>categories</th>\n",
              "      <th>food</th>\n",
              "      <th>name</th>\n",
              "    </tr>\n",
              "  </thead>\n",
              "  <tbody>\n",
              "    <tr>\n",
              "      <th>0</th>\n",
              "      <td>xQY8N_XvtGbearJ5X4QryQ</td>\n",
              "      <td>OwjRMXRC0KyPrIlcjaXeFQ</td>\n",
              "      <td>-MhfebM0QIsKt87iDN-FNw</td>\n",
              "      <td>Bellagio Gallery of Fine Art</td>\n",
              "      <td>Las Vegas</td>\n",
              "      <td>NV</td>\n",
              "      <td>2.0</td>\n",
              "      <td>As someone who has worked ...</td>\n",
              "      <td>2015-04-15 05:21:16</td>\n",
              "      <td>[Shopping, Arts &amp; Entertai...</td>\n",
              "      <td>False</td>\n",
              "      <td>Jamie</td>\n",
              "    </tr>\n",
              "    <tr>\n",
              "      <th>1</th>\n",
              "      <td>UmFMZ8PyXZTY2QcwzsfQYA</td>\n",
              "      <td>nIJD_7ZXHq-FX8byPMOkMQ</td>\n",
              "      <td>lbrU8StCq3yDfr-QMnGrmQ</td>\n",
              "      <td>Rio Hair Salon</td>\n",
              "      <td>Chandler</td>\n",
              "      <td>AZ</td>\n",
              "      <td>1.0</td>\n",
              "      <td>I am actually horrified th...</td>\n",
              "      <td>2013-12-07 03:16:52</td>\n",
              "      <td>[Beauty &amp; Spas, Hair Salons]</td>\n",
              "      <td>False</td>\n",
              "      <td>Nicole</td>\n",
              "    </tr>\n",
              "    <tr>\n",
              "      <th>2</th>\n",
              "      <td>LG2ZaYiOgpr2DK_90pYjNw</td>\n",
              "      <td>V34qejxNsCbcgD8C0HVk-Q</td>\n",
              "      <td>HQl28KMwrEKHqhFrrDqVNQ</td>\n",
              "      <td>Deagan's Kitchen &amp; Bar</td>\n",
              "      <td>Lakewood</td>\n",
              "      <td>OH</td>\n",
              "      <td>5.0</td>\n",
              "      <td>I love Deagan's. I do. I r...</td>\n",
              "      <td>2015-12-05 03:18:11</td>\n",
              "      <td>[Restaurants, Gastropubs, ...</td>\n",
              "      <td>True</td>\n",
              "      <td>Danielle</td>\n",
              "    </tr>\n",
              "    <tr>\n",
              "      <th>3</th>\n",
              "      <td>i6g_oA9Yf9Y31qt0wibXpw</td>\n",
              "      <td>ofKDkJKXSKZXu5xJNGiiBQ</td>\n",
              "      <td>5JxlZaqCnk1MnbgRirs40Q</td>\n",
              "      <td>Cabo Mexican Restaurant</td>\n",
              "      <td>Las Vegas</td>\n",
              "      <td>NV</td>\n",
              "      <td>1.0</td>\n",
              "      <td>Dismal, lukewarm, defroste...</td>\n",
              "      <td>2011-05-27 05:30:52</td>\n",
              "      <td>[Restaurants, Mexican]</td>\n",
              "      <td>True</td>\n",
              "      <td>Butch</td>\n",
              "    </tr>\n",
              "    <tr>\n",
              "      <th>4</th>\n",
              "      <td>6TdNDKywdbjoTkizeMce8A</td>\n",
              "      <td>UgMW8bLE0QMJDCkQ1Ax5Mg</td>\n",
              "      <td>IS4cv902ykd8wj1TR0N3-A</td>\n",
              "      <td>Raising Cane's Chicken Fin...</td>\n",
              "      <td>Henderson</td>\n",
              "      <td>NV</td>\n",
              "      <td>4.0</td>\n",
              "      <td>Oh happy day, finally have...</td>\n",
              "      <td>2017-01-14 21:56:57</td>\n",
              "      <td>[Fast Food, Restaurants, S...</td>\n",
              "      <td>True</td>\n",
              "      <td>Micah</td>\n",
              "    </tr>\n",
              "  </tbody>\n",
              "</table>\n",
              "</div>"
            ],
            "text/plain": [
              "                review_id                 user_id  ...   food      name\n",
              "0  xQY8N_XvtGbearJ5X4QryQ  OwjRMXRC0KyPrIlcjaXeFQ  ...  False     Jamie\n",
              "1  UmFMZ8PyXZTY2QcwzsfQYA  nIJD_7ZXHq-FX8byPMOkMQ  ...  False    Nicole\n",
              "2  LG2ZaYiOgpr2DK_90pYjNw  V34qejxNsCbcgD8C0HVk-Q  ...   True  Danielle\n",
              "3  i6g_oA9Yf9Y31qt0wibXpw  ofKDkJKXSKZXu5xJNGiiBQ  ...   True     Butch\n",
              "4  6TdNDKywdbjoTkizeMce8A  UgMW8bLE0QMJDCkQ1Ax5Mg  ...   True     Micah\n",
              "\n",
              "[5 rows x 12 columns]"
            ]
          },
          "metadata": {
            "tags": []
          },
          "execution_count": 42
        }
      ]
    },
    {
      "cell_type": "markdown",
      "metadata": {
        "id": "VghFFQHucly2",
        "colab_type": "text"
      },
      "source": [
        "For the ALS algorithm, the user ids and the item ids have to be integer values, thus, we have to create a uiz and biz for the same"
      ]
    },
    {
      "cell_type": "code",
      "metadata": {
        "id": "XOC70jn71wtI",
        "colab_type": "code",
        "outputId": "9681f764-435f-40e3-baab-1defab990c39",
        "colab": {
          "base_uri": "https://localhost:8080/",
          "height": 452
        }
      },
      "source": [
        "#Generating the numeric ids\n",
        "uiz = sorted(list(subset_df['user_id'].unique()))\n",
        "uiz = {uiz[k]:k for k in range(len(uiz))} \n",
        "\n",
        "biz = sorted(list(subset_df['business_id'].unique()))\n",
        "biz = {biz[k]:k for k in range(len(biz))}\n",
        "\n",
        "# updating the subset dataframe\n",
        "subset_df['uiz'] = subset_df['user_id'].apply(lambda x: uiz[x])\n",
        "subset_df['biz'] = subset_df['business_id'].apply(lambda x: biz[x])\n",
        "subset_df.head()"
      ],
      "execution_count": 0,
      "outputs": [
        {
          "output_type": "execute_result",
          "data": {
            "text/html": [
              "<div>\n",
              "<style scoped>\n",
              "    .dataframe tbody tr th:only-of-type {\n",
              "        vertical-align: middle;\n",
              "    }\n",
              "\n",
              "    .dataframe tbody tr th {\n",
              "        vertical-align: top;\n",
              "    }\n",
              "\n",
              "    .dataframe thead th {\n",
              "        text-align: right;\n",
              "    }\n",
              "</style>\n",
              "<table border=\"1\" class=\"dataframe\">\n",
              "  <thead>\n",
              "    <tr style=\"text-align: right;\">\n",
              "      <th></th>\n",
              "      <th>review_id</th>\n",
              "      <th>user_id</th>\n",
              "      <th>business_id</th>\n",
              "      <th>business_name</th>\n",
              "      <th>city</th>\n",
              "      <th>state</th>\n",
              "      <th>review_stars</th>\n",
              "      <th>text</th>\n",
              "      <th>date</th>\n",
              "      <th>categories</th>\n",
              "      <th>food</th>\n",
              "      <th>name</th>\n",
              "      <th>uiz</th>\n",
              "      <th>biz</th>\n",
              "    </tr>\n",
              "  </thead>\n",
              "  <tbody>\n",
              "    <tr>\n",
              "      <th>0</th>\n",
              "      <td>xQY8N_XvtGbearJ5X4QryQ</td>\n",
              "      <td>OwjRMXRC0KyPrIlcjaXeFQ</td>\n",
              "      <td>-MhfebM0QIsKt87iDN-FNw</td>\n",
              "      <td>Bellagio Gallery of Fine Art</td>\n",
              "      <td>Las Vegas</td>\n",
              "      <td>NV</td>\n",
              "      <td>2.0</td>\n",
              "      <td>As someone who has worked ...</td>\n",
              "      <td>2015-04-15 05:21:16</td>\n",
              "      <td>[Shopping, Arts &amp; Entertai...</td>\n",
              "      <td>False</td>\n",
              "      <td>Jamie</td>\n",
              "      <td>797678</td>\n",
              "      <td>1205</td>\n",
              "    </tr>\n",
              "    <tr>\n",
              "      <th>1</th>\n",
              "      <td>UmFMZ8PyXZTY2QcwzsfQYA</td>\n",
              "      <td>nIJD_7ZXHq-FX8byPMOkMQ</td>\n",
              "      <td>lbrU8StCq3yDfr-QMnGrmQ</td>\n",
              "      <td>Rio Hair Salon</td>\n",
              "      <td>Chandler</td>\n",
              "      <td>AZ</td>\n",
              "      <td>1.0</td>\n",
              "      <td>I am actually horrified th...</td>\n",
              "      <td>2013-12-07 03:16:52</td>\n",
              "      <td>[Beauty &amp; Spas, Hair Salons]</td>\n",
              "      <td>False</td>\n",
              "      <td>Nicole</td>\n",
              "      <td>1578288</td>\n",
              "      <td>162380</td>\n",
              "    </tr>\n",
              "    <tr>\n",
              "      <th>2</th>\n",
              "      <td>LG2ZaYiOgpr2DK_90pYjNw</td>\n",
              "      <td>V34qejxNsCbcgD8C0HVk-Q</td>\n",
              "      <td>HQl28KMwrEKHqhFrrDqVNQ</td>\n",
              "      <td>Deagan's Kitchen &amp; Bar</td>\n",
              "      <td>Lakewood</td>\n",
              "      <td>OH</td>\n",
              "      <td>5.0</td>\n",
              "      <td>I love Deagan's. I do. I r...</td>\n",
              "      <td>2015-12-05 03:18:11</td>\n",
              "      <td>[Restaurants, Gastropubs, ...</td>\n",
              "      <td>True</td>\n",
              "      <td>Danielle</td>\n",
              "      <td>986024</td>\n",
              "      <td>60325</td>\n",
              "    </tr>\n",
              "    <tr>\n",
              "      <th>3</th>\n",
              "      <td>i6g_oA9Yf9Y31qt0wibXpw</td>\n",
              "      <td>ofKDkJKXSKZXu5xJNGiiBQ</td>\n",
              "      <td>5JxlZaqCnk1MnbgRirs40Q</td>\n",
              "      <td>Cabo Mexican Restaurant</td>\n",
              "      <td>Las Vegas</td>\n",
              "      <td>NV</td>\n",
              "      <td>1.0</td>\n",
              "      <td>Dismal, lukewarm, defroste...</td>\n",
              "      <td>2011-05-27 05:30:52</td>\n",
              "      <td>[Restaurants, Mexican]</td>\n",
              "      <td>True</td>\n",
              "      <td>Butch</td>\n",
              "      <td>1620429</td>\n",
              "      <td>20429</td>\n",
              "    </tr>\n",
              "    <tr>\n",
              "      <th>4</th>\n",
              "      <td>6TdNDKywdbjoTkizeMce8A</td>\n",
              "      <td>UgMW8bLE0QMJDCkQ1Ax5Mg</td>\n",
              "      <td>IS4cv902ykd8wj1TR0N3-A</td>\n",
              "      <td>Raising Cane's Chicken Fin...</td>\n",
              "      <td>Henderson</td>\n",
              "      <td>NV</td>\n",
              "      <td>4.0</td>\n",
              "      <td>Oh happy day, finally have...</td>\n",
              "      <td>2017-01-14 21:56:57</td>\n",
              "      <td>[Fast Food, Restaurants, S...</td>\n",
              "      <td>True</td>\n",
              "      <td>Micah</td>\n",
              "      <td>974620</td>\n",
              "      <td>63596</td>\n",
              "    </tr>\n",
              "  </tbody>\n",
              "</table>\n",
              "</div>"
            ],
            "text/plain": [
              "                review_id                 user_id  ...      uiz     biz\n",
              "0  xQY8N_XvtGbearJ5X4QryQ  OwjRMXRC0KyPrIlcjaXeFQ  ...   797678    1205\n",
              "1  UmFMZ8PyXZTY2QcwzsfQYA  nIJD_7ZXHq-FX8byPMOkMQ  ...  1578288  162380\n",
              "2  LG2ZaYiOgpr2DK_90pYjNw  V34qejxNsCbcgD8C0HVk-Q  ...   986024   60325\n",
              "3  i6g_oA9Yf9Y31qt0wibXpw  ofKDkJKXSKZXu5xJNGiiBQ  ...  1620429   20429\n",
              "4  6TdNDKywdbjoTkizeMce8A  UgMW8bLE0QMJDCkQ1Ax5Mg  ...   974620   63596\n",
              "\n",
              "[5 rows x 14 columns]"
            ]
          },
          "metadata": {
            "tags": []
          },
          "execution_count": 43
        }
      ]
    },
    {
      "cell_type": "markdown",
      "metadata": {
        "id": "9BzE0cZ2fvP1",
        "colab_type": "text"
      },
      "source": [
        "## Filtering based on Business type and Location\n",
        "Now that we have extracted relevant variables, we will filter out the rows, we will retain all restaurants in Illinois. "
      ]
    },
    {
      "cell_type": "code",
      "metadata": {
        "id": "2iVlHVnUy-IS",
        "colab_type": "code",
        "outputId": "97e5e34a-c1f5-4922-a482-3f75225ac407",
        "colab": {
          "base_uri": "https://localhost:8080/",
          "height": 545
        }
      },
      "source": [
        "subset_df = subset_df[subset_df['food'] == True]\n",
        "\n",
        "#Quick Stats Check : \n",
        "print(\"\\033[1mRemaining Data Points for Restaurants\\033[0m\\n\")\n",
        "print(\"Number of Restaurants in the data :\", len(subset_df['business_id'].unique()))\n",
        "print(f\"Across {len(subset_df['state'].unique())} states and {len(subset_df['city'].unique())} cities\" )\n",
        "print(\"Number of Users in the data      :\", len(subset_df['user_id'].unique()))\n",
        "print(\"Number of Reviews in the data    :\", len(subset_df['review_id'].unique()))\n",
        "\n",
        "subset_df.head()"
      ],
      "execution_count": 0,
      "outputs": [
        {
          "output_type": "stream",
          "text": [
            "\u001b[1mRemaining Data Points for Restaurants\u001b[0m\n",
            "\n",
            "Number of Restaurants in the data : 63944\n",
            "Across 28 states and 813 cities\n",
            "Number of Users in the data      : 1399916\n",
            "Number of Reviews in the data    : 5055992\n"
          ],
          "name": "stdout"
        },
        {
          "output_type": "execute_result",
          "data": {
            "text/html": [
              "<div>\n",
              "<style scoped>\n",
              "    .dataframe tbody tr th:only-of-type {\n",
              "        vertical-align: middle;\n",
              "    }\n",
              "\n",
              "    .dataframe tbody tr th {\n",
              "        vertical-align: top;\n",
              "    }\n",
              "\n",
              "    .dataframe thead th {\n",
              "        text-align: right;\n",
              "    }\n",
              "</style>\n",
              "<table border=\"1\" class=\"dataframe\">\n",
              "  <thead>\n",
              "    <tr style=\"text-align: right;\">\n",
              "      <th></th>\n",
              "      <th>review_id</th>\n",
              "      <th>user_id</th>\n",
              "      <th>business_id</th>\n",
              "      <th>business_name</th>\n",
              "      <th>city</th>\n",
              "      <th>state</th>\n",
              "      <th>review_stars</th>\n",
              "      <th>text</th>\n",
              "      <th>date</th>\n",
              "      <th>categories</th>\n",
              "      <th>food</th>\n",
              "      <th>name</th>\n",
              "      <th>uiz</th>\n",
              "      <th>biz</th>\n",
              "    </tr>\n",
              "  </thead>\n",
              "  <tbody>\n",
              "    <tr>\n",
              "      <th>2</th>\n",
              "      <td>LG2ZaYiOgpr2DK_90pYjNw</td>\n",
              "      <td>V34qejxNsCbcgD8C0HVk-Q</td>\n",
              "      <td>HQl28KMwrEKHqhFrrDqVNQ</td>\n",
              "      <td>Deagan's Kitchen &amp; Bar</td>\n",
              "      <td>Lakewood</td>\n",
              "      <td>OH</td>\n",
              "      <td>5.0</td>\n",
              "      <td>I love Deagan's. I do. I r...</td>\n",
              "      <td>2015-12-05 03:18:11</td>\n",
              "      <td>[Restaurants, Gastropubs, ...</td>\n",
              "      <td>True</td>\n",
              "      <td>Danielle</td>\n",
              "      <td>986024</td>\n",
              "      <td>60325</td>\n",
              "    </tr>\n",
              "    <tr>\n",
              "      <th>3</th>\n",
              "      <td>i6g_oA9Yf9Y31qt0wibXpw</td>\n",
              "      <td>ofKDkJKXSKZXu5xJNGiiBQ</td>\n",
              "      <td>5JxlZaqCnk1MnbgRirs40Q</td>\n",
              "      <td>Cabo Mexican Restaurant</td>\n",
              "      <td>Las Vegas</td>\n",
              "      <td>NV</td>\n",
              "      <td>1.0</td>\n",
              "      <td>Dismal, lukewarm, defroste...</td>\n",
              "      <td>2011-05-27 05:30:52</td>\n",
              "      <td>[Restaurants, Mexican]</td>\n",
              "      <td>True</td>\n",
              "      <td>Butch</td>\n",
              "      <td>1620429</td>\n",
              "      <td>20429</td>\n",
              "    </tr>\n",
              "    <tr>\n",
              "      <th>4</th>\n",
              "      <td>6TdNDKywdbjoTkizeMce8A</td>\n",
              "      <td>UgMW8bLE0QMJDCkQ1Ax5Mg</td>\n",
              "      <td>IS4cv902ykd8wj1TR0N3-A</td>\n",
              "      <td>Raising Cane's Chicken Fin...</td>\n",
              "      <td>Henderson</td>\n",
              "      <td>NV</td>\n",
              "      <td>4.0</td>\n",
              "      <td>Oh happy day, finally have...</td>\n",
              "      <td>2017-01-14 21:56:57</td>\n",
              "      <td>[Fast Food, Restaurants, S...</td>\n",
              "      <td>True</td>\n",
              "      <td>Micah</td>\n",
              "      <td>974620</td>\n",
              "      <td>63596</td>\n",
              "    </tr>\n",
              "    <tr>\n",
              "      <th>5</th>\n",
              "      <td>L2O_INwlrRuoX05KSjc4eg</td>\n",
              "      <td>5vD2kmE25YBrbayKhykNxQ</td>\n",
              "      <td>nlxHRv1zXGT0c0K51q3jDg</td>\n",
              "      <td>Firehouse Subs</td>\n",
              "      <td>Henderson</td>\n",
              "      <td>NV</td>\n",
              "      <td>5.0</td>\n",
              "      <td>This is definitely my favo...</td>\n",
              "      <td>2013-05-07 07:25:25</td>\n",
              "      <td>[Restaurants, Delis, Sandw...</td>\n",
              "      <td>True</td>\n",
              "      <td>Gary</td>\n",
              "      <td>213081</td>\n",
              "      <td>169503</td>\n",
              "    </tr>\n",
              "    <tr>\n",
              "      <th>6</th>\n",
              "      <td>ZayJ1zWyWgY9S_TRLT_y9Q</td>\n",
              "      <td>aq_ZxGHiri48TUXJlpRkCQ</td>\n",
              "      <td>Pthe4qk5xh4n-ef-9bvMSg</td>\n",
              "      <td>Chon Thai Food</td>\n",
              "      <td>Chandler</td>\n",
              "      <td>AZ</td>\n",
              "      <td>5.0</td>\n",
              "      <td>Really good place with sim...</td>\n",
              "      <td>2015-11-05 23:11:05</td>\n",
              "      <td>[Restaurants, Thai]</td>\n",
              "      <td>True</td>\n",
              "      <td>Jagan</td>\n",
              "      <td>1194664</td>\n",
              "      <td>87979</td>\n",
              "    </tr>\n",
              "  </tbody>\n",
              "</table>\n",
              "</div>"
            ],
            "text/plain": [
              "                review_id                 user_id  ...      uiz     biz\n",
              "2  LG2ZaYiOgpr2DK_90pYjNw  V34qejxNsCbcgD8C0HVk-Q  ...   986024   60325\n",
              "3  i6g_oA9Yf9Y31qt0wibXpw  ofKDkJKXSKZXu5xJNGiiBQ  ...  1620429   20429\n",
              "4  6TdNDKywdbjoTkizeMce8A  UgMW8bLE0QMJDCkQ1Ax5Mg  ...   974620   63596\n",
              "5  L2O_INwlrRuoX05KSjc4eg  5vD2kmE25YBrbayKhykNxQ  ...   213081  169503\n",
              "6  ZayJ1zWyWgY9S_TRLT_y9Q  aq_ZxGHiri48TUXJlpRkCQ  ...  1194664   87979\n",
              "\n",
              "[5 rows x 14 columns]"
            ]
          },
          "metadata": {
            "tags": []
          },
          "execution_count": 44
        }
      ]
    },
    {
      "cell_type": "code",
      "metadata": {
        "id": "feGwiCcI3rbA",
        "colab_type": "code",
        "outputId": "ebf1cc68-8a55-43d2-faf9-e1e063c12bd8",
        "colab": {
          "base_uri": "https://localhost:8080/",
          "height": 510
        }
      },
      "source": [
        "subset_df = subset_df[subset_df['state'] == 'IL'].reset_index(drop=True)\n",
        "\n",
        "print(\"\\033[1mFinal Data Points\\033[0m \\n \")\n",
        "print(\"Number of Restaurants in the Illinois   :\", len(subset_df['business_id'].unique()))\n",
        "print(f\"Across {len(subset_df['city'].unique())} cities\" )\n",
        "print(\"Number of Users in the Illinois         :\", len(subset_df['user_id'].unique()))\n",
        "print(\"Number of Reviews  for them in Illinois :\", len(subset_df['review_id'].unique()))\n",
        "\n",
        "subset_df.head()"
      ],
      "execution_count": 0,
      "outputs": [
        {
          "output_type": "stream",
          "text": [
            "\u001b[1mFinal Data Points\u001b[0m \n",
            " \n",
            "Number of Restaurants in the Illinois   : 702\n",
            "Across 20 cities\n",
            "Number of Users in the Illinois         : 12255\n",
            "Number of Reviews  for them in Illinois : 32327\n"
          ],
          "name": "stdout"
        },
        {
          "output_type": "execute_result",
          "data": {
            "text/html": [
              "<div>\n",
              "<style scoped>\n",
              "    .dataframe tbody tr th:only-of-type {\n",
              "        vertical-align: middle;\n",
              "    }\n",
              "\n",
              "    .dataframe tbody tr th {\n",
              "        vertical-align: top;\n",
              "    }\n",
              "\n",
              "    .dataframe thead th {\n",
              "        text-align: right;\n",
              "    }\n",
              "</style>\n",
              "<table border=\"1\" class=\"dataframe\">\n",
              "  <thead>\n",
              "    <tr style=\"text-align: right;\">\n",
              "      <th></th>\n",
              "      <th>review_id</th>\n",
              "      <th>user_id</th>\n",
              "      <th>business_id</th>\n",
              "      <th>business_name</th>\n",
              "      <th>city</th>\n",
              "      <th>state</th>\n",
              "      <th>review_stars</th>\n",
              "      <th>text</th>\n",
              "      <th>date</th>\n",
              "      <th>categories</th>\n",
              "      <th>food</th>\n",
              "      <th>name</th>\n",
              "      <th>uiz</th>\n",
              "      <th>biz</th>\n",
              "    </tr>\n",
              "  </thead>\n",
              "  <tbody>\n",
              "    <tr>\n",
              "      <th>0</th>\n",
              "      <td>m4AXzV9l14iFBd9DRdM82w</td>\n",
              "      <td>6X0i-oGUbh5DZdTHzFuKfg</td>\n",
              "      <td>9A1C1f0m4nQltQrOOTl-Kw</td>\n",
              "      <td>Orange &amp; Brew</td>\n",
              "      <td>Champaign</td>\n",
              "      <td>IL</td>\n",
              "      <td>1.0</td>\n",
              "      <td>The building is lovely.  T...</td>\n",
              "      <td>2013-12-07 02:26:13</td>\n",
              "      <td>[American (New), Nightlife...</td>\n",
              "      <td>True</td>\n",
              "      <td>Helen</td>\n",
              "      <td>231793</td>\n",
              "      <td>32972</td>\n",
              "    </tr>\n",
              "    <tr>\n",
              "      <th>1</th>\n",
              "      <td>A-yKlSLEQQcoHR5q2lCyHg</td>\n",
              "      <td>Yximlvn0cfb3yVDaLuXDxw</td>\n",
              "      <td>VHsNB3pdGVcRgs6C3jt6Zg</td>\n",
              "      <td>Dublin O'Neil's</td>\n",
              "      <td>Champaign</td>\n",
              "      <td>IL</td>\n",
              "      <td>5.0</td>\n",
              "      <td>LOVE LOVE LOVE this place!...</td>\n",
              "      <td>2013-08-03 19:59:56</td>\n",
              "      <td>[Restaurants, Irish]</td>\n",
              "      <td>True</td>\n",
              "      <td>Angela</td>\n",
              "      <td>1106075</td>\n",
              "      <td>105571</td>\n",
              "    </tr>\n",
              "    <tr>\n",
              "      <th>2</th>\n",
              "      <td>asLnux3k2yqoVjcJcLuF0g</td>\n",
              "      <td>Cz8l7JQ2I_RhtK0BosH-7Q</td>\n",
              "      <td>Ah4i15g8Ow_zphzcpulTxQ</td>\n",
              "      <td>The Bread Company</td>\n",
              "      <td>Urbana</td>\n",
              "      <td>IL</td>\n",
              "      <td>4.0</td>\n",
              "      <td>The bread company is perfe...</td>\n",
              "      <td>2015-12-05 05:38:55</td>\n",
              "      <td>[Bakeries, American (New),...</td>\n",
              "      <td>True</td>\n",
              "      <td>Charlie</td>\n",
              "      <td>429645</td>\n",
              "      <td>38153</td>\n",
              "    </tr>\n",
              "    <tr>\n",
              "      <th>3</th>\n",
              "      <td>YIMS3PGxfWN5iFIIcYJHEg</td>\n",
              "      <td>m7rosN4Yh__tXkWP0_myqw</td>\n",
              "      <td>9MnbQg7kfb_WgxoV0hXKSQ</td>\n",
              "      <td>Black Dog Smoke &amp; Ale House</td>\n",
              "      <td>Urbana</td>\n",
              "      <td>IL</td>\n",
              "      <td>5.0</td>\n",
              "      <td>This is the best restauran...</td>\n",
              "      <td>2015-06-21 01:54:38</td>\n",
              "      <td>[Barbeque, Restaurants, Am...</td>\n",
              "      <td>True</td>\n",
              "      <td>Seth</td>\n",
              "      <td>1542529</td>\n",
              "      <td>33678</td>\n",
              "    </tr>\n",
              "    <tr>\n",
              "      <th>4</th>\n",
              "      <td>CWjzk0w-OZwzOmCut-6bvQ</td>\n",
              "      <td>iYwDTxhYStsIDHB514ltjA</td>\n",
              "      <td>t_yiQnxUDdPPCN2z4QyezA</td>\n",
              "      <td>Golden Harbor Authentic Ch...</td>\n",
              "      <td>Champaign</td>\n",
              "      <td>IL</td>\n",
              "      <td>5.0</td>\n",
              "      <td>If you want REAL, AUTHENTI...</td>\n",
              "      <td>2015-09-23 23:23:51</td>\n",
              "      <td>[Restaurants, Chinese, Tai...</td>\n",
              "      <td>True</td>\n",
              "      <td>Elizabeth</td>\n",
              "      <td>1432036</td>\n",
              "      <td>188347</td>\n",
              "    </tr>\n",
              "  </tbody>\n",
              "</table>\n",
              "</div>"
            ],
            "text/plain": [
              "                review_id                 user_id  ...      uiz     biz\n",
              "0  m4AXzV9l14iFBd9DRdM82w  6X0i-oGUbh5DZdTHzFuKfg  ...   231793   32972\n",
              "1  A-yKlSLEQQcoHR5q2lCyHg  Yximlvn0cfb3yVDaLuXDxw  ...  1106075  105571\n",
              "2  asLnux3k2yqoVjcJcLuF0g  Cz8l7JQ2I_RhtK0BosH-7Q  ...   429645   38153\n",
              "3  YIMS3PGxfWN5iFIIcYJHEg  m7rosN4Yh__tXkWP0_myqw  ...  1542529   33678\n",
              "4  CWjzk0w-OZwzOmCut-6bvQ  iYwDTxhYStsIDHB514ltjA  ...  1432036  188347\n",
              "\n",
              "[5 rows x 14 columns]"
            ]
          },
          "metadata": {
            "tags": []
          },
          "execution_count": 34
        }
      ]
    },
    {
      "cell_type": "markdown",
      "metadata": {
        "id": "mTEM9jkTbFIY",
        "colab_type": "text"
      },
      "source": [
        "Now we have all of our variable ready, saved in the subset_df. \n",
        "Throughout the notebook, save checkpoints have been incorporated to ensure we dont waste too much time re running the cells.  "
      ]
    },
    {
      "cell_type": "code",
      "metadata": {
        "id": "uLYMWbXK2j3W",
        "colab_type": "code",
        "colab": {}
      },
      "source": [
        "subset_df.to_csv(\"illinois.csv\",index=False)##save checkpoint"
      ],
      "execution_count": 0,
      "outputs": []
    },
    {
      "cell_type": "markdown",
      "metadata": {
        "id": "oo9_bqHUfop1",
        "colab_type": "text"
      },
      "source": [
        "After the data has been prepped, we will always read it from the below cell to save time"
      ]
    },
    {
      "cell_type": "code",
      "metadata": {
        "id": "03OJMws3hxS-",
        "colab_type": "code",
        "outputId": "137be62b-5835-441f-8182-b15f578f28db",
        "colab": {
          "base_uri": "https://localhost:8080/",
          "height": 36
        }
      },
      "source": [
        "# us_tb = pd.read_csv(\"user_data_file.csv\")\n",
        "business_tb = pd.read_csv(\"business_data_file.csv\")\n",
        "# review_tb = pd.read_csv(\"review_data_file.csv\")\n",
        "subset_df = pd.read_csv('illinois.csv')\n",
        "\n",
        "print(\"Finished reading the data\")"
      ],
      "execution_count": 11,
      "outputs": [
        {
          "output_type": "stream",
          "text": [
            "Finished reading the data\n"
          ],
          "name": "stdout"
        }
      ]
    },
    {
      "cell_type": "code",
      "metadata": {
        "id": "Ub1G-TsoytM_",
        "colab_type": "code",
        "outputId": "52f0e2d7-ad1a-403c-cef3-cca6a0d48f52",
        "colab": {
          "base_uri": "https://localhost:8080/",
          "height": 556
        }
      },
      "source": [
        "subset_df.head()"
      ],
      "execution_count": 9,
      "outputs": [
        {
          "output_type": "execute_result",
          "data": {
            "text/html": [
              "<div>\n",
              "<style scoped>\n",
              "    .dataframe tbody tr th:only-of-type {\n",
              "        vertical-align: middle;\n",
              "    }\n",
              "\n",
              "    .dataframe tbody tr th {\n",
              "        vertical-align: top;\n",
              "    }\n",
              "\n",
              "    .dataframe thead th {\n",
              "        text-align: right;\n",
              "    }\n",
              "</style>\n",
              "<table border=\"1\" class=\"dataframe\">\n",
              "  <thead>\n",
              "    <tr style=\"text-align: right;\">\n",
              "      <th></th>\n",
              "      <th>review_id</th>\n",
              "      <th>user_id</th>\n",
              "      <th>business_id</th>\n",
              "      <th>business_name</th>\n",
              "      <th>city</th>\n",
              "      <th>state</th>\n",
              "      <th>review_stars</th>\n",
              "      <th>text</th>\n",
              "      <th>date</th>\n",
              "      <th>categories</th>\n",
              "      <th>food</th>\n",
              "      <th>name</th>\n",
              "      <th>uiz</th>\n",
              "      <th>biz</th>\n",
              "    </tr>\n",
              "  </thead>\n",
              "  <tbody>\n",
              "    <tr>\n",
              "      <th>0</th>\n",
              "      <td>m4AXzV9l14iFBd9DRdM82w</td>\n",
              "      <td>6X0i-oGUbh5DZdTHzFuKfg</td>\n",
              "      <td>9A1C1f0m4nQltQrOOTl-Kw</td>\n",
              "      <td>Orange &amp; Brew</td>\n",
              "      <td>Champaign</td>\n",
              "      <td>IL</td>\n",
              "      <td>1.0</td>\n",
              "      <td>The building is lovely.  The remodel after But...</td>\n",
              "      <td>2013-12-07 02:26:13</td>\n",
              "      <td>['American (New)', 'Nightlife', 'Restaurants',...</td>\n",
              "      <td>True</td>\n",
              "      <td>Helen</td>\n",
              "      <td>231793</td>\n",
              "      <td>32972</td>\n",
              "    </tr>\n",
              "    <tr>\n",
              "      <th>1</th>\n",
              "      <td>A-yKlSLEQQcoHR5q2lCyHg</td>\n",
              "      <td>Yximlvn0cfb3yVDaLuXDxw</td>\n",
              "      <td>VHsNB3pdGVcRgs6C3jt6Zg</td>\n",
              "      <td>Dublin O'Neil's</td>\n",
              "      <td>Champaign</td>\n",
              "      <td>IL</td>\n",
              "      <td>5.0</td>\n",
              "      <td>LOVE LOVE LOVE this place! I'm a bit of a suck...</td>\n",
              "      <td>2013-08-03 19:59:56</td>\n",
              "      <td>['Restaurants', 'Irish']</td>\n",
              "      <td>True</td>\n",
              "      <td>Angela</td>\n",
              "      <td>1106075</td>\n",
              "      <td>105571</td>\n",
              "    </tr>\n",
              "    <tr>\n",
              "      <th>2</th>\n",
              "      <td>asLnux3k2yqoVjcJcLuF0g</td>\n",
              "      <td>Cz8l7JQ2I_RhtK0BosH-7Q</td>\n",
              "      <td>Ah4i15g8Ow_zphzcpulTxQ</td>\n",
              "      <td>The Bread Company</td>\n",
              "      <td>Urbana</td>\n",
              "      <td>IL</td>\n",
              "      <td>4.0</td>\n",
              "      <td>The bread company is perfect for lunch. The pr...</td>\n",
              "      <td>2015-12-05 05:38:55</td>\n",
              "      <td>['Bakeries', 'American (New)', 'Modern Europea...</td>\n",
              "      <td>True</td>\n",
              "      <td>Charlie</td>\n",
              "      <td>429645</td>\n",
              "      <td>38153</td>\n",
              "    </tr>\n",
              "    <tr>\n",
              "      <th>3</th>\n",
              "      <td>YIMS3PGxfWN5iFIIcYJHEg</td>\n",
              "      <td>m7rosN4Yh__tXkWP0_myqw</td>\n",
              "      <td>9MnbQg7kfb_WgxoV0hXKSQ</td>\n",
              "      <td>Black Dog Smoke &amp; Ale House</td>\n",
              "      <td>Urbana</td>\n",
              "      <td>IL</td>\n",
              "      <td>5.0</td>\n",
              "      <td>This is the best restaurant under $30 per plat...</td>\n",
              "      <td>2015-06-21 01:54:38</td>\n",
              "      <td>['Barbeque', 'Restaurants', 'American (Traditi...</td>\n",
              "      <td>True</td>\n",
              "      <td>Seth</td>\n",
              "      <td>1542529</td>\n",
              "      <td>33678</td>\n",
              "    </tr>\n",
              "    <tr>\n",
              "      <th>4</th>\n",
              "      <td>CWjzk0w-OZwzOmCut-6bvQ</td>\n",
              "      <td>iYwDTxhYStsIDHB514ltjA</td>\n",
              "      <td>t_yiQnxUDdPPCN2z4QyezA</td>\n",
              "      <td>Golden Harbor Authentic Chinese Cuisine</td>\n",
              "      <td>Champaign</td>\n",
              "      <td>IL</td>\n",
              "      <td>5.0</td>\n",
              "      <td>If you want REAL, AUTHENTIC asian food, this i...</td>\n",
              "      <td>2015-09-23 23:23:51</td>\n",
              "      <td>['Restaurants', 'Chinese', 'Taiwanese', 'Dim S...</td>\n",
              "      <td>True</td>\n",
              "      <td>Elizabeth</td>\n",
              "      <td>1432036</td>\n",
              "      <td>188347</td>\n",
              "    </tr>\n",
              "  </tbody>\n",
              "</table>\n",
              "</div>"
            ],
            "text/plain": [
              "                review_id                 user_id  ...      uiz     biz\n",
              "0  m4AXzV9l14iFBd9DRdM82w  6X0i-oGUbh5DZdTHzFuKfg  ...   231793   32972\n",
              "1  A-yKlSLEQQcoHR5q2lCyHg  Yximlvn0cfb3yVDaLuXDxw  ...  1106075  105571\n",
              "2  asLnux3k2yqoVjcJcLuF0g  Cz8l7JQ2I_RhtK0BosH-7Q  ...   429645   38153\n",
              "3  YIMS3PGxfWN5iFIIcYJHEg  m7rosN4Yh__tXkWP0_myqw  ...  1542529   33678\n",
              "4  CWjzk0w-OZwzOmCut-6bvQ  iYwDTxhYStsIDHB514ltjA  ...  1432036  188347\n",
              "\n",
              "[5 rows x 14 columns]"
            ]
          },
          "metadata": {
            "tags": []
          },
          "execution_count": 9
        }
      ]
    },
    {
      "cell_type": "markdown",
      "metadata": {
        "id": "vaoBa9-5hsJm",
        "colab_type": "text"
      },
      "source": [
        "# Recommender systems using ALS"
      ]
    },
    {
      "cell_type": "markdown",
      "metadata": {
        "id": "El6NQetGkTw3",
        "colab_type": "text"
      },
      "source": [
        "##Setting up a spark session"
      ]
    },
    {
      "cell_type": "code",
      "metadata": {
        "id": "PaBERYzRhxWV",
        "colab_type": "code",
        "colab": {}
      },
      "source": [
        "%%time\n",
        "!apt-get install openjdk-8-jdk-headless -qq > /dev/null\n",
        "!wget -q http://apache.mirrors.hoobly.com/spark/spark-2.4.5/spark-2.4.5-bin-hadoop2.7.tgz\n",
        "!tar -xvf spark-2.4.5-bin-hadoop2.7.tgz\n",
        "!pip install -q findspark\n",
        "\n",
        "# outputs cleared since they are really long"
      ],
      "execution_count": 0,
      "outputs": []
    },
    {
      "cell_type": "code",
      "metadata": {
        "id": "YzuEbvUnhxZv",
        "colab_type": "code",
        "outputId": "4008f0a6-d37a-4a09-892b-eaa54e892bf5",
        "colab": {
          "base_uri": "https://localhost:8080/",
          "height": 36
        }
      },
      "source": [
        "import os\n",
        "os.environ[\"JAVA_HOME\"] = \"/usr/lib/jvm/java-8-openjdk-amd64\"\n",
        "os.environ[\"SPARK_HOME\"] = \"...filepath/spark-2.4.5-bin-hadoop2.7\"\n",
        "\n",
        "import findspark\n",
        "findspark.init()\n",
        "from pyspark.sql import SparkSession\n",
        "spark = SparkSession.builder.master(\"local[*]\").getOrCreate()\n",
        "\n",
        "print(\"Done\")"
      ],
      "execution_count": 7,
      "outputs": [
        {
          "output_type": "stream",
          "text": [
            "Done\n"
          ],
          "name": "stdout"
        }
      ]
    },
    {
      "cell_type": "markdown",
      "metadata": {
        "id": "TKt_ub86cC_P",
        "colab_type": "text"
      },
      "source": [
        "## Using Pyspark dataframes to apply ALS"
      ]
    },
    {
      "cell_type": "code",
      "metadata": {
        "id": "j1gnymRDhxcX",
        "colab_type": "code",
        "colab": {}
      },
      "source": [
        "# import libraries\n",
        "from pyspark.ml.evaluation import RegressionEvaluator\n",
        "from pyspark.ml.recommendation import ALS\n",
        "from pyspark.ml.tuning import TrainValidationSplit, ParamGridBuilder\n",
        "from pyspark.sql import Row\n"
      ],
      "execution_count": 0,
      "outputs": []
    },
    {
      "cell_type": "code",
      "metadata": {
        "id": "HJuGnzKZhxfo",
        "colab_type": "code",
        "outputId": "69c97e11-3009-428a-e40a-61d9dd8c552e",
        "colab": {
          "base_uri": "https://localhost:8080/",
          "height": 520
        }
      },
      "source": [
        "#Converting the dataframe's datatype to string to convert it into a pyspark dataframe\n",
        "data = subset_df.astype(str)\n",
        "\n",
        "data_spark = spark.createDataFrame(data)\n",
        "data_spark.show()"
      ],
      "execution_count": 12,
      "outputs": [
        {
          "output_type": "stream",
          "text": [
            "+--------------------+--------------------+--------------------+--------------------+---------+-----+------------+--------------------+-------------------+--------------------+----+---------+-------+------+\n",
            "|           review_id|             user_id|         business_id|       business_name|     city|state|review_stars|                text|               date|          categories|food|     name|    uiz|   biz|\n",
            "+--------------------+--------------------+--------------------+--------------------+---------+-----+------------+--------------------+-------------------+--------------------+----+---------+-------+------+\n",
            "|m4AXzV9l14iFBd9DR...|6X0i-oGUbh5DZdTHz...|9A1C1f0m4nQltQrOO...|       Orange & Brew|Champaign|   IL|         1.0|The building is l...|2013-12-07 02:26:13|['American (New)'...|True|    Helen| 231793| 32972|\n",
            "|A-yKlSLEQQcoHR5q2...|Yximlvn0cfb3yVDaL...|VHsNB3pdGVcRgs6C3...|     Dublin O'Neil's|Champaign|   IL|         5.0|LOVE LOVE LOVE th...|2013-08-03 19:59:56|['Restaurants', '...|True|   Angela|1106075|105571|\n",
            "|asLnux3k2yqoVjcJc...|Cz8l7JQ2I_RhtK0Bo...|Ah4i15g8Ow_zphzcp...|   The Bread Company|   Urbana|   IL|         4.0|The bread company...|2015-12-05 05:38:55|['Bakeries', 'Ame...|True|  Charlie| 429645| 38153|\n",
            "|YIMS3PGxfWN5iFIIc...|m7rosN4Yh__tXkWP0...|9MnbQg7kfb_WgxoV0...|Black Dog Smoke &...|   Urbana|   IL|         5.0|This is the best ...|2015-06-21 01:54:38|['Barbeque', 'Res...|True|     Seth|1542529| 33678|\n",
            "|CWjzk0w-OZwzOmCut...|iYwDTxhYStsIDHB51...|t_yiQnxUDdPPCN2z4...|Golden Harbor Aut...|Champaign|   IL|         5.0|If you want REAL,...|2015-09-23 23:23:51|['Restaurants', '...|True|Elizabeth|1432036|188347|\n",
            "|x20Vhj5qcBbW-08vE...|lg1UvP-7KLtjSdxbF...|9MnbQg7kfb_WgxoV0...|Black Dog Smoke &...|   Urbana|   IL|         5.0|This place is wit...|2011-10-27 15:48:15|['Barbeque', 'Res...|True| Roseanne|1528538| 33678|\n",
            "|C1cnr8K7om6xUYOwy...|RmVeNKqaC2Db3a36l...|9MnbQg7kfb_WgxoV0...|Black Dog Smoke &...|   Urbana|   IL|         5.0|I just wish this ...|2012-04-28 15:18:13|['Barbeque', 'Res...|True|       Mr| 885193| 33678|\n",
            "|UrAS0BPBbO27bWQMJ...|Tu3EqdHkeEJeRzOvd...|-fiUXzkxRfbHY9TKW...|DESTIHL Restauran...|Champaign|   IL|         4.0|I really like the...|2012-04-28 21:37:12|['Gluten-Free', '...|True|      Zoe| 950354|  2190|\n",
            "|fvmXieWEASmmJCRY5...|JoKxzSvlqAhlsgrzR...|9MnbQg7kfb_WgxoV0...|Black Dog Smoke &...|   Urbana|   IL|         4.0|Who doesn't like ...|2015-10-17 10:30:02|['Barbeque', 'Res...|True|      Jen| 639699| 33678|\n",
            "|YP1IyJ9jjIlZMxv1E...|yIJsQx2oWsLQDVTBu...|-fiUXzkxRfbHY9TKW...|DESTIHL Restauran...|Champaign|   IL|         4.0|This is a fun pla...|2011-07-28 15:37:13|['Gluten-Free', '...|True|   Majhon|1916344|  2190|\n",
            "|xoZRgeZ0Lo32Hd3BL...|lOOx1rNylC1g-Mq_h...|NEVA0IYbawceL6kz5...|            Kofusion|Champaign|   IL|         4.0|In my view, in th...|2016-08-12 21:56:17|['Sushi Bars', 'A...|True|     Carl|1519563| 79285|\n",
            "|8cGIm7In8KywX_2PO...|fnNSkK1yp5_Th48_g...|Ah4i15g8Ow_zphzcp...|   The Bread Company|   Urbana|   IL|         1.0|My review was fil...|2012-05-29 01:45:11|['Bakeries', 'Ame...|True|  Lorelei|1347361| 38153|\n",
            "|W6ckRDQh70Qy5PKX_...|eaCznBMQy9fgl4Fe0...|NEVA0IYbawceL6kz5...|            Kofusion|Champaign|   IL|         4.0|I was in Urbana, ...|2007-12-10 03:16:51|['Sushi Bars', 'A...|True|     Will|1310260| 79285|\n",
            "|2h1BHzhitC9ktYXcT...|dYAhuu1xauHTh-uhw...|9MnbQg7kfb_WgxoV0...|Black Dog Smoke &...|   Urbana|   IL|         4.0|Beer flights and ...|2011-04-22 02:16:21|['Barbeque', 'Res...|True|  Jessica|1278016| 33678|\n",
            "|esj2nr-8hF6_El3f1...|T2ep9jf2LIZU3zWmG...|RwMlwusAtxZc5a3ZY...|        Penn Station|Champaign|   IL|         4.0|One of the best s...|2016-07-14 19:04:11|['Sandwiches', 'C...|True|      Sam| 924233| 94588|\n",
            "|wgCy27owdE7ivsYQV...|IpEdj-qmAm_kS9nfj...|ObNQVg_ohRVLex4pp...|      Sonic Drive-In|    Savoy|   IL|         5.0|They have great f...|2017-09-20 16:18:19|['Fast Food', 'Fo...|True|     Cody| 609538| 83797|\n",
            "|HVAJpO_65aFK2vR5Y...|isQxsxlCjj6P8GQ_u...|NEVA0IYbawceL6kz5...|            Kofusion|Champaign|   IL|         5.0|This place was ac...|2014-09-25 16:20:37|['Sushi Bars', 'A...|True|   Amanda|1442072| 79285|\n",
            "|Xjf8fnQnXbZjghLQo...|e4s5Zg0mBDDEDSPvL...|-Jhlh8Scjy669NdtC...|           V Picasso|Champaign|   IL|         3.0|Went with big gro...|2017-10-24 20:00:38|['Wine Bars', 'Ev...|True|       AJ|1294787|  1051|\n",
            "|XABZ1MnLY5iRUoDR1...|1_0v3XnwloZ90577U...|-fiUXzkxRfbHY9TKW...|DESTIHL Restauran...|Champaign|   IL|         5.0|Appetizer of chee...|2016-12-19 19:18:16|['Gluten-Free', '...|True|      Amy|  79075|  2190|\n",
            "|8UtCpmnfb9t18G4BO...|eZZUxt0aNMTg0di_h...|9MnbQg7kfb_WgxoV0...|Black Dog Smoke &...|   Urbana|   IL|         5.0|Best bbq I know o...|2011-08-25 00:45:12|['Barbeque', 'Res...|True|   Daniel|1309513| 33678|\n",
            "+--------------------+--------------------+--------------------+--------------------+---------+-----+------------+--------------------+-------------------+--------------------+----+---------+-------+------+\n",
            "only showing top 20 rows\n",
            "\n"
          ],
          "name": "stdout"
        }
      ]
    },
    {
      "cell_type": "code",
      "metadata": {
        "id": "wCjl7wF1hxh2",
        "colab_type": "code",
        "outputId": "793bcf1f-5fbc-4aa4-9587-af0a6055e7f3",
        "colab": {
          "base_uri": "https://localhost:8080/",
          "height": 314
        }
      },
      "source": [
        "#convert stars / Biz/ Uiz back to right data-type\n",
        "from pyspark.sql.functions import col\n",
        "from pyspark.sql.types import IntegerType\n",
        "from pyspark.sql.types import FloatType\n",
        "\n",
        "df1 = data_spark.withColumn(\"review_stars\",col(\"review_stars\").cast(FloatType())).withColumn(\"Biz\",col(\"Biz\").cast(IntegerType())).withColumn(\"Uiz\",col(\"Uiz\").cast(IntegerType()))\n",
        "df1.printSchema()"
      ],
      "execution_count": 13,
      "outputs": [
        {
          "output_type": "stream",
          "text": [
            "root\n",
            " |-- review_id: string (nullable = true)\n",
            " |-- user_id: string (nullable = true)\n",
            " |-- business_id: string (nullable = true)\n",
            " |-- business_name: string (nullable = true)\n",
            " |-- city: string (nullable = true)\n",
            " |-- state: string (nullable = true)\n",
            " |-- review_stars: float (nullable = true)\n",
            " |-- text: string (nullable = true)\n",
            " |-- date: string (nullable = true)\n",
            " |-- categories: string (nullable = true)\n",
            " |-- food: string (nullable = true)\n",
            " |-- name: string (nullable = true)\n",
            " |-- Uiz: integer (nullable = true)\n",
            " |-- Biz: integer (nullable = true)\n",
            "\n"
          ],
          "name": "stdout"
        }
      ]
    },
    {
      "cell_type": "code",
      "metadata": {
        "id": "5AwRC1Qphxlf",
        "colab_type": "code",
        "outputId": "a45631b2-40b6-440b-cdcd-77f5094583ca",
        "colab": {
          "base_uri": "https://localhost:8080/",
          "height": 334
        }
      },
      "source": [
        "#split dataset into training, validation, and testing\n",
        "import random\n",
        "random.seed(123)\n",
        "(training, validation,testing) = df1.randomSplit([0.60,0.10, 0.3])\n",
        "fulltraining = training.union(validation)\n",
        "fulltraining.show(10)"
      ],
      "execution_count": 14,
      "outputs": [
        {
          "output_type": "stream",
          "text": [
            "+--------------------+--------------------+--------------------+--------------------+---------+-----+------------+--------------------+-------------------+--------------------+----+-------+-------+------+\n",
            "|           review_id|             user_id|         business_id|       business_name|     city|state|review_stars|                text|               date|          categories|food|   name|    Uiz|   Biz|\n",
            "+--------------------+--------------------+--------------------+--------------------+---------+-----+------------+--------------------+-------------------+--------------------+----+-------+-------+------+\n",
            "|--SLN7EAbVScyHWf3...|tdhL5mDtnZWFqAbSR...|-5NXoZeGBdx3Bdk70...| Po' Boys Restaurant|   Urbana|   IL|         5.0|Great crispy crus...|2014-08-15 20:45:52|['Pizza', 'Barbeq...|True|  Jenna|1773435|   317|\n",
            "|-1n6GIYFof3d79sQW...|qJfW5-Z890LfBV62x...|1c4IxxSQxuh2mHVm6...|     Tks Cheesesteak|  Rantoul|   IL|         5.0|I had heard that ...|2018-08-07 17:43:17|['Restaurants', '...|True|   John|1670529|  8507|\n",
            "|-27ERNhqsPn0EGfox...|GweapO7zrXsyPH8dH...|sYf2auhosrx8trbyP...|            DP Dough|Champaign|   IL|         2.0|I generally like ...|2016-05-07 23:59:22|['Pizza', 'Restau...|True|   Alex| 551619|185056|\n",
            "|-3Njzzbc3FQVJuzXP...|O5ZFFFVAWBy-wmWFZ...|nsSfCKW9KDB4COj9b...|         Red Lobster|Champaign|   IL|         4.0|My foodie daughte...|2011-02-19 13:40:25|['American (Tradi...|True|      L| 771519|169834|\n",
            "|-3k_SrnUQrHDlbtrB...|4bQ37HTTwTGoSAmB5...|-fiUXzkxRfbHY9TKW...|DESTIHL Restauran...|Champaign|   IL|         5.0|Really filling. G...|2012-08-13 16:55:49|['Gluten-Free', '...|True|   Alan| 172764|  2190|\n",
            "|-6RqWsLDgkmRzHEn9...|5tiY9ISK661KYLxIX...|-XH3-e3jDVdjHJq7G...|Asian Taste Resta...|Champaign|   IL|         4.0|Feels like dining...|2017-05-05 00:20:36|['Vietnamese', 'C...|True|Cecilia| 212350|  1748|\n",
            "|-77yv9-C0f503rUkx...|FdhLKzubmPw2SaFqT...|QdganL5AW9E_fNoRV...|          Golden Wok|Champaign|   IL|         2.0|I ordered Egg Dro...|2017-05-05 21:55:05|['Thai', 'Chinese...|True|Jessica| 511649| 90410|\n",
            "|-7TizsKka0SLM22K6...|X5JzqfOdfk0WBmV5y...|pMiz7SP82Tknv1NbV...|Black Dog Smoke &...|Champaign|   IL|         5.0|Love!  The BBQ is...|2018-03-27 13:18:42|['Nightlife', 'Ba...|True| Andrea|1048884|174703|\n",
            "|-7wQEcPmovnJ0naH3...|38w6G-nG1VhQHU73t...|-fiUXzkxRfbHY9TKW...|DESTIHL Restauran...|Champaign|   IL|         3.0|The staff was fri...|2019-09-02 01:36:47|['Gluten-Free', '...|True|     Al| 127753|  2190|\n",
            "|-83AbLP7f_o_jZlLe...|wHNHNzMghPsCSAkqR...|RWd83o4drIOE60W1m...|Mirabelle Fine Pa...|   Urbana|   IL|         3.0|Mirabelle has gon...|2008-04-29 16:09:59|['Desserts', 'Bak...|True|      N|1854622| 93302|\n",
            "+--------------------+--------------------+--------------------+--------------------+---------+-----+------------+--------------------+-------------------+--------------------+----+-------+-------+------+\n",
            "only showing top 10 rows\n",
            "\n"
          ],
          "name": "stdout"
        }
      ]
    },
    {
      "cell_type": "markdown",
      "metadata": {
        "id": "5CxWTtmylYFI",
        "colab_type": "text"
      },
      "source": [
        "## Training and Tuning the ALS Model\n",
        "\n",
        "Now we apply the ALS algorithm. We will tune the Rank as well as the regularizer\n",
        "\n",
        "\n",
        "\n"
      ]
    },
    {
      "cell_type": "code",
      "metadata": {
        "id": "gF2k08S8hxpa",
        "colab_type": "code",
        "outputId": "e5aeea6f-50b2-40de-fbda-e2cbdb31a3a4",
        "colab": {
          "base_uri": "https://localhost:8080/",
          "height": 91
        }
      },
      "source": [
        "%%time\n",
        "\n",
        "#Cross validation\n",
        "\n",
        "# als = ALS(userCol=\"Uiz\", itemCol=\"Biz\", ratingCol=\"review_stars\", nonnegative=True, implicitPrefs = True)\n",
        "als = ALS(userCol=\"Uiz\", itemCol=\"Biz\", ratingCol=\"review_stars\", nonnegative=True, implicitPrefs = True)\n",
        "evaluator = RegressionEvaluator(metricName=\"rmse\", labelCol=\"review_stars\",predictionCol=\"prediction\")\n",
        "\n",
        "ranks = [x for x in range(5,150,15)]\n",
        "regparam = [.1,.15,.25,.35,.5]\n",
        "\n",
        "# ranks = [x for x in range(5,20,5)]\n",
        "# regparam = [.1,.15]\n",
        "\n",
        "best_par = -10\n",
        "best_rank = -10\n",
        "\n",
        "min_err = float('inf')\n",
        "\n",
        "Reg = ['Regulariser']\n",
        "cv_table = pd.DataFrame(columns = Reg )\n",
        "cv_table['Regulariser'] = regparam\n",
        "\n",
        "print(\"Starting the training process\")\n",
        "for r in ranks:\n",
        "  als.setRank(r)\n",
        "  j = 0\n",
        "\n",
        "  for par in regparam:\n",
        "\n",
        "\n",
        "    als.setRegParam(par)\n",
        "    model = als.fit(training)\n",
        "    pred = model.transform(validation)\n",
        "    pred_clean = pred.filter(pred.prediction !=float('nan') )\n",
        "    rmse = evaluator.evaluate(pred_clean)\n",
        "\n",
        "    cv_table.loc[j,r] = rmse\n",
        "\n",
        "    j+=1 \n",
        "\n",
        "    if rmse < min_err:\n",
        "      min_err = rmse\n",
        "      best_rank = r\n",
        "      best_par = par\n",
        "    \n",
        "    \n",
        "\n",
        "print(\"Best Rank = \",best_rank ,\"Best Regularizer\", best_par, \"Min Error\", round(min_err,4) )"
      ],
      "execution_count": 0,
      "outputs": [
        {
          "output_type": "stream",
          "text": [
            "Starting the training process\n",
            "Best Rank =  20 Best Regularizer 0.15 Min Error 3.7402\n",
            "CPU times: user 4.86 s, sys: 1.81 s, total: 6.67 s\n",
            "Wall time: 22min 17s\n"
          ],
          "name": "stdout"
        }
      ]
    },
    {
      "cell_type": "code",
      "metadata": {
        "id": "WH_yI6MHBfAC",
        "colab_type": "code",
        "outputId": "4265bca4-9ab9-4edd-a22d-3f5f56718d42",
        "colab": {
          "base_uri": "https://localhost:8080/",
          "height": 206
        }
      },
      "source": [
        "cv_table"
      ],
      "execution_count": 0,
      "outputs": [
        {
          "output_type": "execute_result",
          "data": {
            "text/html": [
              "<div>\n",
              "<style scoped>\n",
              "    .dataframe tbody tr th:only-of-type {\n",
              "        vertical-align: middle;\n",
              "    }\n",
              "\n",
              "    .dataframe tbody tr th {\n",
              "        vertical-align: top;\n",
              "    }\n",
              "\n",
              "    .dataframe thead th {\n",
              "        text-align: right;\n",
              "    }\n",
              "</style>\n",
              "<table border=\"1\" class=\"dataframe\">\n",
              "  <thead>\n",
              "    <tr style=\"text-align: right;\">\n",
              "      <th></th>\n",
              "      <th>Regulariser</th>\n",
              "      <th>5</th>\n",
              "      <th>20</th>\n",
              "      <th>35</th>\n",
              "      <th>50</th>\n",
              "      <th>65</th>\n",
              "      <th>80</th>\n",
              "      <th>95</th>\n",
              "      <th>110</th>\n",
              "      <th>125</th>\n",
              "      <th>140</th>\n",
              "    </tr>\n",
              "  </thead>\n",
              "  <tbody>\n",
              "    <tr>\n",
              "      <th>0</th>\n",
              "      <td>0.10</td>\n",
              "      <td>3.740336</td>\n",
              "      <td>3.740448</td>\n",
              "      <td>3.747565</td>\n",
              "      <td>3.751166</td>\n",
              "      <td>3.756509</td>\n",
              "      <td>3.756493</td>\n",
              "      <td>3.757807</td>\n",
              "      <td>3.760490</td>\n",
              "      <td>3.758218</td>\n",
              "      <td>3.759604</td>\n",
              "    </tr>\n",
              "    <tr>\n",
              "      <th>1</th>\n",
              "      <td>0.15</td>\n",
              "      <td>3.740470</td>\n",
              "      <td>3.740172</td>\n",
              "      <td>3.746919</td>\n",
              "      <td>3.750511</td>\n",
              "      <td>3.755454</td>\n",
              "      <td>3.754743</td>\n",
              "      <td>3.756130</td>\n",
              "      <td>3.758642</td>\n",
              "      <td>3.756294</td>\n",
              "      <td>3.757503</td>\n",
              "    </tr>\n",
              "    <tr>\n",
              "      <th>2</th>\n",
              "      <td>0.25</td>\n",
              "      <td>3.742896</td>\n",
              "      <td>3.741599</td>\n",
              "      <td>3.747253</td>\n",
              "      <td>3.750743</td>\n",
              "      <td>3.754777</td>\n",
              "      <td>3.752935</td>\n",
              "      <td>3.755938</td>\n",
              "      <td>3.756315</td>\n",
              "      <td>3.755178</td>\n",
              "      <td>3.756792</td>\n",
              "    </tr>\n",
              "    <tr>\n",
              "      <th>3</th>\n",
              "      <td>0.35</td>\n",
              "      <td>3.745724</td>\n",
              "      <td>3.745761</td>\n",
              "      <td>3.749460</td>\n",
              "      <td>3.751123</td>\n",
              "      <td>3.756005</td>\n",
              "      <td>3.753718</td>\n",
              "      <td>3.756922</td>\n",
              "      <td>3.756599</td>\n",
              "      <td>3.754715</td>\n",
              "      <td>3.756533</td>\n",
              "    </tr>\n",
              "    <tr>\n",
              "      <th>4</th>\n",
              "      <td>0.50</td>\n",
              "      <td>3.752201</td>\n",
              "      <td>3.752346</td>\n",
              "      <td>3.753426</td>\n",
              "      <td>3.753449</td>\n",
              "      <td>3.758591</td>\n",
              "      <td>3.756459</td>\n",
              "      <td>3.759664</td>\n",
              "      <td>3.758129</td>\n",
              "      <td>3.756420</td>\n",
              "      <td>3.758250</td>\n",
              "    </tr>\n",
              "  </tbody>\n",
              "</table>\n",
              "</div>"
            ],
            "text/plain": [
              "   Regulariser         5        20  ...       110       125       140\n",
              "0         0.10  3.740336  3.740448  ...  3.760490  3.758218  3.759604\n",
              "1         0.15  3.740470  3.740172  ...  3.758642  3.756294  3.757503\n",
              "2         0.25  3.742896  3.741599  ...  3.756315  3.755178  3.756792\n",
              "3         0.35  3.745724  3.745761  ...  3.756599  3.754715  3.756533\n",
              "4         0.50  3.752201  3.752346  ...  3.758129  3.756420  3.758250\n",
              "\n",
              "[5 rows x 11 columns]"
            ]
          },
          "metadata": {
            "tags": []
          },
          "execution_count": 289
        }
      ]
    },
    {
      "cell_type": "code",
      "metadata": {
        "id": "KzlxTfED5s6M",
        "colab_type": "code",
        "outputId": "9954393c-09e0-482c-b179-a52296313df1",
        "colab": {
          "base_uri": "https://localhost:8080/",
          "height": 412
        }
      },
      "source": [
        "#Let us visualise the RMSE by each rank\n",
        "\n",
        "fig, ax =plt.subplots(1,1 , figsize=(15,6))\n",
        "\n",
        "data1 = pd.melt(cv_table, ['Regulariser'])#reshaping the dataframe for visualisation \n",
        "data1.columns = ['Regulariser', 'Ranks', 'RMSE']\n",
        "\n",
        "\n",
        "sns.set_context('poster')\n",
        "sns.set_context('notebook')\n",
        "sns.lineplot(x='Regulariser', y='RMSE', hue='Ranks', data=data1,palette= sns.color_palette('Paired', n_colors=len(ranks)), linewidth=2)\n",
        "ax.legend(ranks, loc = 'right' )\n",
        "plt.legend(bbox_to_anchor=(1.05, 1), loc=2, borderaxespad=0.)\n",
        "\n",
        "\n",
        "# We can see the best regulariser giving us the lowest RMSE shown below"
      ],
      "execution_count": 0,
      "outputs": [
        {
          "output_type": "execute_result",
          "data": {
            "text/plain": [
              "<matplotlib.legend.Legend at 0x7f65f320e0f0>"
            ]
          },
          "metadata": {
            "tags": []
          },
          "execution_count": 300
        },
        {
          "output_type": "display_data",
          "data": {
            "image/png": "[encoded data removed]",
            "text/plain": [
              "<Figure size 1080x432 with 1 Axes>"
            ]
          },
          "metadata": {
            "tags": []
          }
        }
      ]
    },
    {
      "cell_type": "code",
      "metadata": {
        "id": "R24vjUcrhxst",
        "colab_type": "code",
        "outputId": "4cdc6e72-60c5-4888-8a52-4dadcffb0a0b",
        "colab": {
          "base_uri": "https://localhost:8080/",
          "height": 36
        }
      },
      "source": [
        "#using the best rank and regulariser to train the model \n",
        "\n",
        "als = ALS(userCol=\"Uiz\", itemCol=\"Biz\", ratingCol=\"review_stars\", nonnegative=True)\n",
        "evaluator = RegressionEvaluator(metricName=\"rmse\", labelCol=\"review_stars\",predictionCol=\"prediction\")\n",
        "\n",
        "# als.setRank(best_rank)\n",
        "# als.setRegParam(best_par)\n",
        "\n",
        "als.setRank(20)\n",
        "als.setRegParam(.15)\n",
        "model = als.fit(fulltraining)\n",
        "\n",
        "# Evaluate the model by computing the RMSE on the test data\n",
        "predictions = model.transform(testing)\n",
        "rmse = evaluator.evaluate(predictions)\n",
        "predicted_clean = predictions.filter(predictions.prediction != float('nan'))\n",
        "\n",
        "rmse = evaluator.evaluate(predicted_clean)\n",
        "# print(\"Rank = \",best_rank ,\"Regularizer\", best_par)\n",
        "print(\"Root-mean-square error = \" , round(rmse,4))"
      ],
      "execution_count": 15,
      "outputs": [
        {
          "output_type": "stream",
          "text": [
            "Root-mean-square error =  1.4811\n"
          ],
          "name": "stdout"
        }
      ]
    },
    {
      "cell_type": "markdown",
      "metadata": {
        "id": "dh6Uv9Sl-N8M",
        "colab_type": "text"
      },
      "source": [
        "## Generating the recommendations "
      ]
    },
    {
      "cell_type": "code",
      "metadata": {
        "id": "MlZHSHYghxvG",
        "colab_type": "code",
        "outputId": "0dfb2841-bae5-44f6-df75-5057be210599",
        "colab": {
          "base_uri": "https://localhost:8080/",
          "height": 500
        }
      },
      "source": [
        "# Generate top 3 restaurant recommendations for each user\n",
        "num_recs = 5\n",
        "userRecs = model.recommendForAllUsers(num_recs)\n",
        "userRecs.show()"
      ],
      "execution_count": 54,
      "outputs": [
        {
          "output_type": "stream",
          "text": [
            "+-------+--------------------+\n",
            "|    Uiz|     recommendations|\n",
            "+-------+--------------------+\n",
            "| 436580|[[32787, 5.108916...|\n",
            "| 700060|[[141789, 4.96526...|\n",
            "| 864850|[[32787, 2.161091...|\n",
            "| 899350|[[109501, 5.03407...|\n",
            "|1441420|[[156010, 3.86937...|\n",
            "|1718120|[[24758, 0.967651...|\n",
            "| 195541|[[176132, 4.96111...|\n",
            "| 396561|[[190126, 0.96230...|\n",
            "| 532681|[[176132, 5.02769...|\n",
            "| 895361|[[68117, 4.818404...|\n",
            "|1649661|[[148605, 1.92626...|\n",
            "| 195642|[[65473, 2.891005...|\n",
            "| 628252|[[72729, 4.54981]...|\n",
            "| 868602|[[32787, 5.005036...|\n",
            "|1112452|[[46634, 1.267861...|\n",
            "|1199942|[[32787, 2.954661...|\n",
            "|1883862|[[111433, 4.82974...|\n",
            "| 288113|[[174364, 1.04097...|\n",
            "| 921353|[[25361, 4.668594...|\n",
            "|1257263|[[32787, 4.521247...|\n",
            "+-------+--------------------+\n",
            "only showing top 20 rows\n",
            "\n"
          ],
          "name": "stdout"
        }
      ]
    },
    {
      "cell_type": "code",
      "metadata": {
        "id": "STWsg_eqhx3_",
        "colab_type": "code",
        "colab": {}
      },
      "source": [
        "# To get back the name of the business and the users, \n",
        "# we create dictionaries to reverse map the same. \n",
        "\n",
        "mymap = subset_df[['biz','business_name']]\n",
        "mapper = {}\n",
        "\n",
        "for i in range(len(subset_df)):\n",
        "  mapper[mymap['biz'][i]] = mymap['business_name'][i]\n",
        "usermap = subset_df[['uiz','name']]\n",
        "user_mapper = {}\n",
        "for i in range(len(subset_df)):\n",
        "  user_mapper[usermap['uiz'][i]] = usermap['name'][i]\n",
        "del mymap\n",
        "del usermap"
      ],
      "execution_count": 0,
      "outputs": []
    },
    {
      "cell_type": "code",
      "metadata": {
        "id": "5-NfZLn5hxxv",
        "colab_type": "code",
        "outputId": "0a0e14f9-d491-422e-ad9a-7ed58368d09e",
        "colab": {
          "base_uri": "https://localhost:8080/",
          "height": 363
        }
      },
      "source": [
        "# convert to pandas dataframe\n",
        "result_als = userRecs.select(\"*\").toPandas()\n",
        "result_als[\"recommendations\"] = result_als[\"recommendations\"].apply(lambda x: [x[i][0] for i in range(num_recs)] )#removing the restaurant ratings, retaining only the ids\n",
        "result_als.columns = ['User_Id', \"Recommendations\"]\n",
        "result_als.head(10)"
      ],
      "execution_count": 56,
      "outputs": [
        {
          "output_type": "execute_result",
          "data": {
            "text/html": [
              "<div>\n",
              "<style scoped>\n",
              "    .dataframe tbody tr th:only-of-type {\n",
              "        vertical-align: middle;\n",
              "    }\n",
              "\n",
              "    .dataframe tbody tr th {\n",
              "        vertical-align: top;\n",
              "    }\n",
              "\n",
              "    .dataframe thead th {\n",
              "        text-align: right;\n",
              "    }\n",
              "</style>\n",
              "<table border=\"1\" class=\"dataframe\">\n",
              "  <thead>\n",
              "    <tr style=\"text-align: right;\">\n",
              "      <th></th>\n",
              "      <th>User_Id</th>\n",
              "      <th>Recommendations</th>\n",
              "    </tr>\n",
              "  </thead>\n",
              "  <tbody>\n",
              "    <tr>\n",
              "      <th>0</th>\n",
              "      <td>436580</td>\n",
              "      <td>[32787, 62976, 3170, 120104, 77241]</td>\n",
              "    </tr>\n",
              "    <tr>\n",
              "      <th>1</th>\n",
              "      <td>700060</td>\n",
              "      <td>[141789, 72163, 48058, 51478, 100452]</td>\n",
              "    </tr>\n",
              "    <tr>\n",
              "      <th>2</th>\n",
              "      <td>864850</td>\n",
              "      <td>[32787, 18409, 3170, 6142, 105571]</td>\n",
              "    </tr>\n",
              "    <tr>\n",
              "      <th>3</th>\n",
              "      <td>899350</td>\n",
              "      <td>[109501, 31923, 70581, 141789, 44412]</td>\n",
              "    </tr>\n",
              "    <tr>\n",
              "      <th>4</th>\n",
              "      <td>1441420</td>\n",
              "      <td>[156010, 32787, 18409, 130691, 48058]</td>\n",
              "    </tr>\n",
              "    <tr>\n",
              "      <th>5</th>\n",
              "      <td>1718120</td>\n",
              "      <td>[24758, 33077, 141789, 46634, 54516]</td>\n",
              "    </tr>\n",
              "    <tr>\n",
              "      <th>6</th>\n",
              "      <td>195541</td>\n",
              "      <td>[176132, 141789, 45871, 105593, 114886]</td>\n",
              "    </tr>\n",
              "    <tr>\n",
              "      <th>7</th>\n",
              "      <td>396561</td>\n",
              "      <td>[190126, 46274, 25361, 100434, 32787]</td>\n",
              "    </tr>\n",
              "    <tr>\n",
              "      <th>8</th>\n",
              "      <td>532681</td>\n",
              "      <td>[176132, 141789, 105593, 114886, 18409]</td>\n",
              "    </tr>\n",
              "    <tr>\n",
              "      <th>9</th>\n",
              "      <td>895361</td>\n",
              "      <td>[68117, 32787, 141789, 176132, 170945]</td>\n",
              "    </tr>\n",
              "  </tbody>\n",
              "</table>\n",
              "</div>"
            ],
            "text/plain": [
              "   User_Id                          Recommendations\n",
              "0   436580      [32787, 62976, 3170, 120104, 77241]\n",
              "1   700060    [141789, 72163, 48058, 51478, 100452]\n",
              "2   864850       [32787, 18409, 3170, 6142, 105571]\n",
              "3   899350    [109501, 31923, 70581, 141789, 44412]\n",
              "4  1441420    [156010, 32787, 18409, 130691, 48058]\n",
              "5  1718120     [24758, 33077, 141789, 46634, 54516]\n",
              "6   195541  [176132, 141789, 45871, 105593, 114886]\n",
              "7   396561    [190126, 46274, 25361, 100434, 32787]\n",
              "8   532681  [176132, 141789, 105593, 114886, 18409]\n",
              "9   895361   [68117, 32787, 141789, 176132, 170945]"
            ]
          },
          "metadata": {
            "tags": []
          },
          "execution_count": 56
        }
      ]
    },
    {
      "cell_type": "code",
      "metadata": {
        "id": "FNH7_CyNhx8_",
        "colab_type": "code",
        "outputId": "a3c908b2-3e7d-40a0-8426-a01c19324945",
        "colab": {
          "base_uri": "https://localhost:8080/",
          "height": 677
        }
      },
      "source": [
        "## now we have to clean up the recommendations column to map back the business names and add a column for the user names\n",
        "\n",
        "result_als[\"Recommendations\"] = result_als[\"Recommendations\"].apply(lambda x: [mapper[int(x)] for x in x])\n",
        "result_als[\"User Name\"] = result_als[\"User_Id\"].apply(lambda x : user_mapper[int(x)])\n",
        "pd.options.display.max_colwidth=100\n",
        "result_als[\"Recommendations\"] = result_als[\"Recommendations\"].apply(lambda x: str(x))\n",
        "result_als[\"Recommendations\"] = result_als[\"Recommendations\"].str.replace(r'[', \"\")\n",
        "result_als[\"Recommendations\"] = result_als[\"Recommendations\"].str.replace(r']', \"\")\n",
        "result_als[\"Recommendations\"] = result_als[\"Recommendations\"].str.replace(r\"'\", \"\")\n",
        "result_als[\"Recommendations\"] = result_als[\"Recommendations\"].str.replace(r'\"', \"\")\n",
        "\n",
        "result_als = result_als[['User_Id', 'User Name','Recommendations']]\n",
        "result_als.head(20)"
      ],
      "execution_count": 57,
      "outputs": [
        {
          "output_type": "execute_result",
          "data": {
            "text/html": [
              "<div>\n",
              "<style scoped>\n",
              "    .dataframe tbody tr th:only-of-type {\n",
              "        vertical-align: middle;\n",
              "    }\n",
              "\n",
              "    .dataframe tbody tr th {\n",
              "        vertical-align: top;\n",
              "    }\n",
              "\n",
              "    .dataframe thead th {\n",
              "        text-align: right;\n",
              "    }\n",
              "</style>\n",
              "<table border=\"1\" class=\"dataframe\">\n",
              "  <thead>\n",
              "    <tr style=\"text-align: right;\">\n",
              "      <th></th>\n",
              "      <th>User_Id</th>\n",
              "      <th>User Name</th>\n",
              "      <th>Recommendations</th>\n",
              "    </tr>\n",
              "  </thead>\n",
              "  <tbody>\n",
              "    <tr>\n",
              "      <th>0</th>\n",
              "      <td>436580</td>\n",
              "      <td>Stephanie</td>\n",
              "      <td>Casa Fiesta, Main Street Belly Deli, Stango Cuisine, Hybrid Fit Food, Steeple Coffee House</td>\n",
              "    </tr>\n",
              "    <tr>\n",
              "      <th>1</th>\n",
              "      <td>700060</td>\n",
              "      <td>Lauren</td>\n",
              "      <td>Deralds, Seven Saints, Charlies Grub &amp; Suds, The Vault, Krispy Krunchy Chicken</td>\n",
              "    </tr>\n",
              "    <tr>\n",
              "      <th>2</th>\n",
              "      <td>864850</td>\n",
              "      <td>Colm</td>\n",
              "      <td>Casa Fiesta, Old Time Meat &amp; Deli Shoppe, Stango Cuisine, Mas Amigos, Dublin ONeils</td>\n",
              "    </tr>\n",
              "    <tr>\n",
              "      <th>3</th>\n",
              "      <td>899350</td>\n",
              "      <td>Douglas</td>\n",
              "      <td>Los Zarapes, The Main Street Pub of Monticello, Uncle Martins Sports Bar, Deralds, B Won</td>\n",
              "    </tr>\n",
              "    <tr>\n",
              "      <th>4</th>\n",
              "      <td>1441420</td>\n",
              "      <td>Judy</td>\n",
              "      <td>Bacaro, Casa Fiesta, Old Time Meat &amp; Deli Shoppe, C &amp; C Kitchen, Charlies Grub &amp; Suds</td>\n",
              "    </tr>\n",
              "    <tr>\n",
              "      <th>5</th>\n",
              "      <td>1718120</td>\n",
              "      <td>Glenda</td>\n",
              "      <td>Portillos Hot Dogs, Toro Loco, Deralds, Taste Of Thai, Spark Museum Play Cafe</td>\n",
              "    </tr>\n",
              "    <tr>\n",
              "      <th>6</th>\n",
              "      <td>195541</td>\n",
              "      <td>Robert</td>\n",
              "      <td>Baget Sandwich Shop, Deralds, Peking House Restaurant, Maize Mexican Grill, The Wok - Chinese Ex...</td>\n",
              "    </tr>\n",
              "    <tr>\n",
              "      <th>7</th>\n",
              "      <td>396561</td>\n",
              "      <td>William</td>\n",
              "      <td>Papa Dels Pizza, Jerrys Iga, El Oasis, Cafe Sababa, Casa Fiesta</td>\n",
              "    </tr>\n",
              "    <tr>\n",
              "      <th>8</th>\n",
              "      <td>532681</td>\n",
              "      <td>S</td>\n",
              "      <td>Baget Sandwich Shop, Deralds, Maize Mexican Grill, The Wok - Chinese Express, Old Time Meat &amp; De...</td>\n",
              "    </tr>\n",
              "    <tr>\n",
              "      <th>9</th>\n",
              "      <td>895361</td>\n",
              "      <td>Pat</td>\n",
              "      <td>Amaravati  Indian Royal Cuisine, Casa Fiesta, Deralds, Baget Sandwich Shop, Salad Meister</td>\n",
              "    </tr>\n",
              "    <tr>\n",
              "      <th>10</th>\n",
              "      <td>1649661</td>\n",
              "      <td>Joe</td>\n",
              "      <td>Hamilton Walkers, Uncle Martins Sports Bar, Pies the Limit, The Main Street Pub of Monticello, L...</td>\n",
              "    </tr>\n",
              "    <tr>\n",
              "      <th>11</th>\n",
              "      <td>195642</td>\n",
              "      <td>avery</td>\n",
              "      <td>Chevys Fresh Mex, Amanos Pizza, Steeple Coffee House, First Wok, Baget Sandwich Shop</td>\n",
              "    </tr>\n",
              "    <tr>\n",
              "      <th>12</th>\n",
              "      <td>628252</td>\n",
              "      <td>Tim</td>\n",
              "      <td>Filippos Pizza &amp; Italian Food, Dominos Pizza, Chesters BBQ, Deralds, Baget Sandwich Shop</td>\n",
              "    </tr>\n",
              "    <tr>\n",
              "      <th>13</th>\n",
              "      <td>868602</td>\n",
              "      <td>Julie</td>\n",
              "      <td>Casa Fiesta, Cafe Sababa, Tks Cheesesteak, Deralds, Old Time Meat &amp; Deli Shoppe</td>\n",
              "    </tr>\n",
              "    <tr>\n",
              "      <th>14</th>\n",
              "      <td>1112452</td>\n",
              "      <td>Brady</td>\n",
              "      <td>Taste Of Thai, Deralds, I Wok, Casa Del Mar, Auntie Annes</td>\n",
              "    </tr>\n",
              "    <tr>\n",
              "      <th>15</th>\n",
              "      <td>1199942</td>\n",
              "      <td>Umair</td>\n",
              "      <td>Casa Fiesta, Signature Grill, Punch!, Steeple Coffee House, Main Street Belly Deli</td>\n",
              "    </tr>\n",
              "    <tr>\n",
              "      <th>16</th>\n",
              "      <td>1883862</td>\n",
              "      <td>Carmen</td>\n",
              "      <td>Dos Reales, Main Street Belly Deli, World Harvest Foods, Fresh International Market, Merry Anns ...</td>\n",
              "    </tr>\n",
              "    <tr>\n",
              "      <th>17</th>\n",
              "      <td>288113</td>\n",
              "      <td>Alex</td>\n",
              "      <td>Edible Arrangements, El Toro Mexican Restaurant, Rantoul Public House, Sairam Om, Portillos Hot ...</td>\n",
              "    </tr>\n",
              "    <tr>\n",
              "      <th>18</th>\n",
              "      <td>921353</td>\n",
              "      <td>Lauren</td>\n",
              "      <td>El Oasis, Los Zarapes, Deralds, Black Dog Smoke &amp; Ale House, The Spice Box</td>\n",
              "    </tr>\n",
              "    <tr>\n",
              "      <th>19</th>\n",
              "      <td>1257263</td>\n",
              "      <td>Tonia</td>\n",
              "      <td>Casa Fiesta, Deralds, El Oasis, Baget Sandwich Shop, Mas Amigos</td>\n",
              "    </tr>\n",
              "  </tbody>\n",
              "</table>\n",
              "</div>"
            ],
            "text/plain": [
              "    User_Id  ...                                                                                      Recommendations\n",
              "0    436580  ...           Casa Fiesta, Main Street Belly Deli, Stango Cuisine, Hybrid Fit Food, Steeple Coffee House\n",
              "1    700060  ...                       Deralds, Seven Saints, Charlies Grub & Suds, The Vault, Krispy Krunchy Chicken\n",
              "2    864850  ...                  Casa Fiesta, Old Time Meat & Deli Shoppe, Stango Cuisine, Mas Amigos, Dublin ONeils\n",
              "3    899350  ...             Los Zarapes, The Main Street Pub of Monticello, Uncle Martins Sports Bar, Deralds, B Won\n",
              "4   1441420  ...                Bacaro, Casa Fiesta, Old Time Meat & Deli Shoppe, C & C Kitchen, Charlies Grub & Suds\n",
              "5   1718120  ...                        Portillos Hot Dogs, Toro Loco, Deralds, Taste Of Thai, Spark Museum Play Cafe\n",
              "6    195541  ...  Baget Sandwich Shop, Deralds, Peking House Restaurant, Maize Mexican Grill, The Wok - Chinese Ex...\n",
              "7    396561  ...                                      Papa Dels Pizza, Jerrys Iga, El Oasis, Cafe Sababa, Casa Fiesta\n",
              "8    532681  ...  Baget Sandwich Shop, Deralds, Maize Mexican Grill, The Wok - Chinese Express, Old Time Meat & De...\n",
              "9    895361  ...            Amaravati  Indian Royal Cuisine, Casa Fiesta, Deralds, Baget Sandwich Shop, Salad Meister\n",
              "10  1649661  ...  Hamilton Walkers, Uncle Martins Sports Bar, Pies the Limit, The Main Street Pub of Monticello, L...\n",
              "11   195642  ...                 Chevys Fresh Mex, Amanos Pizza, Steeple Coffee House, First Wok, Baget Sandwich Shop\n",
              "12   628252  ...             Filippos Pizza & Italian Food, Dominos Pizza, Chesters BBQ, Deralds, Baget Sandwich Shop\n",
              "13   868602  ...                      Casa Fiesta, Cafe Sababa, Tks Cheesesteak, Deralds, Old Time Meat & Deli Shoppe\n",
              "14  1112452  ...                                            Taste Of Thai, Deralds, I Wok, Casa Del Mar, Auntie Annes\n",
              "15  1199942  ...                   Casa Fiesta, Signature Grill, Punch!, Steeple Coffee House, Main Street Belly Deli\n",
              "16  1883862  ...  Dos Reales, Main Street Belly Deli, World Harvest Foods, Fresh International Market, Merry Anns ...\n",
              "17   288113  ...  Edible Arrangements, El Toro Mexican Restaurant, Rantoul Public House, Sairam Om, Portillos Hot ...\n",
              "18   921353  ...                           El Oasis, Los Zarapes, Deralds, Black Dog Smoke & Ale House, The Spice Box\n",
              "19  1257263  ...                                      Casa Fiesta, Deralds, El Oasis, Baget Sandwich Shop, Mas Amigos\n",
              "\n",
              "[20 rows x 3 columns]"
            ]
          },
          "metadata": {
            "tags": []
          },
          "execution_count": 57
        }
      ]
    },
    {
      "cell_type": "markdown",
      "metadata": {
        "id": "aq5kOs68eLLR",
        "colab_type": "text"
      },
      "source": [
        "## Display results"
      ]
    },
    {
      "cell_type": "code",
      "metadata": {
        "id": "achlDelod5BT",
        "colab_type": "code",
        "colab": {
          "base_uri": "https://localhost:8080/",
          "height": 1000
        },
        "outputId": "0e8759a0-c8bc-4787-b283-ac2ba028c793"
      },
      "source": [
        "# show result for a random user_id\n",
        "\n",
        "random.seed(123)\n",
        "ind = random.sample(list(result_als['User_Id'].unique()),6)\n",
        "\n",
        "for i in ind:\n",
        "  name = result_als.loc[result_als['User_Id']==i,'User Name'].values[0]\n",
        "  print(f\"\\033[1mUser Id: {i}\")\n",
        "  suggestions = result_als.loc[result_als['User_Id']==i,'Recommendations'].values[0].split(', ')\n",
        "  suggestions\n",
        "  print(f\"Top {num_recs} places {name} should try!\\033[0m\\n\")\n",
        "  for i in range(num_recs):\n",
        "    print(f\"Place # {i+1} :\", list(suggestions)[i])\n",
        "    \n",
        "  print('\\n')\n",
        "  "
      ],
      "execution_count": 88,
      "outputs": [
        {
          "output_type": "stream",
          "text": [
            "\u001b[1mUser Id: 1011726\n",
            "Top 5 places Robyn should try!\u001b[0m\n",
            "\n",
            "Place # 1 : Hybrid Fit Food\n",
            "Place # 2 : C & C Kitchen\n",
            "Place # 3 : Guidos Bar & Grill\n",
            "Place # 4 : Layalina Mediterranean Grill\n",
            "Place # 5 : Jimmy Johns\n",
            "\n",
            "\n",
            "\u001b[1mUser Id: 312700\n",
            "Top 5 places David should try!\u001b[0m\n",
            "\n",
            "Place # 1 : Bossa Nova Cafe\n",
            "Place # 2 : Jersey Mikes Subs\n",
            "Place # 3 : Amanos Pizza\n",
            "Place # 4 : Steeple Coffee House\n",
            "Place # 5 : Pies the Limit\n",
            "\n",
            "\n",
            "\u001b[1mUser Id: 678387\n",
            "Top 5 places Katie should try!\u001b[0m\n",
            "\n",
            "Place # 1 : Deralds\n",
            "Place # 2 : Seven Saints\n",
            "Place # 3 : Charlies Grub & Suds\n",
            "Place # 4 : The Vault\n",
            "Place # 5 : Krispy Krunchy Chicken\n",
            "\n",
            "\n",
            "\u001b[1mUser Id: 1240780\n",
            "Top 5 places Lacey should try!\u001b[0m\n",
            "\n",
            "Place # 1 : Deralds\n",
            "Place # 2 : Taste Of Thai\n",
            "Place # 3 : Baget Sandwich Shop\n",
            "Place # 4 : Ozu Ramen\n",
            "Place # 5 : Art Mart\n",
            "\n",
            "\n",
            "\u001b[1mUser Id: 185846\n",
            "Top 5 places An should try!\u001b[0m\n",
            "\n",
            "Place # 1 : Baget Sandwich Shop\n",
            "Place # 2 : Deralds\n",
            "Place # 3 : The Wok - Chinese Express\n",
            "Place # 4 : Casa Fiesta\n",
            "Place # 5 : Peking House Restaurant\n",
            "\n",
            "\n",
            "\u001b[1mUser Id: 1013686\n",
            "Top 5 places Kevin should try!\u001b[0m\n",
            "\n",
            "Place # 1 : Casa Fiesta\n",
            "Place # 2 : Mas Amigos\n",
            "Place # 3 : Jerrys Iga\n",
            "Place # 4 : Biaggis Ristorante Italiano\n",
            "Place # 5 : TEAMOJI\n",
            "\n",
            "\n"
          ],
          "name": "stdout"
        }
      ]
    },
    {
      "cell_type": "markdown",
      "metadata": {
        "id": "CZPCedfN3X9h",
        "colab_type": "text"
      },
      "source": [
        "# Query Based Recommendation for users \n",
        "\n",
        "Here we use tokenised reviews to predict top three places the users should go to. "
      ]
    },
    {
      "cell_type": "code",
      "metadata": {
        "id": "1tsmfuKV2qMA",
        "colab_type": "code",
        "outputId": "4f8a2830-f6b3-45b9-9384-59f442204523",
        "colab": {
          "base_uri": "https://localhost:8080/",
          "height": 54
        }
      },
      "source": [
        "import nltk\n",
        "nltk.download('stopwords')\n",
        "import string\n",
        "from nltk.corpus import stopwords"
      ],
      "execution_count": 96,
      "outputs": [
        {
          "output_type": "stream",
          "text": [
            "[nltk_data] Downloading package stopwords to /root/nltk_data...\n",
            "[nltk_data]   Unzipping corpora/stopwords.zip.\n"
          ],
          "name": "stdout"
        }
      ]
    },
    {
      "cell_type": "markdown",
      "metadata": {
        "id": "KRXa5kzo-r8t",
        "colab_type": "text"
      },
      "source": [
        "##  Tokenising the reviews"
      ]
    },
    {
      "cell_type": "code",
      "metadata": {
        "id": "gzVtg_OF3sdl",
        "colab_type": "code",
        "colab": {}
      },
      "source": [
        "#clean punctuation and stopwords out of text \n",
        "def text_cleaner(txt):\n",
        "  stop = []\n",
        "  for word in stopwords.words('english'):\n",
        "    s = [char for char in word if char not in string.punctuation]\n",
        "    stop.append(''.join(s))\n",
        "\n",
        "  nopunc = [char for char in txt if char not in string.punctuation]\n",
        "  #join char back to a string\n",
        "  nopunc = ''.join(nopunc)\n",
        "  \n",
        "  return \" \".join([word for word in nopunc.split() if word.lower() not in stop])"
      ],
      "execution_count": 0,
      "outputs": []
    },
    {
      "cell_type": "code",
      "metadata": {
        "id": "w9Yxw98e3sj-",
        "colab_type": "code",
        "outputId": "1d83987c-50bf-4664-8b59-954df8873518",
        "colab": {
          "base_uri": "https://localhost:8080/",
          "height": 382
        }
      },
      "source": [
        "subset_df['clean_text'] = subset_df['text'].apply(text_cleaner)\n",
        "subset_df.to_csv(\"illinois.csv\",index=False)##save checkpoint\n",
        "subset_df.head()"
      ],
      "execution_count": 97,
      "outputs": [
        {
          "output_type": "execute_result",
          "data": {
            "text/html": [
              "<div>\n",
              "<style scoped>\n",
              "    .dataframe tbody tr th:only-of-type {\n",
              "        vertical-align: middle;\n",
              "    }\n",
              "\n",
              "    .dataframe tbody tr th {\n",
              "        vertical-align: top;\n",
              "    }\n",
              "\n",
              "    .dataframe thead th {\n",
              "        text-align: right;\n",
              "    }\n",
              "</style>\n",
              "<table border=\"1\" class=\"dataframe\">\n",
              "  <thead>\n",
              "    <tr style=\"text-align: right;\">\n",
              "      <th></th>\n",
              "      <th>review_id</th>\n",
              "      <th>user_id</th>\n",
              "      <th>business_id</th>\n",
              "      <th>business_name</th>\n",
              "      <th>city</th>\n",
              "      <th>state</th>\n",
              "      <th>review_stars</th>\n",
              "      <th>text</th>\n",
              "      <th>date</th>\n",
              "      <th>categories</th>\n",
              "      <th>food</th>\n",
              "      <th>name</th>\n",
              "      <th>uiz</th>\n",
              "      <th>biz</th>\n",
              "      <th>clean_text</th>\n",
              "    </tr>\n",
              "  </thead>\n",
              "  <tbody>\n",
              "    <tr>\n",
              "      <th>0</th>\n",
              "      <td>m4AXzV9l14iFBd9D...</td>\n",
              "      <td>6X0i-oGUbh5DZdTH...</td>\n",
              "      <td>9A1C1f0m4nQltQrO...</td>\n",
              "      <td>Orange &amp; Brew</td>\n",
              "      <td>Champaign</td>\n",
              "      <td>IL</td>\n",
              "      <td>1.0</td>\n",
              "      <td>The building is ...</td>\n",
              "      <td>2013-12-07 02:26:13</td>\n",
              "      <td>American (New), ...</td>\n",
              "      <td>True</td>\n",
              "      <td>Helen</td>\n",
              "      <td>231793</td>\n",
              "      <td>32972</td>\n",
              "      <td>building lovely ...</td>\n",
              "    </tr>\n",
              "    <tr>\n",
              "      <th>1</th>\n",
              "      <td>A-yKlSLEQQcoHR5q...</td>\n",
              "      <td>Yximlvn0cfb3yVDa...</td>\n",
              "      <td>VHsNB3pdGVcRgs6C...</td>\n",
              "      <td>Dublin O'Neil's</td>\n",
              "      <td>Champaign</td>\n",
              "      <td>IL</td>\n",
              "      <td>5.0</td>\n",
              "      <td>LOVE LOVE LOVE t...</td>\n",
              "      <td>2013-08-03 19:59:56</td>\n",
              "      <td>Restaurants, Irish</td>\n",
              "      <td>True</td>\n",
              "      <td>Angela</td>\n",
              "      <td>1106075</td>\n",
              "      <td>105571</td>\n",
              "      <td>LOVE LOVE LOVE p...</td>\n",
              "    </tr>\n",
              "    <tr>\n",
              "      <th>2</th>\n",
              "      <td>asLnux3k2yqoVjcJ...</td>\n",
              "      <td>Cz8l7JQ2I_RhtK0B...</td>\n",
              "      <td>Ah4i15g8Ow_zphzc...</td>\n",
              "      <td>The Bread Company</td>\n",
              "      <td>Urbana</td>\n",
              "      <td>IL</td>\n",
              "      <td>4.0</td>\n",
              "      <td>The bread compan...</td>\n",
              "      <td>2015-12-05 05:38:55</td>\n",
              "      <td>Bakeries, Americ...</td>\n",
              "      <td>True</td>\n",
              "      <td>Charlie</td>\n",
              "      <td>429645</td>\n",
              "      <td>38153</td>\n",
              "      <td>bread company pe...</td>\n",
              "    </tr>\n",
              "    <tr>\n",
              "      <th>3</th>\n",
              "      <td>YIMS3PGxfWN5iFII...</td>\n",
              "      <td>m7rosN4Yh__tXkWP...</td>\n",
              "      <td>9MnbQg7kfb_WgxoV...</td>\n",
              "      <td>Black Dog Smoke ...</td>\n",
              "      <td>Urbana</td>\n",
              "      <td>IL</td>\n",
              "      <td>5.0</td>\n",
              "      <td>This is the best...</td>\n",
              "      <td>2015-06-21 01:54:38</td>\n",
              "      <td>Barbeque, Restau...</td>\n",
              "      <td>True</td>\n",
              "      <td>Seth</td>\n",
              "      <td>1542529</td>\n",
              "      <td>33678</td>\n",
              "      <td>best restaurant ...</td>\n",
              "    </tr>\n",
              "    <tr>\n",
              "      <th>4</th>\n",
              "      <td>CWjzk0w-OZwzOmCu...</td>\n",
              "      <td>iYwDTxhYStsIDHB5...</td>\n",
              "      <td>t_yiQnxUDdPPCN2z...</td>\n",
              "      <td>Golden Harbor Au...</td>\n",
              "      <td>Champaign</td>\n",
              "      <td>IL</td>\n",
              "      <td>5.0</td>\n",
              "      <td>If you want REAL...</td>\n",
              "      <td>2015-09-23 23:23:51</td>\n",
              "      <td>Restaurants, Chi...</td>\n",
              "      <td>True</td>\n",
              "      <td>Elizabeth</td>\n",
              "      <td>1432036</td>\n",
              "      <td>188347</td>\n",
              "      <td>want REAL AUTHEN...</td>\n",
              "    </tr>\n",
              "  </tbody>\n",
              "</table>\n",
              "</div>"
            ],
            "text/plain": [
              "             review_id              user_id  ...     biz           clean_text\n",
              "0  m4AXzV9l14iFBd9D...  6X0i-oGUbh5DZdTH...  ...   32972  building lovely ...\n",
              "1  A-yKlSLEQQcoHR5q...  Yximlvn0cfb3yVDa...  ...  105571  LOVE LOVE LOVE p...\n",
              "2  asLnux3k2yqoVjcJ...  Cz8l7JQ2I_RhtK0B...  ...   38153  bread company pe...\n",
              "3  YIMS3PGxfWN5iFII...  m7rosN4Yh__tXkWP...  ...   33678  best restaurant ...\n",
              "4  CWjzk0w-OZwzOmCu...  iYwDTxhYStsIDHB5...  ...  188347  want REAL AUTHEN...\n",
              "\n",
              "[5 rows x 15 columns]"
            ]
          },
          "metadata": {
            "tags": []
          },
          "execution_count": 97
        }
      ]
    },
    {
      "cell_type": "code",
      "metadata": {
        "id": "CNRXGDllTnAX",
        "colab_type": "code",
        "outputId": "3d082437-1b27-4e0d-a0b5-8436ed1b30de",
        "colab": {
          "base_uri": "https://localhost:8080/",
          "height": 36
        }
      },
      "source": [
        "pd.options.display.max_colwidth = 20\n",
        "subset_df = pd.read_csv('illinois.csv')\n",
        "\n",
        "subset_df['categories'] = subset_df[\"categories\"].apply(lambda x : x.replace(\"[\", \" \").strip(\" \"))\n",
        "subset_df['categories'] = subset_df[\"categories\"].apply(lambda x : x.replace(\"]\", \" \").strip(\" \"))\n",
        "subset_df['categories'] = subset_df[\"categories\"].apply(lambda x : x.replace(\"'\", \"\").strip(\" \"))\n",
        "subset_df.shape\n"
      ],
      "execution_count": 98,
      "outputs": [
        {
          "output_type": "execute_result",
          "data": {
            "text/plain": [
              "(32327, 15)"
            ]
          },
          "metadata": {
            "tags": []
          },
          "execution_count": 98
        }
      ]
    },
    {
      "cell_type": "markdown",
      "metadata": {
        "id": "u-VU6_O--3uk",
        "colab_type": "text"
      },
      "source": [
        "## Preparing the matrices for factorisation"
      ]
    },
    {
      "cell_type": "code",
      "metadata": {
        "id": "GEXFD1tg3srG",
        "colab_type": "code",
        "colab": {}
      },
      "source": [
        "user_df = subset_df[['user_id','clean_text']]\n",
        "bus_df = subset_df[['business_id', 'clean_text']]\n",
        "\n",
        "#append all the text for each user && each restaurant\n",
        "u_df = user_df.groupby('user_id').agg({'clean_text': ' '.join})\n",
        "b_df = bus_df.groupby('business_id').agg({'clean_text': ' '.join})"
      ],
      "execution_count": 0,
      "outputs": []
    },
    {
      "cell_type": "code",
      "metadata": {
        "id": "dqg0qMmw3spt",
        "colab_type": "code",
        "outputId": "c49caebd-f900-4d44-8b62-46a5a40379fd",
        "colab": {
          "base_uri": "https://localhost:8080/",
          "height": 36
        }
      },
      "source": [
        "#apply the TFIDF Vectorizer to extract the features from the text\n",
        "from sklearn.feature_extraction.text import TfidfVectorizer\n",
        "from nltk.tokenize import WordPunctTokenizer\n",
        "\n",
        "#userid vectorizer\n",
        "user_vec = TfidfVectorizer(tokenizer = WordPunctTokenizer().tokenize, max_features=1000)\n",
        "u_vectors = user_vec.fit_transform(u_df['clean_text'])\n",
        "\n",
        "#Business id vectorizer\n",
        "bus_vec = TfidfVectorizer(tokenizer = WordPunctTokenizer().tokenize, max_features=1000)\n",
        "b_vectors = bus_vec.fit_transform(b_df['clean_text'])\n",
        "\n",
        "# Matrix Factorization\n",
        "rating_matrix = pd.pivot_table(subset_df, values='review_stars', index=['user_id'], columns=['business_id'])\n",
        "rating_matrix.shape"
      ],
      "execution_count": 100,
      "outputs": [
        {
          "output_type": "execute_result",
          "data": {
            "text/plain": [
              "(12255, 702)"
            ]
          },
          "metadata": {
            "tags": []
          },
          "execution_count": 100
        }
      ]
    },
    {
      "cell_type": "markdown",
      "metadata": {
        "id": "S_3Fa2n1-8qD",
        "colab_type": "text"
      },
      "source": [
        "## Setting up the model"
      ]
    },
    {
      "cell_type": "code",
      "metadata": {
        "id": "_-_CRNO25UMV",
        "colab_type": "code",
        "colab": {}
      },
      "source": [
        "#To avoid our model overfitting we have to add regularization to our LSE formula \n",
        "#apply the equation to minimize the error using Gradient Decent\n",
        "#update the values of each feature in matrix P and matrix Q.\n",
        " \n",
        "from datetime import datetime\n",
        "import pytz\n",
        " \n",
        "def matrix_factorization(R, P, Q, steps=25, gamma=0.001,lamda=0.02, threshold = 0.001):\n",
        "    \n",
        "    zz =0\n",
        "    tot = len(R.index)*len(R.columns)*2*steps\n",
        "    print(tot)\n",
        "    tz = pytz.timezone('America/Chicago') \n",
        "    datetime_CH = datetime.now(tz)\n",
        "    print(\"Start\",datetime_CH.strftime('%Y-%m-%d %H:%M:%S'))\n",
        "    iter= 1\n",
        "    \n",
        "    for step in range(steps):\n",
        "        start = time.time()\n",
        "        for i in R.index:\n",
        "            for j in R.columns:\n",
        "                if R.loc[i,j]>0:\n",
        "                    eij=R.loc[i,j]-np.dot(P.loc[i],Q.loc[j])\n",
        "                    P.loc[i]=P.loc[i]+gamma*(eij*Q.loc[j]-lamda*P.loc[i])\n",
        "                    Q.loc[j]=Q.loc[j]+gamma*(eij*P.loc[i]-lamda*Q.loc[j])\n",
        "                    zz+=1\n",
        "                    \n",
        "        e=0\n",
        "        for i in R.index:\n",
        "            for j in R.columns:\n",
        "                if R.loc[i,j]>0:\n",
        "                    e= e + pow(R.loc[i,j]-np.dot(P.loc[i],Q.loc[j]),2)+lamda*(pow(np.linalg.norm(P.loc[i]),2)+pow(np.linalg.norm(Q.loc[j]),2))\n",
        "                    zz+=1\n",
        "\n",
        "        print(\"Iter #\", iter,datetime.now(tz).strftime('%Y-%m-%d %H:%M:%S'), timeSince(start))\n",
        "        iter+=1\n",
        "        if e<threshold:\n",
        "            print(zz)\n",
        "            break\n",
        "    print(\"Iterations :\", zz)  \n",
        "    return P,Q"
      ],
      "execution_count": 0,
      "outputs": []
    },
    {
      "cell_type": "markdown",
      "metadata": {
        "id": "QIaysJxr_GuF",
        "colab_type": "text"
      },
      "source": [
        "Tuning the matrix factorisation take a reasonable amount of time . \n",
        "Thus we save the P and Q matrices once we apply the fucntion"
      ]
    },
    {
      "cell_type": "code",
      "metadata": {
        "id": "ylnScGvnDLXJ",
        "colab_type": "code",
        "outputId": "45dd21d4-8eaa-47ba-8e37-bf16a31f1e97",
        "colab": {
          "base_uri": "https://localhost:8080/",
          "height": 569
        }
      },
      "source": [
        "%%time\n",
        "P = pd.DataFrame(u_vectors.toarray(), index=u_df.index, columns=user_vec.get_feature_names())\n",
        "Q = pd.DataFrame(b_vectors.toarray(), index=b_df.index, columns=bus_vec.get_feature_names())\n",
        "\n",
        "P, Q = matrix_factorization(rating_matrix, P, Q, steps=25, gamma=0.01,lamda=0.01,threshold = 0.0075)\n",
        "\n",
        "P.to_csv(\"P_matrix.csv\")\n",
        "Q.to_csv(\"Q_matrix.csv\")"
      ],
      "execution_count": 0,
      "outputs": [
        {
          "output_type": "stream",
          "text": [
            "430150500\n",
            "Start 2020-06-05 14:54:45\n",
            "Iter # 1 2020-06-05 14:59:40 4m 55s\n",
            "Iter # 2 2020-06-05 15:04:36 4m 55s\n",
            "Iter # 3 2020-06-05 15:09:33 4m 57s\n",
            "Iter # 4 2020-06-05 15:14:28 4m 54s\n",
            "Iter # 5 2020-06-05 15:19:26 4m 58s\n",
            "Iter # 6 2020-06-05 15:24:22 4m 55s\n",
            "Iter # 7 2020-06-05 15:29:17 4m 55s\n",
            "Iter # 8 2020-06-05 15:34:16 4m 59s\n",
            "Iter # 9 2020-06-05 15:39:11 4m 54s\n",
            "Iter # 10 2020-06-05 15:44:06 4m 55s\n",
            "Iter # 11 2020-06-05 15:49:04 4m 57s\n",
            "Iter # 12 2020-06-05 15:54:05 5m 0s\n",
            "Iter # 13 2020-06-05 15:59:07 5m 2s\n",
            "Iter # 14 2020-06-05 16:04:06 4m 58s\n",
            "Iter # 15 2020-06-05 16:09:02 4m 55s\n",
            "Iter # 16 2020-06-05 16:13:58 4m 55s\n",
            "Iter # 17 2020-06-05 16:18:55 4m 57s\n",
            "Iter # 18 2020-06-05 16:23:51 4m 55s\n",
            "Iter # 19 2020-06-05 16:28:46 4m 55s\n",
            "Iter # 20 2020-06-05 16:33:43 4m 56s\n",
            "Iter # 21 2020-06-05 16:38:40 4m 56s\n",
            "Iter # 22 2020-06-05 16:43:36 4m 55s\n",
            "Iter # 23 2020-06-05 16:48:31 4m 54s\n",
            "Iter # 24 2020-06-05 16:53:26 4m 54s\n",
            "Iter # 25 2020-06-05 16:58:20 4m 54s\n",
            "Iterations : 1562500\n",
            "CPU times: user 2h 3min 57s, sys: 5.36 s, total: 2h 4min 3s\n",
            "Wall time: 2h 4min 2s\n"
          ],
          "name": "stdout"
        }
      ]
    },
    {
      "cell_type": "code",
      "metadata": {
        "id": "0erG2PehS7s2",
        "colab_type": "code",
        "outputId": "87a076a4-809c-4aaa-d92e-51ef68ddead7",
        "colab": {
          "base_uri": "https://localhost:8080/",
          "height": 91
        }
      },
      "source": [
        "## reading the dataframes from saved locations --this was to ensure that we dont lose the model outputs\n",
        "\n",
        "P = pd.read_csv('P_matrix.csv')\n",
        "Q = pd.read_csv('Q_matrix.csv')\n",
        "\n",
        "print(\"Shape P:\", P.shape,  \"Shape Q:\", Q.shape)\n",
        "\n",
        "P.index = P['user_id']\n",
        "P = P.drop(columns='user_id')\n",
        "\n",
        "Q.index = Q['business_id']\n",
        "Q = Q.drop(columns='business_id')\n",
        "\n",
        "print(\"\\nRevised Dimensions \")\n",
        "print(\"Shape P:\", P.shape,  \"Shape Q:\", Q.shape)"
      ],
      "execution_count": 90,
      "outputs": [
        {
          "output_type": "stream",
          "text": [
            "Shape P: (12255, 1001) Shape Q: (702, 1001)\n",
            "\n",
            "Revised Dimensions \n",
            "Shape P: (12255, 1000) Shape Q: (702, 1000)\n"
          ],
          "name": "stdout"
        }
      ]
    },
    {
      "cell_type": "markdown",
      "metadata": {
        "id": "wKa60hywlW0D",
        "colab_type": "text"
      },
      "source": [
        "## Testing the user queries"
      ]
    },
    {
      "cell_type": "code",
      "metadata": {
        "id": "RB8bIgzeEJeG",
        "colab_type": "code",
        "colab": {}
      },
      "source": [
        "def user_response(querytext):\n",
        "  pred_df= pd.DataFrame([words], columns=['text'])\n",
        "  pred_df['text'] = pred_df['text'].apply(text_cleaner)\n",
        "  pred_vectors = user_vec.transform(pred_df['text'])\n",
        "  pred_v_df = pd.DataFrame(pred_vectors.toarray(), index=pred_df.index, columns=user_vec.get_feature_names())\n",
        "\n",
        "  predItemRating=pd.DataFrame(np.dot(pred_v_df.loc[0],Q.T),index=Q.index,columns=['Rating'])\n",
        "  topRecom=pd.DataFrame.sort_values(predItemRating,['Rating'],ascending=[0])[:3]\n",
        "\n",
        "  # print the result\n",
        "  print(\"\\033[1mUSER QUERY :\\033[0m \",words+\"\\n\")\n",
        "  for i in topRecom.index:\n",
        "    print(\"\\033[1m\" + str(subset_df[subset_df['business_id']==i]['name'].iloc[0])+  \"\\033[0m\")\n",
        "    print(subset_df[subset_df['business_id']==i]['categories'].iloc[0])\n",
        "    print(\"Address: \"+ (business_tb[business_tb['business_id']==i]['address'].iloc[0]))\n",
        "    print(business_tb[business_tb['business_id']==i]['city'].iloc[0])\n",
        "    print(business_tb[business_tb['business_id']==i]['state'].iloc[0], business_tb[business_tb['business_id']==i]['postal_code'].iloc[0])\n",
        "    print(\"Average Stars: \", business_tb[business_tb['business_id']==i]['stars'].iloc[0], \"# User Reviews: \", business_tb[business_tb['business_id']==i]['review_count'].iloc[0])\n",
        "    print(\"\")\n",
        "    "
      ],
      "execution_count": 0,
      "outputs": []
    },
    {
      "cell_type": "code",
      "metadata": {
        "id": "_INbb0ssEURn",
        "colab_type": "code",
        "colab": {
          "base_uri": "https://localhost:8080/",
          "height": 444
        },
        "outputId": "d62d27c6-0b16-470b-c827-1c092e72d0ca"
      },
      "source": [
        "words = \"I want to have sushi\"\n",
        "user_response(words)"
      ],
      "execution_count": 102,
      "outputs": [
        {
          "output_type": "stream",
          "text": [
            "\u001b[1mUSER QUERY :\u001b[0m  I want to have sushi\n",
            "\n",
            "\u001b[1mCarl\u001b[0m\n",
            "Sushi Bars, Asian Fusion, Restaurants\n",
            "Address: 1 E Main St\n",
            "Champaign\n",
            "IL 61820\n",
            "Average Stars:  3.5 # User Reviews:  287\n",
            "\n",
            "\u001b[1mRebecca\u001b[0m\n",
            "Japanese, Sushi Bars, Restaurants\n",
            "Address: 403 E Green St\n",
            "Champaign\n",
            "IL 61820\n",
            "Average Stars:  4.5 # User Reviews:  450\n",
            "\n",
            "\u001b[1mDonna\u001b[0m\n",
            "Japanese, Sushi Bars, Restaurants\n",
            "Address: 132 W Church St\n",
            "Champaign\n",
            "IL 61820\n",
            "Average Stars:  3.5 # User Reviews:  149\n",
            "\n"
          ],
          "name": "stdout"
        }
      ]
    },
    {
      "cell_type": "code",
      "metadata": {
        "id": "1G9aDwKhhDvj",
        "colab_type": "code",
        "outputId": "ec9153b7-0d1b-44d2-ea9e-7d2ddca40af6",
        "colab": {
          "base_uri": "https://localhost:8080/",
          "height": 440
        }
      },
      "source": [
        "# give me recommendation for Tacos!\n",
        "words = \"I want to have Tacos\"\n",
        "user_response(words)"
      ],
      "execution_count": 0,
      "outputs": [
        {
          "output_type": "stream",
          "text": [
            "\u001b[1mUSER QUERY :\u001b[0m  I want to have Tacos\n",
            "\n",
            "\u001b[1mKaren\u001b[0m\n",
            "['Food Delivery Services', 'Mexican', 'Food', 'Food Trucks', 'Restaurants']\n",
            "Address: 44 E Sprinfield\n",
            "Champaign\n",
            "IL 61820\n",
            "Average Stars:  5.0 # User Reviews:  44\n",
            "\n",
            "\u001b[1mLydia\u001b[0m\n",
            "['Mexican', 'Bars', 'Restaurants', 'Nightlife']\n",
            "Address: 415 N Neil St\n",
            "Champaign\n",
            "IL 61820\n",
            "Average Stars:  3.5 # User Reviews:  122\n",
            "\n",
            "\u001b[1mGautam\u001b[0m\n",
            "['Restaurants', 'Food Trucks', 'Vegetarian', 'Food', 'Mexican', 'Street Vendors']\n",
            "Address: 607 N Cunningham Ave\n",
            "Urbana\n",
            "IL 61802\n",
            "Average Stars:  4.5 # User Reviews:  49\n",
            "\n"
          ],
          "name": "stdout"
        }
      ]
    },
    {
      "cell_type": "code",
      "metadata": {
        "id": "vm4E-AsdJi60",
        "colab_type": "code",
        "outputId": "47e0d6a2-633a-4974-d1a8-fd16b7dd7e63",
        "colab": {
          "base_uri": "https://localhost:8080/",
          "height": 444
        }
      },
      "source": [
        "# Recommendation for Paella!\n",
        "words = \"I want to have paella\"\n",
        "user_response(words)"
      ],
      "execution_count": 104,
      "outputs": [
        {
          "output_type": "stream",
          "text": [
            "\u001b[1mUSER QUERY :\u001b[0m  I want to have paella\n",
            "\n",
            "\u001b[1mSkip\u001b[0m\n",
            "Restaurants, Cheesesteaks, Food Trucks, Burgers, Chicken Wings, Food\n",
            "Address: 112 E Congress Ave\n",
            "Rantoul\n",
            "IL 61866\n",
            "Average Stars:  4.5 # User Reviews:  7\n",
            "\n",
            "\u001b[1mChristine\u001b[0m\n",
            "Restaurants, American (Traditional), Bars, Nightlife\n",
            "Address: 105 E Broadway St\n",
            "Ogden\n",
            "IL 61859\n",
            "Average Stars:  3.5 # User Reviews:  10\n",
            "\n",
            "\u001b[1mKim\u001b[0m\n",
            "Cheese Shops, Restaurants, Specialty Food, Ethnic Food, Food, Delis, Olive Oil, International Grocery\n",
            "Address: 306 Springfield Ave\n",
            "Urbana\n",
            "IL 61801\n",
            "Average Stars:  4.5 # User Reviews:  58\n",
            "\n"
          ],
          "name": "stdout"
        }
      ]
    },
    {
      "cell_type": "code",
      "metadata": {
        "id": "AkA4nrU4a4jG",
        "colab_type": "code",
        "outputId": "38efeaf4-8a85-404d-ae64-91962c4f2f49",
        "colab": {
          "base_uri": "https://localhost:8080/",
          "height": 440
        }
      },
      "source": [
        "# Recommendation for Birthday Dinner!\n",
        "words = \"Birthday Dinner\"\n",
        "user_response(words)"
      ],
      "execution_count": 0,
      "outputs": [
        {
          "output_type": "stream",
          "text": [
            "\u001b[1mUSER QUERY :\u001b[0m  Birthday Dinner\n",
            "\n",
            "\u001b[1mCharlie\u001b[0m\n",
            "Bakeries, American (New), Modern European, Food, Restaurants, Sandwiches, Delis\n",
            "Address: 706 S Goodwin Ave\n",
            "Urbana\n",
            "IL 61801\n",
            "Average Stars:  4.0 # User Reviews:  166\n",
            "\n",
            "\u001b[1mJesus\u001b[0m\n",
            "Sushi Bars, Asian Fusion, Japanese, Restaurants, Food, Desserts, Nightlife, American (New), Cocktail Bars, Lounges, Bars\n",
            "Address: 301 N Neil St, Ste 104\n",
            "Champaign\n",
            "IL 61820\n",
            "Average Stars:  4.0 # User Reviews:  183\n",
            "\n",
            "\u001b[1mJason\u001b[0m\n",
            "Beer, Wine & Spirits, Seafood, Restaurants, Steakhouses, Food, Nightlife, Bars\n",
            "Address: 201 N Neil St\n",
            "Champaign\n",
            "IL 61820\n",
            "Average Stars:  3.5 # User Reviews:  170\n",
            "\n"
          ],
          "name": "stdout"
        }
      ]
    },
    {
      "cell_type": "code",
      "metadata": {
        "id": "awyUD6C_XCuP",
        "colab_type": "code",
        "outputId": "b4f6d52a-b91d-4a0b-e507-eb22ef5ed9bd",
        "colab": {
          "base_uri": "https://localhost:8080/",
          "height": 440
        }
      },
      "source": [
        "# give me recommendation for Birthday Party!\n",
        "words = \"Candle Light dinner\"\n",
        "user_response(words)"
      ],
      "execution_count": 0,
      "outputs": [
        {
          "output_type": "stream",
          "text": [
            "\u001b[1mUSER QUERY :\u001b[0m  Candle Light dinner\n",
            "\n",
            "\u001b[1mCharlie\u001b[0m\n",
            "Bakeries, American (New), Modern European, Food, Restaurants, Sandwiches, Delis\n",
            "Address: 706 S Goodwin Ave\n",
            "Urbana\n",
            "IL 61801\n",
            "Average Stars:  4.0 # User Reviews:  166\n",
            "\n",
            "\u001b[1mJason\u001b[0m\n",
            "Beer, Wine & Spirits, Seafood, Restaurants, Steakhouses, Food, Nightlife, Bars\n",
            "Address: 201 N Neil St\n",
            "Champaign\n",
            "IL 61820\n",
            "Average Stars:  3.5 # User Reviews:  170\n",
            "\n",
            "\u001b[1mChuck\u001b[0m\n",
            "Italian, Restaurants\n",
            "Address: 204 N Neil St\n",
            "Champaign\n",
            "IL 61820\n",
            "Average Stars:  4.0 # User Reviews:  222\n",
            "\n"
          ],
          "name": "stdout"
        }
      ]
    }
  ]
}