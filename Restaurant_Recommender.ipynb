{
  "nbformat": 4,
  "nbformat_minor": 0,
  "metadata": {
    "colab": {
      "name": "Restaurant Recommender.ipynb",
      "provenance": [],
      "collapsed_sections": [],
      "machine_shape": "hm"
    },
    "kernelspec": {
      "name": "python3",
      "display_name": "Python 3"
    }
  },
  "cells": [
    {
      "cell_type": "markdown",
      "metadata": {
        "id": "2OH0M587cUMU",
        "colab_type": "text"
      },
      "source": [
        "## DATA PREPROCESSING"
      ]
    },
    {
      "cell_type": "code",
      "metadata": {
        "id": "Ip3BlgDOcJPA",
        "colab_type": "code",
        "outputId": "77bcf0e3-eae1-4676-941e-7ac93813adb4",
        "colab": {
          "base_uri": "https://localhost:8080/",
          "height": 35
        }
      },
      "source": [
        "from google.colab import drive\n",
        "drive.mount('/content/drive')"
      ],
      "execution_count": 45,
      "outputs": [
        {
          "output_type": "stream",
          "text": [
            "Drive already mounted at /content/drive; to attempt to forcibly remount, call drive.mount(\"/content/drive\", force_remount=True).\n"
          ],
          "name": "stdout"
        }
      ]
    },
    {
      "cell_type": "code",
      "metadata": {
        "id": "ywrN7G06VzIy",
        "colab_type": "code",
        "colab": {}
      },
      "source": [
        "import numpy as np\n",
        "import pandas as pd\n",
        "\n",
        "import matplotlib.pyplot as plt\n",
        "import seaborn as sns\n",
        "\n",
        "from sklearn.model_selection import train_test_split\n",
        "from sklearn.feature_extraction.text import TfidfVectorizer\n",
        "\n",
        "from nltk.corpus import stopwords \n",
        "from nltk.tokenize import WordPunctTokenizer\n",
        "\n",
        "import time\n",
        "import math\n",
        "import json\n",
        "import os\n",
        "\n",
        "import seaborn as sns; sns.set()\n",
        "import matplotlib.pyplot as plt\n",
        "\n",
        "import csv"
      ],
      "execution_count": 0,
      "outputs": []
    },
    {
      "cell_type": "code",
      "metadata": {
        "id": "KdZVptVPy__S",
        "colab_type": "code",
        "colab": {}
      },
      "source": [
        "def timeSince(since):\n",
        "    now = time.time()\n",
        "    s = now - since\n",
        "    m = math.floor(s / 60)\n",
        "    s -= m * 60\n",
        "    return '%dm %ds' % (m, s) "
      ],
      "execution_count": 0,
      "outputs": []
    },
    {
      "cell_type": "code",
      "metadata": {
        "id": "cM2bWPMqe_WH",
        "colab_type": "code",
        "outputId": "b95260ff-44f5-4111-a415-b132a4dbcf0c",
        "colab": {
          "base_uri": "https://localhost:8080/",
          "height": 164
        }
      },
      "source": [
        "os.chdir(\"/content/drive/My Drive/IDS 561/Project/old\")\n",
        "# os.chdir(\"...filepath\")\n",
        "!ls\n"
      ],
      "execution_count": 4,
      "outputs": [
        {
          "output_type": "stream",
          "text": [
            "business_data_file.csv\t    spark-2.4.5-bin-hadoop2.7.tgz\n",
            "Dataset_User_Agreement.pdf  subset_df.csv\n",
            "merged_dataset2.csv\t    user_data_file.csv\n",
            "merged_dataset.csv\t    yelp_academic_dataset_business.json\n",
            "P.csv\t\t\t    yelp_academic_dataset_checkin.json\n",
            "Q.csv\t\t\t    yelp_academic_dataset_review.json\n",
            "review_data_file.csv\t    yelp_academic_dataset_tip.json\n",
            "spark-2.4.5-bin-hadoop2.7   yelp_academic_dataset_user.json\n"
          ],
          "name": "stdout"
        }
      ]
    },
    {
      "cell_type": "code",
      "metadata": {
        "id": "ri-sfZZo8exn",
        "colab_type": "code",
        "colab": {}
      },
      "source": [
        "from datetime import datetime\n",
        "import pytz"
      ],
      "execution_count": 0,
      "outputs": []
    },
    {
      "cell_type": "markdown",
      "metadata": {
        "id": "TE4hgH6lHGxV",
        "colab_type": "text"
      },
      "source": [
        "All the orginial data is in the JSON format. for ease of use, we save them into csv files"
      ]
    },
    {
      "cell_type": "code",
      "metadata": {
        "id": "yKaIeIoi_Clu",
        "colab_type": "code",
        "colab": {
          "base_uri": "https://localhost:8080/",
          "height": 350
        },
        "outputId": "ba48e7bc-410d-4e85-fc34-aa57c5188e4d"
      },
      "source": [
        "users = []\n",
        "for line in open('yelp_academic_dataset_user.json', 'r'):\n",
        "    users.append(json.loads(line))\n",
        "\n",
        "data_file = open('user_data_file.csv', 'w')\n",
        "csv_writer = csv.writer(data_file)\n",
        "\n",
        "count = 0\n",
        "  \n",
        "for emp in users: \n",
        "    if count == 0: \n",
        "\n",
        "        # Writing headers of CSV file \n",
        "        header = emp.keys() \n",
        "        csv_writer.writerow(header) \n",
        "        count += 1\n",
        "  \n",
        "    # Writing data of CSV file \n",
        "    csv_writer.writerow(emp.values()) \n",
        "  \n",
        "data_file.close() \n",
        "\n",
        "del users\n",
        "us_tb = pd.read_csv(\"user_data_file.csv\")\n",
        "us_tb.head()"
      ],
      "execution_count": 24,
      "outputs": [
        {
          "output_type": "stream",
          "text": [
            "/usr/local/lib/python3.6/dist-packages/IPython/core/interactiveshell.py:2718: DtypeWarning: Columns (7) have mixed types.Specify dtype option on import or set low_memory=False.\n",
            "  interactivity=interactivity, compiler=compiler, result=result)\n"
          ],
          "name": "stderr"
        },
        {
          "output_type": "execute_result",
          "data": {
            "text/html": [
              "<div>\n",
              "<style scoped>\n",
              "    .dataframe tbody tr th:only-of-type {\n",
              "        vertical-align: middle;\n",
              "    }\n",
              "\n",
              "    .dataframe tbody tr th {\n",
              "        vertical-align: top;\n",
              "    }\n",
              "\n",
              "    .dataframe thead th {\n",
              "        text-align: right;\n",
              "    }\n",
              "</style>\n",
              "<table border=\"1\" class=\"dataframe\">\n",
              "  <thead>\n",
              "    <tr style=\"text-align: right;\">\n",
              "      <th></th>\n",
              "      <th>user_id</th>\n",
              "      <th>name</th>\n",
              "      <th>review_count</th>\n",
              "      <th>yelping_since</th>\n",
              "      <th>useful</th>\n",
              "      <th>funny</th>\n",
              "      <th>cool</th>\n",
              "      <th>elite</th>\n",
              "      <th>friends</th>\n",
              "      <th>fans</th>\n",
              "      <th>average_stars</th>\n",
              "      <th>compliment_hot</th>\n",
              "      <th>compliment_more</th>\n",
              "      <th>compliment_profile</th>\n",
              "      <th>compliment_cute</th>\n",
              "      <th>compliment_list</th>\n",
              "      <th>compliment_note</th>\n",
              "      <th>compliment_plain</th>\n",
              "      <th>compliment_cool</th>\n",
              "      <th>compliment_funny</th>\n",
              "      <th>compliment_writer</th>\n",
              "      <th>compliment_photos</th>\n",
              "    </tr>\n",
              "  </thead>\n",
              "  <tbody>\n",
              "    <tr>\n",
              "      <th>0</th>\n",
              "      <td>ntlvfPzc8eglqvk92iDIAw</td>\n",
              "      <td>Rafael</td>\n",
              "      <td>553</td>\n",
              "      <td>2007-07-06 03:27:11</td>\n",
              "      <td>628</td>\n",
              "      <td>225</td>\n",
              "      <td>227</td>\n",
              "      <td>NaN</td>\n",
              "      <td>oeMvJh94PiGQnx_6GlndPQ, wm1z1PaJKvHgSDRKfwhfDg...</td>\n",
              "      <td>14</td>\n",
              "      <td>3.57</td>\n",
              "      <td>3</td>\n",
              "      <td>2</td>\n",
              "      <td>1</td>\n",
              "      <td>0</td>\n",
              "      <td>1</td>\n",
              "      <td>11</td>\n",
              "      <td>15</td>\n",
              "      <td>22</td>\n",
              "      <td>22</td>\n",
              "      <td>10</td>\n",
              "      <td>0</td>\n",
              "    </tr>\n",
              "    <tr>\n",
              "      <th>1</th>\n",
              "      <td>FOBRPlBHa3WPHFB5qYDlVg</td>\n",
              "      <td>Michelle</td>\n",
              "      <td>564</td>\n",
              "      <td>2008-04-28 01:29:25</td>\n",
              "      <td>790</td>\n",
              "      <td>316</td>\n",
              "      <td>400</td>\n",
              "      <td>2008,2009,2010,2011,2012,2013</td>\n",
              "      <td>ly7EnE8leJmyqyePVYFlug, pRlR63iDytsnnniPb3AOug...</td>\n",
              "      <td>27</td>\n",
              "      <td>3.84</td>\n",
              "      <td>36</td>\n",
              "      <td>4</td>\n",
              "      <td>5</td>\n",
              "      <td>2</td>\n",
              "      <td>1</td>\n",
              "      <td>33</td>\n",
              "      <td>37</td>\n",
              "      <td>63</td>\n",
              "      <td>63</td>\n",
              "      <td>21</td>\n",
              "      <td>5</td>\n",
              "    </tr>\n",
              "    <tr>\n",
              "      <th>2</th>\n",
              "      <td>zZUnPeh2hEp0WydbAZEOOg</td>\n",
              "      <td>Martin</td>\n",
              "      <td>60</td>\n",
              "      <td>2008-08-28 23:40:05</td>\n",
              "      <td>151</td>\n",
              "      <td>125</td>\n",
              "      <td>103</td>\n",
              "      <td>2010</td>\n",
              "      <td>Uwlk0txjQBPw_JhHsQnyeg, Ybxr1tSCkv3lYA0I1qmnPQ...</td>\n",
              "      <td>5</td>\n",
              "      <td>3.44</td>\n",
              "      <td>9</td>\n",
              "      <td>6</td>\n",
              "      <td>0</td>\n",
              "      <td>1</td>\n",
              "      <td>0</td>\n",
              "      <td>3</td>\n",
              "      <td>7</td>\n",
              "      <td>17</td>\n",
              "      <td>17</td>\n",
              "      <td>4</td>\n",
              "      <td>1</td>\n",
              "    </tr>\n",
              "    <tr>\n",
              "      <th>3</th>\n",
              "      <td>QaELAmRcDc5TfJEylaaP8g</td>\n",
              "      <td>John</td>\n",
              "      <td>206</td>\n",
              "      <td>2008-09-20 00:08:14</td>\n",
              "      <td>233</td>\n",
              "      <td>160</td>\n",
              "      <td>84</td>\n",
              "      <td>2009</td>\n",
              "      <td>iog3Nyg1i4jeumiTVG_BSA, M92xWY2Vr9w0xoH8bPplfQ...</td>\n",
              "      <td>6</td>\n",
              "      <td>3.08</td>\n",
              "      <td>2</td>\n",
              "      <td>1</td>\n",
              "      <td>0</td>\n",
              "      <td>0</td>\n",
              "      <td>0</td>\n",
              "      <td>7</td>\n",
              "      <td>14</td>\n",
              "      <td>7</td>\n",
              "      <td>7</td>\n",
              "      <td>2</td>\n",
              "      <td>0</td>\n",
              "    </tr>\n",
              "    <tr>\n",
              "      <th>4</th>\n",
              "      <td>xvu8G900tezTzbbfqmTKvA</td>\n",
              "      <td>Anne</td>\n",
              "      <td>485</td>\n",
              "      <td>2008-08-09 00:30:27</td>\n",
              "      <td>1265</td>\n",
              "      <td>400</td>\n",
              "      <td>512</td>\n",
              "      <td>2009,2010,2011,2012,2014,2015,2016,2017,2018</td>\n",
              "      <td>3W3ZMSthojCUirKEqAwGNw, eTIbuu23j9tOgmIa9POyLQ...</td>\n",
              "      <td>78</td>\n",
              "      <td>4.37</td>\n",
              "      <td>8</td>\n",
              "      <td>9</td>\n",
              "      <td>2</td>\n",
              "      <td>1</td>\n",
              "      <td>1</td>\n",
              "      <td>22</td>\n",
              "      <td>28</td>\n",
              "      <td>31</td>\n",
              "      <td>31</td>\n",
              "      <td>19</td>\n",
              "      <td>31</td>\n",
              "    </tr>\n",
              "  </tbody>\n",
              "</table>\n",
              "</div>"
            ],
            "text/plain": [
              "                  user_id      name  ...  compliment_writer compliment_photos\n",
              "0  ntlvfPzc8eglqvk92iDIAw    Rafael  ...                 10                 0\n",
              "1  FOBRPlBHa3WPHFB5qYDlVg  Michelle  ...                 21                 5\n",
              "2  zZUnPeh2hEp0WydbAZEOOg    Martin  ...                  4                 1\n",
              "3  QaELAmRcDc5TfJEylaaP8g      John  ...                  2                 0\n",
              "4  xvu8G900tezTzbbfqmTKvA      Anne  ...                 19                31\n",
              "\n",
              "[5 rows x 22 columns]"
            ]
          },
          "metadata": {
            "tags": []
          },
          "execution_count": 24
        }
      ]
    },
    {
      "cell_type": "code",
      "metadata": {
        "id": "eGlxnjcTEaSE",
        "colab_type": "code",
        "colab": {
          "base_uri": "https://localhost:8080/",
          "height": 501
        },
        "outputId": "20fd4909-b4c3-49a4-b1a1-db6767dcbfed"
      },
      "source": [
        "business = []\n",
        "for line in open('yelp_academic_dataset_business.json', 'r'):\n",
        "    business.append(json.loads(line))\n",
        "\n",
        "data_file = open('business_data_file.csv', 'w')\n",
        "csv_writer = csv.writer(data_file)\n",
        "\n",
        "count = 0\n",
        "  \n",
        "for emp in business: \n",
        "    if count == 0: \n",
        "  \n",
        "        # Writing headers of CSV file \n",
        "        header = emp.keys() \n",
        "        csv_writer.writerow(header) \n",
        "        count += 1\n",
        "  \n",
        "    # Writing data of CSV file \n",
        "    csv_writer.writerow(emp.values()) \n",
        "  \n",
        "data_file.close() \n",
        "\n",
        "del business\n",
        "business_tb = pd.read_csv(\"business_data_file.csv\")\n",
        "business_tb.head()"
      ],
      "execution_count": 25,
      "outputs": [
        {
          "output_type": "execute_result",
          "data": {
            "text/html": [
              "<div>\n",
              "<style scoped>\n",
              "    .dataframe tbody tr th:only-of-type {\n",
              "        vertical-align: middle;\n",
              "    }\n",
              "\n",
              "    .dataframe tbody tr th {\n",
              "        vertical-align: top;\n",
              "    }\n",
              "\n",
              "    .dataframe thead th {\n",
              "        text-align: right;\n",
              "    }\n",
              "</style>\n",
              "<table border=\"1\" class=\"dataframe\">\n",
              "  <thead>\n",
              "    <tr style=\"text-align: right;\">\n",
              "      <th></th>\n",
              "      <th>business_id</th>\n",
              "      <th>name</th>\n",
              "      <th>address</th>\n",
              "      <th>city</th>\n",
              "      <th>state</th>\n",
              "      <th>postal_code</th>\n",
              "      <th>latitude</th>\n",
              "      <th>longitude</th>\n",
              "      <th>stars</th>\n",
              "      <th>review_count</th>\n",
              "      <th>is_open</th>\n",
              "      <th>attributes</th>\n",
              "      <th>categories</th>\n",
              "      <th>hours</th>\n",
              "    </tr>\n",
              "  </thead>\n",
              "  <tbody>\n",
              "    <tr>\n",
              "      <th>0</th>\n",
              "      <td>f9NumwFMBDn751xgFiRbNA</td>\n",
              "      <td>The Range At Lake Norman</td>\n",
              "      <td>10913 Bailey Rd</td>\n",
              "      <td>Cornelius</td>\n",
              "      <td>NC</td>\n",
              "      <td>28031</td>\n",
              "      <td>35.462724</td>\n",
              "      <td>-80.852612</td>\n",
              "      <td>3.5</td>\n",
              "      <td>36</td>\n",
              "      <td>1</td>\n",
              "      <td>{'BusinessAcceptsCreditCards': 'True', 'BikePa...</td>\n",
              "      <td>Active Life, Gun/Rifle Ranges, Guns &amp; Ammo, Sh...</td>\n",
              "      <td>{'Monday': '10:0-18:0', 'Tuesday': '11:0-20:0'...</td>\n",
              "    </tr>\n",
              "    <tr>\n",
              "      <th>1</th>\n",
              "      <td>Yzvjg0SayhoZgCljUJRF9Q</td>\n",
              "      <td>Carlos Santo, NMD</td>\n",
              "      <td>8880 E Via Linda, Ste 107</td>\n",
              "      <td>Scottsdale</td>\n",
              "      <td>AZ</td>\n",
              "      <td>85258</td>\n",
              "      <td>33.569404</td>\n",
              "      <td>-111.890264</td>\n",
              "      <td>5.0</td>\n",
              "      <td>4</td>\n",
              "      <td>1</td>\n",
              "      <td>{'GoodForKids': 'True', 'ByAppointmentOnly': '...</td>\n",
              "      <td>Health &amp; Medical, Fitness &amp; Instruction, Yoga,...</td>\n",
              "      <td>NaN</td>\n",
              "    </tr>\n",
              "    <tr>\n",
              "      <th>2</th>\n",
              "      <td>XNoUzKckATkOD1hP6vghZg</td>\n",
              "      <td>Felinus</td>\n",
              "      <td>3554 Rue Notre-Dame O</td>\n",
              "      <td>Montreal</td>\n",
              "      <td>QC</td>\n",
              "      <td>H4C 1P4</td>\n",
              "      <td>45.479984</td>\n",
              "      <td>-73.580070</td>\n",
              "      <td>5.0</td>\n",
              "      <td>5</td>\n",
              "      <td>1</td>\n",
              "      <td>NaN</td>\n",
              "      <td>Pets, Pet Services, Pet Groomers</td>\n",
              "      <td>NaN</td>\n",
              "    </tr>\n",
              "    <tr>\n",
              "      <th>3</th>\n",
              "      <td>6OAZjbxqM5ol29BuHsil3w</td>\n",
              "      <td>Nevada House of Hose</td>\n",
              "      <td>1015 Sharp Cir</td>\n",
              "      <td>North Las Vegas</td>\n",
              "      <td>NV</td>\n",
              "      <td>89030</td>\n",
              "      <td>36.219728</td>\n",
              "      <td>-115.127725</td>\n",
              "      <td>2.5</td>\n",
              "      <td>3</td>\n",
              "      <td>0</td>\n",
              "      <td>{'BusinessAcceptsCreditCards': 'True', 'ByAppo...</td>\n",
              "      <td>Hardware Stores, Home Services, Building Suppl...</td>\n",
              "      <td>{'Monday': '7:0-16:0', 'Tuesday': '7:0-16:0', ...</td>\n",
              "    </tr>\n",
              "    <tr>\n",
              "      <th>4</th>\n",
              "      <td>51M2Kk903DFYI6gnB5I6SQ</td>\n",
              "      <td>USE MY GUY SERVICES LLC</td>\n",
              "      <td>4827 E Downing Cir</td>\n",
              "      <td>Mesa</td>\n",
              "      <td>AZ</td>\n",
              "      <td>85205</td>\n",
              "      <td>33.428065</td>\n",
              "      <td>-111.726649</td>\n",
              "      <td>4.5</td>\n",
              "      <td>26</td>\n",
              "      <td>1</td>\n",
              "      <td>{'BusinessAcceptsCreditCards': 'True', 'ByAppo...</td>\n",
              "      <td>Home Services, Plumbing, Electricians, Handyma...</td>\n",
              "      <td>{'Monday': '0:0-0:0', 'Tuesday': '9:0-16:0', '...</td>\n",
              "    </tr>\n",
              "  </tbody>\n",
              "</table>\n",
              "</div>"
            ],
            "text/plain": [
              "              business_id  ...                                              hours\n",
              "0  f9NumwFMBDn751xgFiRbNA  ...  {'Monday': '10:0-18:0', 'Tuesday': '11:0-20:0'...\n",
              "1  Yzvjg0SayhoZgCljUJRF9Q  ...                                                NaN\n",
              "2  XNoUzKckATkOD1hP6vghZg  ...                                                NaN\n",
              "3  6OAZjbxqM5ol29BuHsil3w  ...  {'Monday': '7:0-16:0', 'Tuesday': '7:0-16:0', ...\n",
              "4  51M2Kk903DFYI6gnB5I6SQ  ...  {'Monday': '0:0-0:0', 'Tuesday': '9:0-16:0', '...\n",
              "\n",
              "[5 rows x 14 columns]"
            ]
          },
          "metadata": {
            "tags": []
          },
          "execution_count": 25
        }
      ]
    },
    {
      "cell_type": "code",
      "metadata": {
        "id": "jJIcRLw6Eaf_",
        "colab_type": "code",
        "colab": {
          "base_uri": "https://localhost:8080/",
          "height": 206
        },
        "outputId": "9ec38433-60c9-4db2-d5ce-679ce5d9f61d"
      },
      "source": [
        "review = []\n",
        "for line in open('yelp_academic_dataset_review.json', 'r'):\n",
        "    review.append(json.loads(line))\n",
        "\n",
        "\n",
        "data_file = open('review_data_file.csv', 'w')\n",
        "csv_writer = csv.writer(data_file)\n",
        "\n",
        "count = 0\n",
        "  \n",
        "for emp in review: \n",
        "    if count == 0: \n",
        "  \n",
        "        # Writing headers of CSV file \n",
        "        header = emp.keys() \n",
        "        csv_writer.writerow(header) \n",
        "        count += 1\n",
        "  \n",
        "    # Writing data of CSV file \n",
        "    csv_writer.writerow(emp.values()) \n",
        "  \n",
        "data_file.close() \n",
        "del review\n",
        "review_tb = pd.read_csv(\"review_data_file.csv\")\n",
        "review_tb.head()"
      ],
      "execution_count": 26,
      "outputs": [
        {
          "output_type": "execute_result",
          "data": {
            "text/html": [
              "<div>\n",
              "<style scoped>\n",
              "    .dataframe tbody tr th:only-of-type {\n",
              "        vertical-align: middle;\n",
              "    }\n",
              "\n",
              "    .dataframe tbody tr th {\n",
              "        vertical-align: top;\n",
              "    }\n",
              "\n",
              "    .dataframe thead th {\n",
              "        text-align: right;\n",
              "    }\n",
              "</style>\n",
              "<table border=\"1\" class=\"dataframe\">\n",
              "  <thead>\n",
              "    <tr style=\"text-align: right;\">\n",
              "      <th></th>\n",
              "      <th>review_id</th>\n",
              "      <th>user_id</th>\n",
              "      <th>business_id</th>\n",
              "      <th>stars</th>\n",
              "      <th>useful</th>\n",
              "      <th>funny</th>\n",
              "      <th>cool</th>\n",
              "      <th>text</th>\n",
              "      <th>date</th>\n",
              "    </tr>\n",
              "  </thead>\n",
              "  <tbody>\n",
              "    <tr>\n",
              "      <th>0</th>\n",
              "      <td>xQY8N_XvtGbearJ5X4QryQ</td>\n",
              "      <td>OwjRMXRC0KyPrIlcjaXeFQ</td>\n",
              "      <td>-MhfebM0QIsKt87iDN-FNw</td>\n",
              "      <td>2.0</td>\n",
              "      <td>5</td>\n",
              "      <td>0</td>\n",
              "      <td>0</td>\n",
              "      <td>As someone who has worked with many museums, I...</td>\n",
              "      <td>2015-04-15 05:21:16</td>\n",
              "    </tr>\n",
              "    <tr>\n",
              "      <th>1</th>\n",
              "      <td>UmFMZ8PyXZTY2QcwzsfQYA</td>\n",
              "      <td>nIJD_7ZXHq-FX8byPMOkMQ</td>\n",
              "      <td>lbrU8StCq3yDfr-QMnGrmQ</td>\n",
              "      <td>1.0</td>\n",
              "      <td>1</td>\n",
              "      <td>1</td>\n",
              "      <td>0</td>\n",
              "      <td>I am actually horrified this place is still in...</td>\n",
              "      <td>2013-12-07 03:16:52</td>\n",
              "    </tr>\n",
              "    <tr>\n",
              "      <th>2</th>\n",
              "      <td>LG2ZaYiOgpr2DK_90pYjNw</td>\n",
              "      <td>V34qejxNsCbcgD8C0HVk-Q</td>\n",
              "      <td>HQl28KMwrEKHqhFrrDqVNQ</td>\n",
              "      <td>5.0</td>\n",
              "      <td>1</td>\n",
              "      <td>0</td>\n",
              "      <td>0</td>\n",
              "      <td>I love Deagan's. I do. I really do. The atmosp...</td>\n",
              "      <td>2015-12-05 03:18:11</td>\n",
              "    </tr>\n",
              "    <tr>\n",
              "      <th>3</th>\n",
              "      <td>i6g_oA9Yf9Y31qt0wibXpw</td>\n",
              "      <td>ofKDkJKXSKZXu5xJNGiiBQ</td>\n",
              "      <td>5JxlZaqCnk1MnbgRirs40Q</td>\n",
              "      <td>1.0</td>\n",
              "      <td>0</td>\n",
              "      <td>0</td>\n",
              "      <td>0</td>\n",
              "      <td>Dismal, lukewarm, defrosted-tasting \"TexMex\" g...</td>\n",
              "      <td>2011-05-27 05:30:52</td>\n",
              "    </tr>\n",
              "    <tr>\n",
              "      <th>4</th>\n",
              "      <td>6TdNDKywdbjoTkizeMce8A</td>\n",
              "      <td>UgMW8bLE0QMJDCkQ1Ax5Mg</td>\n",
              "      <td>IS4cv902ykd8wj1TR0N3-A</td>\n",
              "      <td>4.0</td>\n",
              "      <td>0</td>\n",
              "      <td>0</td>\n",
              "      <td>0</td>\n",
              "      <td>Oh happy day, finally have a Canes near my cas...</td>\n",
              "      <td>2017-01-14 21:56:57</td>\n",
              "    </tr>\n",
              "  </tbody>\n",
              "</table>\n",
              "</div>"
            ],
            "text/plain": [
              "                review_id  ...                 date\n",
              "0  xQY8N_XvtGbearJ5X4QryQ  ...  2015-04-15 05:21:16\n",
              "1  UmFMZ8PyXZTY2QcwzsfQYA  ...  2013-12-07 03:16:52\n",
              "2  LG2ZaYiOgpr2DK_90pYjNw  ...  2015-12-05 03:18:11\n",
              "3  i6g_oA9Yf9Y31qt0wibXpw  ...  2011-05-27 05:30:52\n",
              "4  6TdNDKywdbjoTkizeMce8A  ...  2017-01-14 21:56:57\n",
              "\n",
              "[5 rows x 9 columns]"
            ]
          },
          "metadata": {
            "tags": []
          },
          "execution_count": 26
        }
      ]
    },
    {
      "cell_type": "code",
      "metadata": {
        "id": "T6upH7VoHVOU",
        "colab_type": "code",
        "outputId": "96579549-94b8-4752-bb70-9cb2b606905e",
        "colab": {
          "base_uri": "https://localhost:8080/",
          "height": 206
        }
      },
      "source": [
        "#since we wont be using all the attributes in the review table, we save the relevant columns in a new dataframe\n",
        "subset_df = review_tb[['review_id', 'user_id', 'business_id', 'stars', 'text', 'date']]\n",
        "subset_df.head()"
      ],
      "execution_count": 27,
      "outputs": [
        {
          "output_type": "execute_result",
          "data": {
            "text/html": [
              "<div>\n",
              "<style scoped>\n",
              "    .dataframe tbody tr th:only-of-type {\n",
              "        vertical-align: middle;\n",
              "    }\n",
              "\n",
              "    .dataframe tbody tr th {\n",
              "        vertical-align: top;\n",
              "    }\n",
              "\n",
              "    .dataframe thead th {\n",
              "        text-align: right;\n",
              "    }\n",
              "</style>\n",
              "<table border=\"1\" class=\"dataframe\">\n",
              "  <thead>\n",
              "    <tr style=\"text-align: right;\">\n",
              "      <th></th>\n",
              "      <th>review_id</th>\n",
              "      <th>user_id</th>\n",
              "      <th>business_id</th>\n",
              "      <th>stars</th>\n",
              "      <th>text</th>\n",
              "      <th>date</th>\n",
              "    </tr>\n",
              "  </thead>\n",
              "  <tbody>\n",
              "    <tr>\n",
              "      <th>0</th>\n",
              "      <td>xQY8N_XvtGbearJ5X4QryQ</td>\n",
              "      <td>OwjRMXRC0KyPrIlcjaXeFQ</td>\n",
              "      <td>-MhfebM0QIsKt87iDN-FNw</td>\n",
              "      <td>2.0</td>\n",
              "      <td>As someone who has worked with many museums, I...</td>\n",
              "      <td>2015-04-15 05:21:16</td>\n",
              "    </tr>\n",
              "    <tr>\n",
              "      <th>1</th>\n",
              "      <td>UmFMZ8PyXZTY2QcwzsfQYA</td>\n",
              "      <td>nIJD_7ZXHq-FX8byPMOkMQ</td>\n",
              "      <td>lbrU8StCq3yDfr-QMnGrmQ</td>\n",
              "      <td>1.0</td>\n",
              "      <td>I am actually horrified this place is still in...</td>\n",
              "      <td>2013-12-07 03:16:52</td>\n",
              "    </tr>\n",
              "    <tr>\n",
              "      <th>2</th>\n",
              "      <td>LG2ZaYiOgpr2DK_90pYjNw</td>\n",
              "      <td>V34qejxNsCbcgD8C0HVk-Q</td>\n",
              "      <td>HQl28KMwrEKHqhFrrDqVNQ</td>\n",
              "      <td>5.0</td>\n",
              "      <td>I love Deagan's. I do. I really do. The atmosp...</td>\n",
              "      <td>2015-12-05 03:18:11</td>\n",
              "    </tr>\n",
              "    <tr>\n",
              "      <th>3</th>\n",
              "      <td>i6g_oA9Yf9Y31qt0wibXpw</td>\n",
              "      <td>ofKDkJKXSKZXu5xJNGiiBQ</td>\n",
              "      <td>5JxlZaqCnk1MnbgRirs40Q</td>\n",
              "      <td>1.0</td>\n",
              "      <td>Dismal, lukewarm, defrosted-tasting \"TexMex\" g...</td>\n",
              "      <td>2011-05-27 05:30:52</td>\n",
              "    </tr>\n",
              "    <tr>\n",
              "      <th>4</th>\n",
              "      <td>6TdNDKywdbjoTkizeMce8A</td>\n",
              "      <td>UgMW8bLE0QMJDCkQ1Ax5Mg</td>\n",
              "      <td>IS4cv902ykd8wj1TR0N3-A</td>\n",
              "      <td>4.0</td>\n",
              "      <td>Oh happy day, finally have a Canes near my cas...</td>\n",
              "      <td>2017-01-14 21:56:57</td>\n",
              "    </tr>\n",
              "  </tbody>\n",
              "</table>\n",
              "</div>"
            ],
            "text/plain": [
              "                review_id  ...                 date\n",
              "0  xQY8N_XvtGbearJ5X4QryQ  ...  2015-04-15 05:21:16\n",
              "1  UmFMZ8PyXZTY2QcwzsfQYA  ...  2013-12-07 03:16:52\n",
              "2  LG2ZaYiOgpr2DK_90pYjNw  ...  2015-12-05 03:18:11\n",
              "3  i6g_oA9Yf9Y31qt0wibXpw  ...  2011-05-27 05:30:52\n",
              "4  6TdNDKywdbjoTkizeMce8A  ...  2017-01-14 21:56:57\n",
              "\n",
              "[5 rows x 6 columns]"
            ]
          },
          "metadata": {
            "tags": []
          },
          "execution_count": 27
        }
      ]
    },
    {
      "cell_type": "code",
      "metadata": {
        "id": "abrY9rGxJAQK",
        "colab_type": "code",
        "colab": {
          "base_uri": "https://localhost:8080/",
          "height": 573
        },
        "outputId": "6e2b9bcc-b988-43c6-d2c2-5f20ac82a3a1"
      },
      "source": [
        "subset_df = review_tb[['review_id', 'user_id', 'business_id', 'stars', 'text', 'date']]\n",
        "subset_df.columns = ['review_id', 'user_id', 'business_id', 'review_stars', 'text', 'date']\n",
        "\n",
        "\n",
        "# for the business tabel, we would have to do a little clean up the Categories column. \n",
        "# The objective is to identify the businesses with the tag 'Restaurant' in them.\n",
        "# The count column measures the number of categories tag per business. \n",
        "business_tb = pd.read_csv(\"business_data_file.csv\")\n",
        "business_tb['categories'] = business_tb['categories'].apply(lambda x: str(x).split(','))\n",
        "business_tb['categories'] = business_tb['categories'].apply(lambda x: [y.strip() for y in x])\n",
        "\n",
        "business_tb['count'] = business_tb['categories'].apply(lambda x: len(x))\n",
        "business_tb['food'] = business_tb['categories'].apply(lambda x: 'Restaurants' in x)\n",
        "business_tb.head()\n"
      ],
      "execution_count": 28,
      "outputs": [
        {
          "output_type": "execute_result",
          "data": {
            "text/html": [
              "<div>\n",
              "<style scoped>\n",
              "    .dataframe tbody tr th:only-of-type {\n",
              "        vertical-align: middle;\n",
              "    }\n",
              "\n",
              "    .dataframe tbody tr th {\n",
              "        vertical-align: top;\n",
              "    }\n",
              "\n",
              "    .dataframe thead th {\n",
              "        text-align: right;\n",
              "    }\n",
              "</style>\n",
              "<table border=\"1\" class=\"dataframe\">\n",
              "  <thead>\n",
              "    <tr style=\"text-align: right;\">\n",
              "      <th></th>\n",
              "      <th>business_id</th>\n",
              "      <th>name</th>\n",
              "      <th>address</th>\n",
              "      <th>city</th>\n",
              "      <th>state</th>\n",
              "      <th>postal_code</th>\n",
              "      <th>latitude</th>\n",
              "      <th>longitude</th>\n",
              "      <th>stars</th>\n",
              "      <th>review_count</th>\n",
              "      <th>is_open</th>\n",
              "      <th>attributes</th>\n",
              "      <th>categories</th>\n",
              "      <th>hours</th>\n",
              "      <th>count</th>\n",
              "      <th>food</th>\n",
              "    </tr>\n",
              "  </thead>\n",
              "  <tbody>\n",
              "    <tr>\n",
              "      <th>0</th>\n",
              "      <td>f9NumwFMBDn751xgFiRbNA</td>\n",
              "      <td>The Range At Lake Norman</td>\n",
              "      <td>10913 Bailey Rd</td>\n",
              "      <td>Cornelius</td>\n",
              "      <td>NC</td>\n",
              "      <td>28031</td>\n",
              "      <td>35.462724</td>\n",
              "      <td>-80.852612</td>\n",
              "      <td>3.5</td>\n",
              "      <td>36</td>\n",
              "      <td>1</td>\n",
              "      <td>{'BusinessAcceptsCreditCards': 'True', 'BikePa...</td>\n",
              "      <td>[Active Life, Gun/Rifle Ranges, Guns &amp; Ammo, S...</td>\n",
              "      <td>{'Monday': '10:0-18:0', 'Tuesday': '11:0-20:0'...</td>\n",
              "      <td>4</td>\n",
              "      <td>False</td>\n",
              "    </tr>\n",
              "    <tr>\n",
              "      <th>1</th>\n",
              "      <td>Yzvjg0SayhoZgCljUJRF9Q</td>\n",
              "      <td>Carlos Santo, NMD</td>\n",
              "      <td>8880 E Via Linda, Ste 107</td>\n",
              "      <td>Scottsdale</td>\n",
              "      <td>AZ</td>\n",
              "      <td>85258</td>\n",
              "      <td>33.569404</td>\n",
              "      <td>-111.890264</td>\n",
              "      <td>5.0</td>\n",
              "      <td>4</td>\n",
              "      <td>1</td>\n",
              "      <td>{'GoodForKids': 'True', 'ByAppointmentOnly': '...</td>\n",
              "      <td>[Health &amp; Medical, Fitness &amp; Instruction, Yoga...</td>\n",
              "      <td>NaN</td>\n",
              "      <td>5</td>\n",
              "      <td>False</td>\n",
              "    </tr>\n",
              "    <tr>\n",
              "      <th>2</th>\n",
              "      <td>XNoUzKckATkOD1hP6vghZg</td>\n",
              "      <td>Felinus</td>\n",
              "      <td>3554 Rue Notre-Dame O</td>\n",
              "      <td>Montreal</td>\n",
              "      <td>QC</td>\n",
              "      <td>H4C 1P4</td>\n",
              "      <td>45.479984</td>\n",
              "      <td>-73.580070</td>\n",
              "      <td>5.0</td>\n",
              "      <td>5</td>\n",
              "      <td>1</td>\n",
              "      <td>NaN</td>\n",
              "      <td>[Pets, Pet Services, Pet Groomers]</td>\n",
              "      <td>NaN</td>\n",
              "      <td>3</td>\n",
              "      <td>False</td>\n",
              "    </tr>\n",
              "    <tr>\n",
              "      <th>3</th>\n",
              "      <td>6OAZjbxqM5ol29BuHsil3w</td>\n",
              "      <td>Nevada House of Hose</td>\n",
              "      <td>1015 Sharp Cir</td>\n",
              "      <td>North Las Vegas</td>\n",
              "      <td>NV</td>\n",
              "      <td>89030</td>\n",
              "      <td>36.219728</td>\n",
              "      <td>-115.127725</td>\n",
              "      <td>2.5</td>\n",
              "      <td>3</td>\n",
              "      <td>0</td>\n",
              "      <td>{'BusinessAcceptsCreditCards': 'True', 'ByAppo...</td>\n",
              "      <td>[Hardware Stores, Home Services, Building Supp...</td>\n",
              "      <td>{'Monday': '7:0-16:0', 'Tuesday': '7:0-16:0', ...</td>\n",
              "      <td>5</td>\n",
              "      <td>False</td>\n",
              "    </tr>\n",
              "    <tr>\n",
              "      <th>4</th>\n",
              "      <td>51M2Kk903DFYI6gnB5I6SQ</td>\n",
              "      <td>USE MY GUY SERVICES LLC</td>\n",
              "      <td>4827 E Downing Cir</td>\n",
              "      <td>Mesa</td>\n",
              "      <td>AZ</td>\n",
              "      <td>85205</td>\n",
              "      <td>33.428065</td>\n",
              "      <td>-111.726649</td>\n",
              "      <td>4.5</td>\n",
              "      <td>26</td>\n",
              "      <td>1</td>\n",
              "      <td>{'BusinessAcceptsCreditCards': 'True', 'ByAppo...</td>\n",
              "      <td>[Home Services, Plumbing, Electricians, Handym...</td>\n",
              "      <td>{'Monday': '0:0-0:0', 'Tuesday': '9:0-16:0', '...</td>\n",
              "      <td>5</td>\n",
              "      <td>False</td>\n",
              "    </tr>\n",
              "  </tbody>\n",
              "</table>\n",
              "</div>"
            ],
            "text/plain": [
              "              business_id                      name  ... count   food\n",
              "0  f9NumwFMBDn751xgFiRbNA  The Range At Lake Norman  ...     4  False\n",
              "1  Yzvjg0SayhoZgCljUJRF9Q         Carlos Santo, NMD  ...     5  False\n",
              "2  XNoUzKckATkOD1hP6vghZg                   Felinus  ...     3  False\n",
              "3  6OAZjbxqM5ol29BuHsil3w      Nevada House of Hose  ...     5  False\n",
              "4  51M2Kk903DFYI6gnB5I6SQ   USE MY GUY SERVICES LLC  ...     5  False\n",
              "\n",
              "[5 rows x 16 columns]"
            ]
          },
          "metadata": {
            "tags": []
          },
          "execution_count": 28
        }
      ]
    },
    {
      "cell_type": "code",
      "metadata": {
        "id": "3FUpqrIsKQXD",
        "colab_type": "code",
        "outputId": "31fe2b23-c0b3-475d-e7bd-cab0da3060f2",
        "colab": {
          "base_uri": "https://localhost:8080/",
          "height": 72
        }
      },
      "source": [
        "#let us look at the total number of businesses that have the tag 'Restaurants' \n",
        "business_tb['food'].value_counts()\n"
      ],
      "execution_count": 29,
      "outputs": [
        {
          "output_type": "execute_result",
          "data": {
            "text/plain": [
              "False    145449\n",
              "True      63944\n",
              "Name: food, dtype: int64"
            ]
          },
          "metadata": {
            "tags": []
          },
          "execution_count": 29
        }
      ]
    },
    {
      "cell_type": "code",
      "metadata": {
        "id": "yOChbmK_HnZk",
        "colab_type": "code",
        "colab": {}
      },
      "source": [
        "# Let us now merge the subset and business table to add the business name, state. \n",
        "pd.options.display.max_colwidth=30\n",
        "subset_df = pd.merge(subset_df,business_tb, how= 'left',on='business_id')[['review_id', 'user_id', 'business_id','name','state', 'review_stars', 'text', 'date','categories','food']]\n",
        "subset_df.columns = ['review_id', 'user_id', 'business_id', 'business_name', 'state','review_stars', 'text', 'date',  'categories', 'food']\n",
        "# renaming columns to reflect the appropriate heading"
      ],
      "execution_count": 0,
      "outputs": []
    },
    {
      "cell_type": "code",
      "metadata": {
        "id": "bwdgdLO0xML_",
        "colab_type": "code",
        "colab": {
          "base_uri": "https://localhost:8080/",
          "height": 414
        },
        "outputId": "8f382cae-c325-41e3-87a9-43e00e5029fb"
      },
      "source": [
        "#Joining the table with the user table to add the user name, and the data since when the user has been on Yelp\n",
        "subset_df = pd.merge(subset_df,us_tb, how= 'left',on='user_id')[['review_id', 'user_id', 'business_id', \n",
        "                                                     'business_name', 'state','review_stars', 'text', 'date', 'categories', 'food', 'name','yelping_since']]\n",
        "subset_df.head()"
      ],
      "execution_count": 31,
      "outputs": [
        {
          "output_type": "execute_result",
          "data": {
            "text/html": [
              "<div>\n",
              "<style scoped>\n",
              "    .dataframe tbody tr th:only-of-type {\n",
              "        vertical-align: middle;\n",
              "    }\n",
              "\n",
              "    .dataframe tbody tr th {\n",
              "        vertical-align: top;\n",
              "    }\n",
              "\n",
              "    .dataframe thead th {\n",
              "        text-align: right;\n",
              "    }\n",
              "</style>\n",
              "<table border=\"1\" class=\"dataframe\">\n",
              "  <thead>\n",
              "    <tr style=\"text-align: right;\">\n",
              "      <th></th>\n",
              "      <th>review_id</th>\n",
              "      <th>user_id</th>\n",
              "      <th>business_id</th>\n",
              "      <th>business_name</th>\n",
              "      <th>state</th>\n",
              "      <th>review_stars</th>\n",
              "      <th>text</th>\n",
              "      <th>date</th>\n",
              "      <th>categories</th>\n",
              "      <th>food</th>\n",
              "      <th>name</th>\n",
              "      <th>yelping_since</th>\n",
              "    </tr>\n",
              "  </thead>\n",
              "  <tbody>\n",
              "    <tr>\n",
              "      <th>0</th>\n",
              "      <td>xQY8N_XvtGbearJ5X4QryQ</td>\n",
              "      <td>OwjRMXRC0KyPrIlcjaXeFQ</td>\n",
              "      <td>-MhfebM0QIsKt87iDN-FNw</td>\n",
              "      <td>Bellagio Gallery of Fine Art</td>\n",
              "      <td>NV</td>\n",
              "      <td>2.0</td>\n",
              "      <td>As someone who has worked ...</td>\n",
              "      <td>2015-04-15 05:21:16</td>\n",
              "      <td>[Shopping, Arts &amp; Entertai...</td>\n",
              "      <td>False</td>\n",
              "      <td>Jamie</td>\n",
              "      <td>2008-12-18 09:41:38</td>\n",
              "    </tr>\n",
              "    <tr>\n",
              "      <th>1</th>\n",
              "      <td>UmFMZ8PyXZTY2QcwzsfQYA</td>\n",
              "      <td>nIJD_7ZXHq-FX8byPMOkMQ</td>\n",
              "      <td>lbrU8StCq3yDfr-QMnGrmQ</td>\n",
              "      <td>Rio Hair Salon</td>\n",
              "      <td>AZ</td>\n",
              "      <td>1.0</td>\n",
              "      <td>I am actually horrified th...</td>\n",
              "      <td>2013-12-07 03:16:52</td>\n",
              "      <td>[Beauty &amp; Spas, Hair Salons]</td>\n",
              "      <td>False</td>\n",
              "      <td>Nicole</td>\n",
              "      <td>2008-09-19 23:34:49</td>\n",
              "    </tr>\n",
              "    <tr>\n",
              "      <th>2</th>\n",
              "      <td>LG2ZaYiOgpr2DK_90pYjNw</td>\n",
              "      <td>V34qejxNsCbcgD8C0HVk-Q</td>\n",
              "      <td>HQl28KMwrEKHqhFrrDqVNQ</td>\n",
              "      <td>Deagan's Kitchen &amp; Bar</td>\n",
              "      <td>OH</td>\n",
              "      <td>5.0</td>\n",
              "      <td>I love Deagan's. I do. I r...</td>\n",
              "      <td>2015-12-05 03:18:11</td>\n",
              "      <td>[Restaurants, Gastropubs, ...</td>\n",
              "      <td>True</td>\n",
              "      <td>Danielle</td>\n",
              "      <td>2014-11-05 14:36:08</td>\n",
              "    </tr>\n",
              "    <tr>\n",
              "      <th>3</th>\n",
              "      <td>i6g_oA9Yf9Y31qt0wibXpw</td>\n",
              "      <td>ofKDkJKXSKZXu5xJNGiiBQ</td>\n",
              "      <td>5JxlZaqCnk1MnbgRirs40Q</td>\n",
              "      <td>Cabo Mexican Restaurant</td>\n",
              "      <td>NV</td>\n",
              "      <td>1.0</td>\n",
              "      <td>Dismal, lukewarm, defroste...</td>\n",
              "      <td>2011-05-27 05:30:52</td>\n",
              "      <td>[Restaurants, Mexican]</td>\n",
              "      <td>True</td>\n",
              "      <td>Butch</td>\n",
              "      <td>2010-01-09 19:05:00</td>\n",
              "    </tr>\n",
              "    <tr>\n",
              "      <th>4</th>\n",
              "      <td>6TdNDKywdbjoTkizeMce8A</td>\n",
              "      <td>UgMW8bLE0QMJDCkQ1Ax5Mg</td>\n",
              "      <td>IS4cv902ykd8wj1TR0N3-A</td>\n",
              "      <td>Raising Cane's Chicken Fin...</td>\n",
              "      <td>NV</td>\n",
              "      <td>4.0</td>\n",
              "      <td>Oh happy day, finally have...</td>\n",
              "      <td>2017-01-14 21:56:57</td>\n",
              "      <td>[Fast Food, Restaurants, S...</td>\n",
              "      <td>True</td>\n",
              "      <td>Micah</td>\n",
              "      <td>2014-07-21 00:47:49</td>\n",
              "    </tr>\n",
              "  </tbody>\n",
              "</table>\n",
              "</div>"
            ],
            "text/plain": [
              "                review_id  ...        yelping_since\n",
              "0  xQY8N_XvtGbearJ5X4QryQ  ...  2008-12-18 09:41:38\n",
              "1  UmFMZ8PyXZTY2QcwzsfQYA  ...  2008-09-19 23:34:49\n",
              "2  LG2ZaYiOgpr2DK_90pYjNw  ...  2014-11-05 14:36:08\n",
              "3  i6g_oA9Yf9Y31qt0wibXpw  ...  2010-01-09 19:05:00\n",
              "4  6TdNDKywdbjoTkizeMce8A  ...  2014-07-21 00:47:49\n",
              "\n",
              "[5 rows x 12 columns]"
            ]
          },
          "metadata": {
            "tags": []
          },
          "execution_count": 31
        }
      ]
    },
    {
      "cell_type": "markdown",
      "metadata": {
        "id": "VghFFQHucly2",
        "colab_type": "text"
      },
      "source": [
        "For the ALS algorithm, the user ids and the item ids have to be integer values, thus, we have to create a uiz and biz for the same"
      ]
    },
    {
      "cell_type": "code",
      "metadata": {
        "id": "2FE9Xb6m1Diu",
        "colab_type": "code",
        "colab": {}
      },
      "source": [
        "uiz = sorted(list(subset_df['user_id'].unique()))\n",
        "uiz = {uiz[k]:k for k in range(len(uiz))} \n",
        "\n",
        "biz = sorted(list(subset_df['business_id'].unique()))\n",
        "biz = {biz[k]:k for k in range(len(biz))}"
      ],
      "execution_count": 0,
      "outputs": []
    },
    {
      "cell_type": "code",
      "metadata": {
        "id": "XOC70jn71wtI",
        "colab_type": "code",
        "outputId": "ea77265b-00f4-4f2b-dc10-74f8d53ef42d",
        "colab": {
          "base_uri": "https://localhost:8080/",
          "height": 452
        }
      },
      "source": [
        "subset_df['uiz'] = subset_df['user_id'].apply(lambda x: uiz[x])\n",
        "subset_df['biz'] = subset_df['business_id'].apply(lambda x: biz[x])\n",
        "\n",
        "subset_df.head()"
      ],
      "execution_count": 33,
      "outputs": [
        {
          "output_type": "execute_result",
          "data": {
            "text/html": [
              "<div>\n",
              "<style scoped>\n",
              "    .dataframe tbody tr th:only-of-type {\n",
              "        vertical-align: middle;\n",
              "    }\n",
              "\n",
              "    .dataframe tbody tr th {\n",
              "        vertical-align: top;\n",
              "    }\n",
              "\n",
              "    .dataframe thead th {\n",
              "        text-align: right;\n",
              "    }\n",
              "</style>\n",
              "<table border=\"1\" class=\"dataframe\">\n",
              "  <thead>\n",
              "    <tr style=\"text-align: right;\">\n",
              "      <th></th>\n",
              "      <th>review_id</th>\n",
              "      <th>user_id</th>\n",
              "      <th>business_id</th>\n",
              "      <th>business_name</th>\n",
              "      <th>state</th>\n",
              "      <th>review_stars</th>\n",
              "      <th>text</th>\n",
              "      <th>date</th>\n",
              "      <th>categories</th>\n",
              "      <th>food</th>\n",
              "      <th>name</th>\n",
              "      <th>yelping_since</th>\n",
              "      <th>uiz</th>\n",
              "      <th>biz</th>\n",
              "    </tr>\n",
              "  </thead>\n",
              "  <tbody>\n",
              "    <tr>\n",
              "      <th>0</th>\n",
              "      <td>xQY8N_XvtGbearJ5X4QryQ</td>\n",
              "      <td>OwjRMXRC0KyPrIlcjaXeFQ</td>\n",
              "      <td>-MhfebM0QIsKt87iDN-FNw</td>\n",
              "      <td>Bellagio Gallery of Fine Art</td>\n",
              "      <td>NV</td>\n",
              "      <td>2.0</td>\n",
              "      <td>As someone who has worked ...</td>\n",
              "      <td>2015-04-15 05:21:16</td>\n",
              "      <td>[Shopping, Arts &amp; Entertai...</td>\n",
              "      <td>False</td>\n",
              "      <td>Jamie</td>\n",
              "      <td>2008-12-18 09:41:38</td>\n",
              "      <td>797678</td>\n",
              "      <td>1205</td>\n",
              "    </tr>\n",
              "    <tr>\n",
              "      <th>1</th>\n",
              "      <td>UmFMZ8PyXZTY2QcwzsfQYA</td>\n",
              "      <td>nIJD_7ZXHq-FX8byPMOkMQ</td>\n",
              "      <td>lbrU8StCq3yDfr-QMnGrmQ</td>\n",
              "      <td>Rio Hair Salon</td>\n",
              "      <td>AZ</td>\n",
              "      <td>1.0</td>\n",
              "      <td>I am actually horrified th...</td>\n",
              "      <td>2013-12-07 03:16:52</td>\n",
              "      <td>[Beauty &amp; Spas, Hair Salons]</td>\n",
              "      <td>False</td>\n",
              "      <td>Nicole</td>\n",
              "      <td>2008-09-19 23:34:49</td>\n",
              "      <td>1578288</td>\n",
              "      <td>162380</td>\n",
              "    </tr>\n",
              "    <tr>\n",
              "      <th>2</th>\n",
              "      <td>LG2ZaYiOgpr2DK_90pYjNw</td>\n",
              "      <td>V34qejxNsCbcgD8C0HVk-Q</td>\n",
              "      <td>HQl28KMwrEKHqhFrrDqVNQ</td>\n",
              "      <td>Deagan's Kitchen &amp; Bar</td>\n",
              "      <td>OH</td>\n",
              "      <td>5.0</td>\n",
              "      <td>I love Deagan's. I do. I r...</td>\n",
              "      <td>2015-12-05 03:18:11</td>\n",
              "      <td>[Restaurants, Gastropubs, ...</td>\n",
              "      <td>True</td>\n",
              "      <td>Danielle</td>\n",
              "      <td>2014-11-05 14:36:08</td>\n",
              "      <td>986024</td>\n",
              "      <td>60325</td>\n",
              "    </tr>\n",
              "    <tr>\n",
              "      <th>3</th>\n",
              "      <td>i6g_oA9Yf9Y31qt0wibXpw</td>\n",
              "      <td>ofKDkJKXSKZXu5xJNGiiBQ</td>\n",
              "      <td>5JxlZaqCnk1MnbgRirs40Q</td>\n",
              "      <td>Cabo Mexican Restaurant</td>\n",
              "      <td>NV</td>\n",
              "      <td>1.0</td>\n",
              "      <td>Dismal, lukewarm, defroste...</td>\n",
              "      <td>2011-05-27 05:30:52</td>\n",
              "      <td>[Restaurants, Mexican]</td>\n",
              "      <td>True</td>\n",
              "      <td>Butch</td>\n",
              "      <td>2010-01-09 19:05:00</td>\n",
              "      <td>1620429</td>\n",
              "      <td>20429</td>\n",
              "    </tr>\n",
              "    <tr>\n",
              "      <th>4</th>\n",
              "      <td>6TdNDKywdbjoTkizeMce8A</td>\n",
              "      <td>UgMW8bLE0QMJDCkQ1Ax5Mg</td>\n",
              "      <td>IS4cv902ykd8wj1TR0N3-A</td>\n",
              "      <td>Raising Cane's Chicken Fin...</td>\n",
              "      <td>NV</td>\n",
              "      <td>4.0</td>\n",
              "      <td>Oh happy day, finally have...</td>\n",
              "      <td>2017-01-14 21:56:57</td>\n",
              "      <td>[Fast Food, Restaurants, S...</td>\n",
              "      <td>True</td>\n",
              "      <td>Micah</td>\n",
              "      <td>2014-07-21 00:47:49</td>\n",
              "      <td>974620</td>\n",
              "      <td>63596</td>\n",
              "    </tr>\n",
              "  </tbody>\n",
              "</table>\n",
              "</div>"
            ],
            "text/plain": [
              "                review_id                 user_id  ...      uiz     biz\n",
              "0  xQY8N_XvtGbearJ5X4QryQ  OwjRMXRC0KyPrIlcjaXeFQ  ...   797678    1205\n",
              "1  UmFMZ8PyXZTY2QcwzsfQYA  nIJD_7ZXHq-FX8byPMOkMQ  ...  1578288  162380\n",
              "2  LG2ZaYiOgpr2DK_90pYjNw  V34qejxNsCbcgD8C0HVk-Q  ...   986024   60325\n",
              "3  i6g_oA9Yf9Y31qt0wibXpw  ofKDkJKXSKZXu5xJNGiiBQ  ...  1620429   20429\n",
              "4  6TdNDKywdbjoTkizeMce8A  UgMW8bLE0QMJDCkQ1Ax5Mg  ...   974620   63596\n",
              "\n",
              "[5 rows x 14 columns]"
            ]
          },
          "metadata": {
            "tags": []
          },
          "execution_count": 33
        }
      ]
    },
    {
      "cell_type": "markdown",
      "metadata": {
        "id": "9BzE0cZ2fvP1",
        "colab_type": "text"
      },
      "source": [
        "Now we have all of our variable ready, saved in the subset_df. \n",
        "Throughout the notebook, save checkpoints have been incorporated to ensure we dont waste too much time re running the cells.  "
      ]
    },
    {
      "cell_type": "code",
      "metadata": {
        "id": "uLYMWbXK2j3W",
        "colab_type": "code",
        "colab": {}
      },
      "source": [
        "subset_df.to_csv(\"merged_dataset.csv\",index=False)##save checkpoint"
      ],
      "execution_count": 0,
      "outputs": []
    },
    {
      "cell_type": "markdown",
      "metadata": {
        "id": "e2k4Ks_igc2A",
        "colab_type": "text"
      },
      "source": [
        "***For both the models, in order to optimise the run time, 50000 rows were taken from the merged dataset. the same file has been uploaded as subset_df in the repository***"
      ]
    },
    {
      "cell_type": "markdown",
      "metadata": {
        "id": "vaoBa9-5hsJm",
        "colab_type": "text"
      },
      "source": [
        "## Recommender systems using ALS"
      ]
    },
    {
      "cell_type": "code",
      "metadata": {
        "id": "03OJMws3hxS-",
        "colab_type": "code",
        "colab": {}
      },
      "source": [
        "subset_df = pd.read_csv('merged_dataset.csv', nrows = 50000)"
      ],
      "execution_count": 0,
      "outputs": []
    },
    {
      "cell_type": "markdown",
      "metadata": {
        "id": "El6NQetGkTw3",
        "colab_type": "text"
      },
      "source": [
        "Setting up a spark session"
      ]
    },
    {
      "cell_type": "code",
      "metadata": {
        "id": "PaBERYzRhxWV",
        "colab_type": "code",
        "colab": {}
      },
      "source": [
        "%%time\n",
        "!apt-get install openjdk-8-jdk-headless -qq > /dev/null\n",
        "!wget -q http://apache.mirrors.hoobly.com/spark/spark-2.4.5/spark-2.4.5-bin-hadoop2.7.tgz\n",
        "!tar -xvf spark-2.4.5-bin-hadoop2.7.tgz\n",
        "!pip install -q findspark\n",
        "\n",
        "# outputs cleared since they are really long"
      ],
      "execution_count": 0,
      "outputs": []
    },
    {
      "cell_type": "code",
      "metadata": {
        "id": "YzuEbvUnhxZv",
        "colab_type": "code",
        "outputId": "2519dfef-235c-4333-96fc-552f9541966e",
        "colab": {
          "base_uri": "https://localhost:8080/",
          "height": 35
        }
      },
      "source": [
        "import os\n",
        "os.environ[\"JAVA_HOME\"] = \"/usr/lib/jvm/java-8-openjdk-amd64\"\n",
        "os.environ[\"SPARK_HOME\"] = \"/content/drive/My Drive/IDS 561/Project/old/spark-2.4.5-bin-hadoop2.7\"\n",
        "\n",
        "# os.environ[\"SPARK_HOME\"] = \"...filepath/spark-2.4.5-bin-hadoop2.7\"\n",
        "\n",
        "import findspark\n",
        "findspark.init()\n",
        "from pyspark.sql import SparkSession\n",
        "spark = SparkSession.builder.master(\"local[*]\").getOrCreate()\n",
        "\n",
        "print(\"Done\")"
      ],
      "execution_count": 14,
      "outputs": [
        {
          "output_type": "stream",
          "text": [
            "Done\n"
          ],
          "name": "stdout"
        }
      ]
    },
    {
      "cell_type": "markdown",
      "metadata": {
        "id": "TKt_ub86cC_P",
        "colab_type": "text"
      },
      "source": [
        "Using Pyspark dataframes to apply ALS"
      ]
    },
    {
      "cell_type": "code",
      "metadata": {
        "id": "j1gnymRDhxcX",
        "colab_type": "code",
        "colab": {}
      },
      "source": [
        "# import libraries\n",
        "from pyspark.ml.evaluation import RegressionEvaluator\n",
        "from pyspark.ml.recommendation import ALS\n",
        "from pyspark.ml.tuning import TrainValidationSplit, ParamGridBuilder\n",
        "from pyspark.sql import Row\n"
      ],
      "execution_count": 0,
      "outputs": []
    },
    {
      "cell_type": "code",
      "metadata": {
        "id": "HJuGnzKZhxfo",
        "colab_type": "code",
        "outputId": "c4013632-e029-45a0-866d-484a6e3c0e86",
        "colab": {
          "base_uri": "https://localhost:8080/",
          "height": 515
        }
      },
      "source": [
        "#Converting the dataframe's datatype to string to convert it into a pyspark dataframe\n",
        "data = subset_df.astype(str)\n",
        "\n",
        "data_spark = spark.createDataFrame(data)\n",
        "data_spark.show()"
      ],
      "execution_count": 35,
      "outputs": [
        {
          "output_type": "stream",
          "text": [
            "+--------------------+--------------------+--------------------+--------------------+-----+------------+--------------------+-------------------+--------------------+----+--------+-------------------+------+----+\n",
            "|           review_id|             user_id|         business_id|       business_name|state|review_stars|                text|               date|          categories|food|    name|      yelping_since|   uiz| biz|\n",
            "+--------------------+--------------------+--------------------+--------------------+-----+------------+--------------------+-------------------+--------------------+----+--------+-------------------+------+----+\n",
            "|LG2ZaYiOgpr2DK_90...|V34qejxNsCbcgD8C0...|HQl28KMwrEKHqhFrr...|Deagan's Kitchen ...|   OH|         5.0|I love Deagan's. ...|2015-12-05 03:18:11|['Restaurants', '...|True|Danielle|2014-11-05 14:36:08|104315|1709|\n",
            "|i6g_oA9Yf9Y31qt0w...|ofKDkJKXSKZXu5xJN...|5JxlZaqCnk1MnbgRi...|Cabo Mexican Rest...|   NV|         1.0|Dismal, lukewarm,...|2011-05-27 05:30:52|['Restaurants', '...|True|   Butch|2010-01-09 19:05:00|171412| 614|\n",
            "|6TdNDKywdbjoTkize...|UgMW8bLE0QMJDCkQ1...|IS4cv902ykd8wj1TR...|Raising Cane's Ch...|   NV|         4.0|Oh happy day, fin...|2017-01-14 21:56:57|['Fast Food', 'Re...|True|   Micah|2014-07-21 00:47:49|103121|1810|\n",
            "|L2O_INwlrRuoX05KS...|5vD2kmE25YBrbayKh...|nlxHRv1zXGT0c0K51...|      Firehouse Subs|   NV|         5.0|This is definitel...|2013-05-07 07:25:25|['Restaurants', '...|True|    Gary|2013-03-18 21:32:18| 22920|4798|\n",
            "|ZayJ1zWyWgY9S_TRL...|aq_ZxGHiri48TUXJl...|Pthe4qk5xh4n-ef-9...|      Chon Thai Food|   AZ|         5.0|Really good place...|2015-11-05 23:11:05|['Restaurants', '...|True|   Jagan|2014-05-30 18:53:04|126339|2436|\n",
            "|JA-xnyHytKiOIHl_z...|P6apihD4ASf1vpPxH...|e_BiI4ej1CW1F0EyV...|            Casa Mia|   AZ|         5.0|Most delicious au...|2015-02-16 06:48:47|['Restaurants', '...|True| Marodin|2013-10-05 22:07:56| 84796|3926|\n",
            "|z4BCgTkfNtCu4XY5L...|jOERvhmK6_lo_XGUB...|Ws8V970-mQt2X9CwC...|  The Urban Tea Loft|   AZ|         4.0|I have been here ...|2009-10-13 04:16:41|['Home & Garden',...|True|  Yazmin|2006-12-16 05:21:17|154315|3101|\n",
            "|Tyx7AxYQfSRnBFUIX...|HJECayULRM-6xh2GC...|l-nL4BmhzpZjcavoo...|The Wokker Restau...|   ON|         4.0|ORDER In (Deliver...|2015-10-17 01:38:13|['Specialty Food'...|True|     Tim|2014-09-24 22:48:30| 59593|4540|\n",
            "|QCxPzh7cuxJrLd6A_...|qftVgPj_kRTildMDj...|Ns4tjgLfqR1qawGlN...|SN Pacific Rim As...|   AZ|         5.0|Everything that m...|2016-06-11 22:00:11|['Asian Fusion', ...|True|    Tiky|2012-03-19 19:19:40|177780|2249|\n",
            "|bVTjZgRNq8Toxzvti...|2hRe26HSCAWbFRn5W...|d4qwVw4PcN-_2mK2o...|           Pink Taco|   NV|         1.0|10pm on a super b...|2015-02-02 06:28:00|['Mexican', 'Rest...|True|    Mike|2012-01-03 14:16:45| 12257|3790|\n",
            "|Ne_2CSfcKIqXHmv_K...|6sJN_HlM_uwpfLJ1p...|oVuZtlCFg_zF090Nh...| Choolaah Indian BBQ|   PA|         4.0|A close friend wa...|2018-02-01 19:15:00|['Restaurants', '...|True|   Ahmed|2015-10-05 00:16:05| 25933|4868|\n",
            "|UGErdm6bt48SXTVwJ...|QodunSzok4nIYFNrT...|poSV39UqEg-gpESXa...|    Angry Crab Shack|   AZ|         3.0|My husband and I ...|2018-03-04 01:03:53|['Restaurants', '...|True|   Jerns|2016-05-24 18:30:12| 90468|4988|\n",
            "|TeX0eOIeZb_wpo86r...|RR-2nouBn408e3djx...|d4qwVw4PcN-_2mK2o...|           Pink Taco|   NV|         5.0|Holy heck this pl...|2017-02-09 04:25:03|['Mexican', 'Rest...|True| Bradley|2013-04-25 17:36:39| 92398|3790|\n",
            "|sgTnHfeaEvyOoWX4T...|A0j21z2Q1HGic7jW6...|9Jo1pu0y2zU6ktiwQ...| Coconut's Fish Cafe|   AZ|         4.0|Coconut's Fish Ca...|2016-12-04 03:15:21|['Hawaiian', 'Fis...|True| Georgie|2010-07-02 16:21:38| 36120| 954|\n",
            "|XvLG7ReC8JZmBltOL...|-Co-ReNx_lXT1xL_R...|XZbuPXdyA0ZtTu3Az...|          Mesa Grill|   NV|         4.0|As the previous p...|2009-10-13 09:50:48|['Southern', 'Mex...|True|  Micole|2008-06-29 05:28:18|   747|3168|\n",
            "|mM8i91yWP1QbImEvz...|TZQSUDDcA4ek5gBd6...|qUWqjjjfpB2-4P3He...|             Levetto|   ON|         4.0|In the heart of C...|2017-06-06 19:04:10|['Pizza', 'Italia...|True| Cecilia|2011-05-16 02:07:47| 99475|5050|\n",
            "|-u8Oz_iSZACGwWW_p...|UreiTV1I9i-XF6_bJ...|d_q4avZYM1sOlQP7n...|     El Güero Canelo|   AZ|         4.0|Always a fun outi...|2018-04-15 11:13:11|['Mexican', 'Rest...|True|    Judy|2012-12-17 19:00:02|103677|3835|\n",
            "|09qxjFi4abaW66JeS...|mbdtyUUzZZx5ld1Qc...|wkzWdo1mBqbzR2KPo...|        Vito's Pizza|   AZ|         4.0|Was a Chicago sty...|2010-08-21 01:19:17|['Sandwiches', 'C...|True|    Dave|2010-02-22 20:39:35|164807|5647|\n",
            "|K-wdPGHbErfxbKK6P...|FCoXqPxuI7GRBYyzJ...|r4HkiC71nB9k8Fe8z...|  Sal's Tuscan Grill|   AZ|         5.0|First time eating...|2015-12-05 02:16:06|['Italian', 'Rest...|True|   Norma|2012-07-06 05:17:26| 52752|5090|\n",
            "|01DNCgnW8K6xSyv4k...|XivuRnPq3D-K5cPiB...|oyjkEn5fAqcGNsBbq...|  Buffalo Wild Wings|   NC|         1.0|Just... not good....|2016-04-11 16:42:13|['Burgers', 'Chic...|True|  Leslie|2011-12-29 17:56:36|113032|4917|\n",
            "+--------------------+--------------------+--------------------+--------------------+-----+------------+--------------------+-------------------+--------------------+----+--------+-------------------+------+----+\n",
            "only showing top 20 rows\n",
            "\n"
          ],
          "name": "stdout"
        }
      ]
    },
    {
      "cell_type": "code",
      "metadata": {
        "id": "wCjl7wF1hxh2",
        "colab_type": "code",
        "outputId": "93fa38b7-f335-4898-a925-6b1e0d6cd7d1",
        "colab": {
          "base_uri": "https://localhost:8080/",
          "height": 311
        }
      },
      "source": [
        "#convert stars / Biz/ Uiz back to right data-type\n",
        "from pyspark.sql.functions import col\n",
        "from pyspark.sql.types import IntegerType\n",
        "from pyspark.sql.types import FloatType\n",
        "\n",
        "df1 = data_spark.withColumn(\"review_stars\",col(\"review_stars\").cast(FloatType())).withColumn(\"Biz\",col(\"Biz\").cast(IntegerType())).withColumn(\"Uiz\",col(\"Uiz\").cast(IntegerType()))\n",
        "df1.printSchema()"
      ],
      "execution_count": 36,
      "outputs": [
        {
          "output_type": "stream",
          "text": [
            "root\n",
            " |-- review_id: string (nullable = true)\n",
            " |-- user_id: string (nullable = true)\n",
            " |-- business_id: string (nullable = true)\n",
            " |-- business_name: string (nullable = true)\n",
            " |-- state: string (nullable = true)\n",
            " |-- review_stars: float (nullable = true)\n",
            " |-- text: string (nullable = true)\n",
            " |-- date: string (nullable = true)\n",
            " |-- categories: string (nullable = true)\n",
            " |-- food: string (nullable = true)\n",
            " |-- name: string (nullable = true)\n",
            " |-- yelping_since: string (nullable = true)\n",
            " |-- Uiz: integer (nullable = true)\n",
            " |-- Biz: integer (nullable = true)\n",
            "\n"
          ],
          "name": "stdout"
        }
      ]
    },
    {
      "cell_type": "code",
      "metadata": {
        "id": "5AwRC1Qphxlf",
        "colab_type": "code",
        "outputId": "b3806f5e-f992-4772-cab0-30466a2ef91e",
        "colab": {
          "base_uri": "https://localhost:8080/",
          "height": 331
        }
      },
      "source": [
        "#split dataset into training, validation, and testing\n",
        "import random\n",
        "random.seed(123)\n",
        "(training, validation,testing) = df1.randomSplit([0.70,0.10, 0.2])\n",
        "fulltraining = training.union(validation)\n",
        "fulltraining.show(10)"
      ],
      "execution_count": 37,
      "outputs": [
        {
          "output_type": "stream",
          "text": [
            "+--------------------+--------------------+--------------------+--------------------+-----+------------+--------------------+-------------------+--------------------+----+---------+-------------------+------+----+\n",
            "|           review_id|             user_id|         business_id|       business_name|state|review_stars|                text|               date|          categories|food|     name|      yelping_since|   Uiz| Biz|\n",
            "+--------------------+--------------------+--------------------+--------------------+-----+------------+--------------------+-------------------+--------------------+----+---------+-------------------+------+----+\n",
            "|--MC9foCbGXJ0d0W_...|4suJsf9Q2uruOwKln...|ACb637NG7EnswRs8U...|Bar Louie - Tempe...|   AZ|         4.0|I've only been he...|2017-01-28 00:41:41|['Beer', 'Wine & ...|True|  Jeffrey|2008-03-25 11:01:51| 19514|1028|\n",
            "|--heTyt0akG0nZZ-s...|JCRtGjbiOeB4I5BYL...|9Jo1pu0y2zU6ktiwQ...| Coconut's Fish Cafe|   AZ|         3.0|Good place and a ...|2018-07-08 01:08:16|['Hawaiian', 'Fis...|True|   Raevin|2017-04-01 16:26:59| 65686| 954|\n",
            "|--nskK6USf9QBTEz3...|llyK5_o-6L9H5QG2r...|LZxSxY98S7l4a7tJi...|Cracker Barrel Ol...|   AZ|         1.0|Never again.  The...|2012-07-16 01:00:56|['Comfort Food', ...|True|        T|2011-02-24 00:26:21|162004|2080|\n",
            "|-03MkZkRSHjBky_5e...|s_htLnKwjWZjIcUK0...|AueEbb9kao4lt6CYt...|Okra Cookhouse & ...|   AZ|         5.0|Went here for a m...|2015-09-24 04:38:17|['Italian', 'Rest...|True|  Carolyn|2013-05-16 02:22:49|184061|1090|\n",
            "|-0ISwybjwdng4aoUV...|nC1Q1lfY8O0sKN9d2...|vhKUBKcOm8zOLxeS3...|      Rosati's Pizza|   AZ|         4.0|The food wasn't b...|2014-09-10 00:36:54|['Pizza', 'Restau...|True|   Manuel|2011-11-13 04:18:45|166672|5539|\n",
            "|-11AeWAml2ZZCkStV...|fwiWVtNjEtRcGKhqj...|Cm7PADnhAzW5R2fQP...|Huntersville Fami...|   NC|         3.0|Good food, great ...|2016-08-25 21:48:47|['American (Tradi...|True|   Teresa|2016-08-11 00:17:42|142926|1251|\n",
            "|-1FnvJ1LPEIVUYH2v...|Xh-H_W0C9OL11aff3...|0FUtlsQrJI7LhqDPx...|    Joe's Farm Grill|   AZ|         5.0|Absolutely delici...|2017-06-07 00:16:09|['Restaurants', '...|True| Jamielyn|2015-05-26 01:52:12|112923| 125|\n",
            "|-1qxlXvAu8YOefjzj...|kXbWqoCmNchoU_U3a...|NFm869_w6cvVaWaNp...|   Soul Gastrolounge|   NC|         5.0|I've been here tw...|2015-07-04 00:12:01|['Restaurants', '...|True|   Rizzle|2011-09-11 20:48:36|157927|2202|\n",
            "|-2kwzDa1XsdHZ5gwG...|yxMQ20t16bLcmzdjt...|9g4p3tny291ANSAQK...|Villa-Roma Restau...|   NC|         3.0|Pizza was ok. It ...|2015-06-21 01:27:52|['Italian', 'Rest...|True|    marko|2011-09-02 03:03:19|204631| 984|\n",
            "|-3DmFwrKM2M4zj4xQ...|QxdlG_uzIVg5op20O...|UPSzbM6D2SkarWAIN...|Taydo Vietnamese ...|   OH|         5.0|My husband and I ...|2015-02-16 16:17:30|['Restaurants', '...|True|Ann Marie|2013-09-04 12:35:38| 90892|2859|\n",
            "+--------------------+--------------------+--------------------+--------------------+-----+------------+--------------------+-------------------+--------------------+----+---------+-------------------+------+----+\n",
            "only showing top 10 rows\n",
            "\n"
          ],
          "name": "stdout"
        }
      ]
    },
    {
      "cell_type": "markdown",
      "metadata": {
        "id": "5CxWTtmylYFI",
        "colab_type": "text"
      },
      "source": [
        "Now we apply the ALS algorithm. We will tune the Rank as well as the regularizer"
      ]
    },
    {
      "cell_type": "code",
      "metadata": {
        "id": "gF2k08S8hxpa",
        "colab_type": "code",
        "outputId": "4aaf8e76-b25c-4528-d56b-a9168e5137c3",
        "colab": {
          "base_uri": "https://localhost:8080/",
          "height": 243
        }
      },
      "source": [
        "#Cross validation\n",
        "\n",
        "als = ALS(userCol=\"Uiz\", itemCol=\"Biz\", ratingCol=\"review_stars\", nonnegative=True)\n",
        "evaluator = RegressionEvaluator(metricName=\"rmse\", labelCol=\"review_stars\",predictionCol=\"prediction\")\n",
        "\n",
        "ranks = [x for x in range(1,150,15)]\n",
        "regparam = [.1,.15,.25,.35,.5]\n",
        "\n",
        "best_par = -10\n",
        "best_rank = -10\n",
        "\n",
        "min_err = float('inf')\n",
        "\n",
        "Reg = ['Regulariser']\n",
        "cv_table = pd.DataFrame(columns = Reg )\n",
        "cv_table['Regulariser'] = regparam\n",
        "\n",
        "print(\"Starting the Validation process\")\n",
        "for r in ranks:\n",
        "  als.setRank(r)\n",
        "  j = 0\n",
        "\n",
        "  for par in regparam:\n",
        "\n",
        "\n",
        "    als.setRegParam(par)\n",
        "    model = als.fit(training)\n",
        "    pred = model.transform(validation)\n",
        "    pred_clean = pred.filter(pred.prediction !=float('nan') )\n",
        "    rmse = evaluator.evaluate(pred_clean)\n",
        "\n",
        "    cv_table.loc[j,r] = rmse\n",
        "\n",
        "    j+=1 \n",
        "\n",
        "    if rmse < min_err:\n",
        "      min_err = rmse\n",
        "      best_rank = r\n",
        "      best_par = par\n",
        "    \n",
        "    iterstart = time.time()\n",
        "\n",
        "print(\"Best Rank = \",best_rank ,\"Best Regularizer\", best_par, \"Min Error\", round(min_err,4) )\n",
        "cv_table"
      ],
      "execution_count": 38,
      "outputs": [
        {
          "output_type": "stream",
          "text": [
            "Starting the Validation process\n",
            "Best Rank =  1 Best Regularizer 0.35 Min Error 1.8351\n"
          ],
          "name": "stdout"
        },
        {
          "output_type": "execute_result",
          "data": {
            "text/html": [
              "<div>\n",
              "<style scoped>\n",
              "    .dataframe tbody tr th:only-of-type {\n",
              "        vertical-align: middle;\n",
              "    }\n",
              "\n",
              "    .dataframe tbody tr th {\n",
              "        vertical-align: top;\n",
              "    }\n",
              "\n",
              "    .dataframe thead th {\n",
              "        text-align: right;\n",
              "    }\n",
              "</style>\n",
              "<table border=\"1\" class=\"dataframe\">\n",
              "  <thead>\n",
              "    <tr style=\"text-align: right;\">\n",
              "      <th></th>\n",
              "      <th>Regulariser</th>\n",
              "      <th>1</th>\n",
              "      <th>16</th>\n",
              "      <th>31</th>\n",
              "      <th>46</th>\n",
              "      <th>61</th>\n",
              "      <th>76</th>\n",
              "      <th>91</th>\n",
              "      <th>106</th>\n",
              "      <th>121</th>\n",
              "      <th>136</th>\n",
              "    </tr>\n",
              "  </thead>\n",
              "  <tbody>\n",
              "    <tr>\n",
              "      <th>0</th>\n",
              "      <td>0.10</td>\n",
              "      <td>1.926671</td>\n",
              "      <td>2.051878</td>\n",
              "      <td>2.056115</td>\n",
              "      <td>2.053630</td>\n",
              "      <td>2.052069</td>\n",
              "      <td>2.033874</td>\n",
              "      <td>2.035154</td>\n",
              "      <td>2.025638</td>\n",
              "      <td>2.023052</td>\n",
              "      <td>2.024947</td>\n",
              "    </tr>\n",
              "    <tr>\n",
              "      <th>1</th>\n",
              "      <td>0.15</td>\n",
              "      <td>1.866888</td>\n",
              "      <td>2.015505</td>\n",
              "      <td>2.035612</td>\n",
              "      <td>2.041767</td>\n",
              "      <td>2.041547</td>\n",
              "      <td>2.030765</td>\n",
              "      <td>2.029840</td>\n",
              "      <td>2.026517</td>\n",
              "      <td>2.025783</td>\n",
              "      <td>2.029936</td>\n",
              "    </tr>\n",
              "    <tr>\n",
              "      <th>2</th>\n",
              "      <td>0.25</td>\n",
              "      <td>1.836784</td>\n",
              "      <td>1.983073</td>\n",
              "      <td>2.009812</td>\n",
              "      <td>2.016160</td>\n",
              "      <td>2.018551</td>\n",
              "      <td>2.013448</td>\n",
              "      <td>2.009989</td>\n",
              "      <td>2.010458</td>\n",
              "      <td>2.011889</td>\n",
              "      <td>2.018401</td>\n",
              "    </tr>\n",
              "    <tr>\n",
              "      <th>3</th>\n",
              "      <td>0.35</td>\n",
              "      <td>1.835130</td>\n",
              "      <td>1.979203</td>\n",
              "      <td>2.006500</td>\n",
              "      <td>2.008297</td>\n",
              "      <td>2.013583</td>\n",
              "      <td>2.009305</td>\n",
              "      <td>2.005867</td>\n",
              "      <td>2.005098</td>\n",
              "      <td>2.007479</td>\n",
              "      <td>2.014579</td>\n",
              "    </tr>\n",
              "    <tr>\n",
              "      <th>4</th>\n",
              "      <td>0.50</td>\n",
              "      <td>1.848616</td>\n",
              "      <td>2.008940</td>\n",
              "      <td>2.034658</td>\n",
              "      <td>2.031619</td>\n",
              "      <td>2.040119</td>\n",
              "      <td>2.034954</td>\n",
              "      <td>2.032428</td>\n",
              "      <td>2.028859</td>\n",
              "      <td>2.032465</td>\n",
              "      <td>2.038916</td>\n",
              "    </tr>\n",
              "  </tbody>\n",
              "</table>\n",
              "</div>"
            ],
            "text/plain": [
              "   Regulariser         1        16  ...       106       121       136\n",
              "0         0.10  1.926671  2.051878  ...  2.025638  2.023052  2.024947\n",
              "1         0.15  1.866888  2.015505  ...  2.026517  2.025783  2.029936\n",
              "2         0.25  1.836784  1.983073  ...  2.010458  2.011889  2.018401\n",
              "3         0.35  1.835130  1.979203  ...  2.005098  2.007479  2.014579\n",
              "4         0.50  1.848616  2.008940  ...  2.028859  2.032465  2.038916\n",
              "\n",
              "[5 rows x 11 columns]"
            ]
          },
          "metadata": {
            "tags": []
          },
          "execution_count": 38
        }
      ]
    },
    {
      "cell_type": "code",
      "metadata": {
        "id": "KzlxTfED5s6M",
        "colab_type": "code",
        "outputId": "354e7506-50f3-4127-dd72-a9a22de75136",
        "colab": {
          "base_uri": "https://localhost:8080/",
          "height": 412
        }
      },
      "source": [
        "#Let us look at the RMSE by each rank\n",
        "\n",
        "fig, ax =plt.subplots(1,1 , figsize=(20,6))\n",
        "\n",
        "sns.set()\n",
        "data1 = pd.melt(cv_table, ['Regulariser'])#reshaping the dataframe for visualisation \n",
        "data1.columns = ['Regulariser', 'Ranks', 'RMSE']\n",
        "sns.lineplot(x='Regulariser', y='RMSE', hue='Ranks', data=data1,palette= sns.color_palette('Paired', n_colors=len(ranks)), linewidth=2)\n",
        "ax.legend(ranks)\n",
        "\n",
        "# We can see the best regulariser giving us the lowest RMSE shown below"
      ],
      "execution_count": 39,
      "outputs": [
        {
          "output_type": "execute_result",
          "data": {
            "text/plain": [
              "<matplotlib.legend.Legend at 0x7fa66936ca90>"
            ]
          },
          "metadata": {
            "tags": []
          },
          "execution_count": 39
        },
        {
          "output_type": "display_data",
          "data": {
            "image/png": "[encoded data removed]",
            "text/plain": [
              "<Figure size 1440x432 with 1 Axes>"
            ]
          },
          "metadata": {
            "tags": []
          }
        }
      ]
    },
    {
      "cell_type": "code",
      "metadata": {
        "id": "R24vjUcrhxst",
        "colab_type": "code",
        "outputId": "70ad9dc5-6110-489f-c82f-eccea8f70eff",
        "colab": {
          "base_uri": "https://localhost:8080/",
          "height": 35
        }
      },
      "source": [
        "#using the best rank and regulariser to train the model \n",
        "als = ALS(userCol=\"Uiz\", itemCol=\"Biz\", ratingCol=\"review_stars\", nonnegative=True)\n",
        "evaluator = RegressionEvaluator(metricName=\"rmse\", labelCol=\"review_stars\",predictionCol=\"prediction\")\n",
        "\n",
        "als.setRank(best_rank)\n",
        "als.setRegParam(best_par)\n",
        "model = als.fit(fulltraining)\n",
        "\n",
        "# Evaluate the model by computing the RMSE on the test data\n",
        "predictions = model.transform(testing)\n",
        "rmse = evaluator.evaluate(predictions)\n",
        "predicted_clean = predictions.filter(predictions.prediction != float('nan'))\n",
        "\n",
        "rmse = evaluator.evaluate(predicted_clean)\n",
        "print(\"Root-mean-square error = \" , round(rmse,4))"
      ],
      "execution_count": 40,
      "outputs": [
        {
          "output_type": "stream",
          "text": [
            "Root-mean-square error =  1.8092\n"
          ],
          "name": "stdout"
        }
      ]
    },
    {
      "cell_type": "code",
      "metadata": {
        "id": "MlZHSHYghxvG",
        "colab_type": "code",
        "outputId": "ad9939d4-3bd8-4079-ce06-3987e5403e51",
        "colab": {
          "base_uri": "https://localhost:8080/",
          "height": 495
        }
      },
      "source": [
        "# Generate top 3 restaurant recommendations for each user\n",
        "userRecs = model.recommendForAllUsers(3)\n",
        "userRecs.show()\n",
        "# Generate top 3 user recommendations for each restaurant\n",
        "BusRecs = model.recommendForAllItems(3)"
      ],
      "execution_count": 41,
      "outputs": [
        {
          "output_type": "stream",
          "text": [
            "+-----+--------------------+\n",
            "|  Uiz|     recommendations|\n",
            "+-----+--------------------+\n",
            "|  471|[[5634, 1.5979846...|\n",
            "| 1580|[[5634, 7.7743945...|\n",
            "| 1645|[[5634, 1.5642692...|\n",
            "| 1829|[[5634, 7.8565564...|\n",
            "| 3997|[[5634, 5.9101896...|\n",
            "| 4101|[[5634, 1.7401619...|\n",
            "| 4818|[[20, 0.0], [30, ...|\n",
            "| 7253|[[5634, 7.832818]...|\n",
            "| 9465|[[5634, 6.4591274...|\n",
            "|11033|[[5634, 8.144284]...|\n",
            "|15619|[[5634, 6.3040795...|\n",
            "|15727|[[5634, 6.9905157...|\n",
            "|16574|[[5634, 6.557155]...|\n",
            "|18654|[[5634, 4.978179]...|\n",
            "|18911|[[5634, 7.6151533...|\n",
            "|21700|[[5634, 8.072119]...|\n",
            "|22223|[[5634, 7.8536725...|\n",
            "|22346|[[5634, 3.4531863...|\n",
            "|23015|[[5634, 3.391267]...|\n",
            "|24354|[[5634, 8.921169]...|\n",
            "+-----+--------------------+\n",
            "only showing top 20 rows\n",
            "\n"
          ],
          "name": "stdout"
        }
      ]
    },
    {
      "cell_type": "code",
      "metadata": {
        "id": "STWsg_eqhx3_",
        "colab_type": "code",
        "colab": {}
      },
      "source": [
        "# to get back the name of the business and the users, we create dictionaries to reverse map the same. \n",
        "\n",
        "mymap = subset_df[['biz','business_name']]\n",
        "mapper = {}\n",
        "for i in range(len(subset_df)):\n",
        "  mapper[mymap['biz'][i]] = mymap['business_name'][i]\n",
        "usermap = subset_df[['uiz','name']]\n",
        "user_mapper = {}\n",
        "for i in range(len(subset_df)):\n",
        "  user_mapper[usermap['uiz'][i]] = usermap['name'][i]\n",
        "del mymap\n",
        "del usermap\n"
      ],
      "execution_count": 0,
      "outputs": []
    },
    {
      "cell_type": "code",
      "metadata": {
        "id": "5-NfZLn5hxxv",
        "colab_type": "code",
        "outputId": "bfc89341-0df7-43a0-ebf4-817a44b988c8",
        "colab": {
          "base_uri": "https://localhost:8080/",
          "height": 206
        }
      },
      "source": [
        "# convert to pandas dataframe\n",
        "result_als = userRecs.select(\"*\").toPandas()\n",
        "result_als[\"recommendations\"] = result_als[\"recommendations\"].apply(lambda x: [x[i][0] for i in range(3)] )#removing the restaurant ratings, retaining only the ids\n",
        "result_als.head()"
      ],
      "execution_count": 43,
      "outputs": [
        {
          "output_type": "execute_result",
          "data": {
            "text/html": [
              "<div>\n",
              "<style scoped>\n",
              "    .dataframe tbody tr th:only-of-type {\n",
              "        vertical-align: middle;\n",
              "    }\n",
              "\n",
              "    .dataframe tbody tr th {\n",
              "        vertical-align: top;\n",
              "    }\n",
              "\n",
              "    .dataframe thead th {\n",
              "        text-align: right;\n",
              "    }\n",
              "</style>\n",
              "<table border=\"1\" class=\"dataframe\">\n",
              "  <thead>\n",
              "    <tr style=\"text-align: right;\">\n",
              "      <th></th>\n",
              "      <th>Uiz</th>\n",
              "      <th>recommendations</th>\n",
              "    </tr>\n",
              "  </thead>\n",
              "  <tbody>\n",
              "    <tr>\n",
              "      <th>0</th>\n",
              "      <td>471</td>\n",
              "      <td>[5634, 4919, 4404]</td>\n",
              "    </tr>\n",
              "    <tr>\n",
              "      <th>1</th>\n",
              "      <td>1580</td>\n",
              "      <td>[5634, 4919, 4404]</td>\n",
              "    </tr>\n",
              "    <tr>\n",
              "      <th>2</th>\n",
              "      <td>1645</td>\n",
              "      <td>[5634, 4919, 4404]</td>\n",
              "    </tr>\n",
              "    <tr>\n",
              "      <th>3</th>\n",
              "      <td>1829</td>\n",
              "      <td>[5634, 4919, 4404]</td>\n",
              "    </tr>\n",
              "    <tr>\n",
              "      <th>4</th>\n",
              "      <td>3997</td>\n",
              "      <td>[5634, 4919, 4404]</td>\n",
              "    </tr>\n",
              "  </tbody>\n",
              "</table>\n",
              "</div>"
            ],
            "text/plain": [
              "    Uiz     recommendations\n",
              "0   471  [5634, 4919, 4404]\n",
              "1  1580  [5634, 4919, 4404]\n",
              "2  1645  [5634, 4919, 4404]\n",
              "3  1829  [5634, 4919, 4404]\n",
              "4  3997  [5634, 4919, 4404]"
            ]
          },
          "metadata": {
            "tags": []
          },
          "execution_count": 43
        }
      ]
    },
    {
      "cell_type": "code",
      "metadata": {
        "id": "FNH7_CyNhx8_",
        "colab_type": "code",
        "outputId": "e17e29a2-8d2d-451c-aaef-e18324a6f9d7",
        "colab": {
          "base_uri": "https://localhost:8080/",
          "height": 206
        }
      },
      "source": [
        "## now we have to clean up the recommendations column to map back the business names and add a column for the user names\n",
        "\n",
        "result_als[\"recommendations\"] = result_als[\"recommendations\"].apply(lambda x: [mapper[int(x)] for x in x])\n",
        "result_als.columns = ['User_Id', \"Recommendations\"]\n",
        "result_als[\"User Name\"] = result_als[\"User_Id\"].apply(lambda x : user_mapper[int(x)])\n",
        "pd.options.display.max_colwidth=100\n",
        "result_als[\"Recommendations\"] = result_als[\"Recommendations\"].apply(lambda x: str(x))\n",
        "result_als[\"Recommendations\"] = result_als[\"Recommendations\"].str.replace(r'[', \"\")\n",
        "result_als[\"Recommendations\"] = result_als[\"Recommendations\"].str.replace(r']', \"\")\n",
        "result_als[\"Recommendations\"] = result_als[\"Recommendations\"].str.replace(r\"'\", \"\")\n",
        "result_als[\"Recommendations\"] = result_als[\"Recommendations\"].str.replace(r'\"', \"\")\n",
        "\n",
        "result_als = result_als[['User_Id', 'User Name','Recommendations']]\n",
        "result_als.head()"
      ],
      "execution_count": 44,
      "outputs": [
        {
          "output_type": "execute_result",
          "data": {
            "text/html": [
              "<div>\n",
              "<style scoped>\n",
              "    .dataframe tbody tr th:only-of-type {\n",
              "        vertical-align: middle;\n",
              "    }\n",
              "\n",
              "    .dataframe tbody tr th {\n",
              "        vertical-align: top;\n",
              "    }\n",
              "\n",
              "    .dataframe thead th {\n",
              "        text-align: right;\n",
              "    }\n",
              "</style>\n",
              "<table border=\"1\" class=\"dataframe\">\n",
              "  <thead>\n",
              "    <tr style=\"text-align: right;\">\n",
              "      <th></th>\n",
              "      <th>User_Id</th>\n",
              "      <th>User Name</th>\n",
              "      <th>Recommendations</th>\n",
              "    </tr>\n",
              "  </thead>\n",
              "  <tbody>\n",
              "    <tr>\n",
              "      <th>0</th>\n",
              "      <td>471</td>\n",
              "      <td>Margaret</td>\n",
              "      <td>Nicks Family Restaurant, Sub Factory, The Bier Haus</td>\n",
              "    </tr>\n",
              "    <tr>\n",
              "      <th>1</th>\n",
              "      <td>1580</td>\n",
              "      <td>Colleen</td>\n",
              "      <td>Nicks Family Restaurant, Sub Factory, The Bier Haus</td>\n",
              "    </tr>\n",
              "    <tr>\n",
              "      <th>2</th>\n",
              "      <td>1645</td>\n",
              "      <td>R</td>\n",
              "      <td>Nicks Family Restaurant, Sub Factory, The Bier Haus</td>\n",
              "    </tr>\n",
              "    <tr>\n",
              "      <th>3</th>\n",
              "      <td>1829</td>\n",
              "      <td>Robert</td>\n",
              "      <td>Nicks Family Restaurant, Sub Factory, The Bier Haus</td>\n",
              "    </tr>\n",
              "    <tr>\n",
              "      <th>4</th>\n",
              "      <td>3997</td>\n",
              "      <td>Mike</td>\n",
              "      <td>Nicks Family Restaurant, Sub Factory, The Bier Haus</td>\n",
              "    </tr>\n",
              "  </tbody>\n",
              "</table>\n",
              "</div>"
            ],
            "text/plain": [
              "   User_Id User Name                                      Recommendations\n",
              "0      471  Margaret  Nicks Family Restaurant, Sub Factory, The Bier Haus\n",
              "1     1580   Colleen  Nicks Family Restaurant, Sub Factory, The Bier Haus\n",
              "2     1645         R  Nicks Family Restaurant, Sub Factory, The Bier Haus\n",
              "3     1829    Robert  Nicks Family Restaurant, Sub Factory, The Bier Haus\n",
              "4     3997      Mike  Nicks Family Restaurant, Sub Factory, The Bier Haus"
            ]
          },
          "metadata": {
            "tags": []
          },
          "execution_count": 44
        }
      ]
    },
    {
      "cell_type": "markdown",
      "metadata": {
        "id": "CZPCedfN3X9h",
        "colab_type": "text"
      },
      "source": [
        "## Query Based Recommendation for users \n",
        "\n",
        "Here we use the tfidf scores of the tokenised reviews to predict top three places the users should go to. "
      ]
    },
    {
      "cell_type": "code",
      "metadata": {
        "id": "1tsmfuKV2qMA",
        "colab_type": "code",
        "outputId": "721e8054-95be-4f30-ae3a-db405f2a5e9d",
        "colab": {
          "base_uri": "https://localhost:8080/",
          "height": 54
        }
      },
      "source": [
        "import nltk\n",
        "nltk.download('stopwords')\n",
        "import string\n",
        "from nltk.corpus import stopwords"
      ],
      "execution_count": 46,
      "outputs": [
        {
          "output_type": "stream",
          "text": [
            "[nltk_data] Downloading package stopwords to /root/nltk_data...\n",
            "[nltk_data]   Unzipping corpora/stopwords.zip.\n"
          ],
          "name": "stdout"
        }
      ]
    },
    {
      "cell_type": "code",
      "metadata": {
        "id": "gzVtg_OF3sdl",
        "colab_type": "code",
        "colab": {}
      },
      "source": [
        "#clean punctuation and stopwords out of text \n",
        "def text_cleaner(txt):\n",
        "\n",
        "  stop = []\n",
        "  for word in stopwords.words('english'):\n",
        "    s = [char for char in word if char not in string.punctuation]\n",
        "    stop.append(''.join(s))\n",
        "\n",
        "  nopunc = [char for char in txt if char not in string.punctuation]\n",
        "  #join char back to a string\n",
        "  nopunc = ''.join(nopunc)\n",
        "  \n",
        "  return \" \".join([word for word in nopunc.split() if word.lower() not in stop])"
      ],
      "execution_count": 0,
      "outputs": []
    },
    {
      "cell_type": "code",
      "metadata": {
        "id": "w9Yxw98e3sj-",
        "colab_type": "code",
        "outputId": "e86220b3-bb47-4fc2-a7a1-4d73cc012417",
        "colab": {
          "base_uri": "https://localhost:8080/",
          "height": 54
        }
      },
      "source": [
        "subset_df['clean_text'] = subset_df['text'].apply(text_cleaner)\n",
        "subset_df.to_csv(\"merged_dataset2.csv\",index=False)##save checkpoint\n",
        "subset_df.head()"
      ],
      "execution_count": 0,
      "outputs": [
        {
          "output_type": "stream",
          "text": [
            "CPU times: user 2min 40s, sys: 5.09 s, total: 2min 45s\n",
            "Wall time: 2min 47s\n"
          ],
          "name": "stdout"
        }
      ]
    },
    {
      "cell_type": "code",
      "metadata": {
        "id": "CNRXGDllTnAX",
        "colab_type": "code",
        "outputId": "69aedd3d-656a-4ed9-e3c9-ae971a4ee4b6",
        "colab": {
          "base_uri": "https://localhost:8080/",
          "height": 35
        }
      },
      "source": [
        "pd.options.display.max_colwidth = 20\n",
        "rows = 50000\n",
        "subset_df = pd.read_csv('merged_dataset2.csv', nrows=rows)\n",
        "\n",
        "subset_df['categories'] = subset_df[\"categories\"].apply(lambda x : x.replace(\"[\", \" \").strip(\" \"))\n",
        "subset_df['categories'] = subset_df[\"categories\"].apply(lambda x : x.replace(\"]\", \" \").strip(\" \"))\n",
        "subset_df['categories'] = subset_df[\"categories\"].apply(lambda x : x.replace(\"'\", \"\").strip(\" \"))\n",
        "subset_df.shape\n"
      ],
      "execution_count": 48,
      "outputs": [
        {
          "output_type": "execute_result",
          "data": {
            "text/plain": [
              "(50000, 15)"
            ]
          },
          "metadata": {
            "tags": []
          },
          "execution_count": 48
        }
      ]
    },
    {
      "cell_type": "code",
      "metadata": {
        "id": "GEXFD1tg3srG",
        "colab_type": "code",
        "colab": {}
      },
      "source": [
        "user_df = subset_df[['user_id','clean_text']]\n",
        "bus_df = subset_df[['business_id', 'clean_text']]\n",
        "\n",
        "#append all the text for each user && each restaurant\n",
        "u_df = user_df.groupby('user_id').agg({'clean_text': ' '.join})\n",
        "b_df = bus_df.groupby('business_id').agg({'clean_text': ' '.join})"
      ],
      "execution_count": 0,
      "outputs": []
    },
    {
      "cell_type": "code",
      "metadata": {
        "id": "dqg0qMmw3spt",
        "colab_type": "code",
        "outputId": "10e33a5a-f13c-4efb-d49b-79ad11939803",
        "colab": {
          "base_uri": "https://localhost:8080/",
          "height": 35
        }
      },
      "source": [
        "#apply the TFIDF Vectorizer to extract the features from the text\n",
        "from sklearn.feature_extraction.text import TfidfVectorizer\n",
        "from nltk.tokenize import WordPunctTokenizer\n",
        "\n",
        "#userid vectorizer\n",
        "user_vec = TfidfVectorizer(tokenizer = WordPunctTokenizer().tokenize, max_features=1000)\n",
        "u_vectors = user_vec.fit_transform(u_df['clean_text'])\n",
        "\n",
        "#Business id vectorizer\n",
        "bus_vec = TfidfVectorizer(tokenizer = WordPunctTokenizer().tokenize, max_features=1000)\n",
        "b_vectors = bus_vec.fit_transform(b_df['clean_text'])\n",
        "\n",
        "# Matrix Factorization\n",
        "rating_matrix = pd.pivot_table(subset_df, values='review_stars', index=['user_id'], columns=['business_id'])\n",
        "rating_matrix.shape"
      ],
      "execution_count": 50,
      "outputs": [
        {
          "output_type": "execute_result",
          "data": {
            "text/plain": [
              "(42940, 4551)"
            ]
          },
          "metadata": {
            "tags": []
          },
          "execution_count": 50
        }
      ]
    },
    {
      "cell_type": "code",
      "metadata": {
        "id": "_-_CRNO25UMV",
        "colab_type": "code",
        "colab": {}
      },
      "source": [
        "#To avoid our model overfitting we have to add regularization to our LSE formula \n",
        "#apply the equation to minimize the error using Gradient Decent\n",
        "#update the values of each feature in matrix P and matrix Q.\n",
        " \n",
        "from datetime import datetime\n",
        "import pytz\n",
        " \n",
        "def matrix_factorization(R, P, Q, steps=25, gamma=0.001,lamda=0.02, threshold = 0.001):\n",
        "    start = time.time()\n",
        "    zz =0\n",
        "    tot = len(R.index)*len(R.columns)*2*steps\n",
        "    print(tot)\n",
        "    tz = pytz.timezone('America/Chicago') \n",
        "    datetime_CH = datetime.now(tz)\n",
        "    print(\"Start\",datetime_CH.strftime('%Y-%m-%d %H:%M:%S'))\n",
        "    iter= 1\n",
        "    for step in range(steps):\n",
        "        for i in R.index:\n",
        "            for j in R.columns:\n",
        "                if R.loc[i,j]>0:\n",
        "                    eij=R.loc[i,j]-np.dot(P.loc[i],Q.loc[j])\n",
        "                    P.loc[i]=P.loc[i]+gamma*(eij*Q.loc[j]-lamda*P.loc[i])\n",
        "                    Q.loc[j]=Q.loc[j]+gamma*(eij*P.loc[i]-lamda*Q.loc[j])\n",
        "                    zz+=1\n",
        "                    \n",
        "        e=0\n",
        "        for i in R.index:\n",
        "            for j in R.columns:\n",
        "                if R.loc[i,j]>0:\n",
        "                    e= e + pow(R.loc[i,j]-np.dot(P.loc[i],Q.loc[j]),2)+lamda*(pow(np.linalg.norm(P.loc[i]),2)+pow(np.linalg.norm(Q.loc[j]),2))\n",
        "                    zz+=1\n",
        "\n",
        "        print(\"Iter #\", iter,datetime.now(tz).strftime('%Y-%m-%d %H:%M:%S'), timeSince(start))\n",
        "        iter+=1\n",
        "        if e<threshold:\n",
        "            print(zz)\n",
        "            break\n",
        "    print(\"Iterations :\", zz)  \n",
        "    return P,Q"
      ],
      "execution_count": 0,
      "outputs": []
    },
    {
      "cell_type": "code",
      "metadata": {
        "id": "NTglVdMpn0XL",
        "colab_type": "code",
        "outputId": "73e35e10-764b-423d-fa55-f54c3a57396e",
        "colab": {
          "base_uri": "https://localhost:8080/",
          "height": 35
        }
      },
      "source": [
        "print(rating_matrix.shape)"
      ],
      "execution_count": 52,
      "outputs": [
        {
          "output_type": "stream",
          "text": [
            "(42940, 4551)\n"
          ],
          "name": "stdout"
        }
      ]
    },
    {
      "cell_type": "code",
      "metadata": {
        "id": "Lefpa9FUUiMa",
        "colab_type": "code",
        "colab": {}
      },
      "source": [
        "P = pd.DataFrame(u_vectors.toarray(), index=u_df.index, columns=user_vec.get_feature_names())\n",
        "Q = pd.DataFrame(b_vectors.toarray(), index=b_df.index, columns=bus_vec.get_feature_names())"
      ],
      "execution_count": 0,
      "outputs": []
    },
    {
      "cell_type": "code",
      "metadata": {
        "id": "knj8wRjb5UQl",
        "colab_type": "code",
        "colab": {}
      },
      "source": [
        "%%time\n",
        "P = pd.DataFrame(u_vectors.toarray(), index=u_df.index, columns=user_vec.get_feature_names())\n",
        "Q = pd.DataFrame(b_vectors.toarray(), index=b_df.index, columns=bus_vec.get_feature_names())\n",
        "\n",
        "P, Q = matrix_factorization(rating_matrix, P, Q, steps=5, gamma=0.01,lamda=0.01,threshold = 0.0075)\n",
        "\n",
        "P.to_csv(\"P.csv\")\n",
        "Q.to_csv(\"Q.csv\")"
      ],
      "execution_count": 0,
      "outputs": []
    },
    {
      "cell_type": "code",
      "metadata": {
        "id": "0erG2PehS7s2",
        "colab_type": "code",
        "outputId": "25791b8e-2d35-4263-b111-d480ff024493",
        "colab": {
          "base_uri": "https://localhost:8080/",
          "height": 54
        }
      },
      "source": [
        "## reading the dataframes from saved locations --this was to ensure that we dont lose the model outputs\n",
        "\n",
        "P = pd.read_csv('P.csv')\n",
        "Q = pd.read_csv('Q.csv')\n",
        "\n",
        "print(\"Shape P:\", P.shape,  \"Shape Q:\", Q.shape)\n",
        "\n",
        "P.index = P['user_id']\n",
        "P = P.drop(columns='user_id')\n",
        "\n",
        "Q.index = Q['business_id']\n",
        "Q = Q.drop(columns='business_id')\n",
        "\n",
        "print(\"Shape P:\", P.shape,  \"Shape Q:\", Q.shape)"
      ],
      "execution_count": 53,
      "outputs": [
        {
          "output_type": "stream",
          "text": [
            "Shape P: (42940, 1001) Shape Q: (4551, 1001)\n",
            "Shape P: (42940, 1000) Shape Q: (4551, 1000)\n"
          ],
          "name": "stdout"
        }
      ]
    },
    {
      "cell_type": "markdown",
      "metadata": {
        "id": "wKa60hywlW0D",
        "colab_type": "text"
      },
      "source": [
        "## Time to Test!!"
      ]
    },
    {
      "cell_type": "code",
      "metadata": {
        "id": "RpVkQH5P5UV3",
        "colab_type": "code",
        "outputId": "24dc1075-0a27-4613-e934-57f3f58ca399",
        "colab": {
          "base_uri": "https://localhost:8080/",
          "height": 275
        }
      },
      "source": [
        "# give me recommendation for sushi!\n",
        "words = \"I want to have sushi\"\n",
        "pred_df= pd.DataFrame([words], columns=['text'])\n",
        "pred_df['text'] = pred_df['text'].apply(text_cleaner)\n",
        "pred_vectors = user_vec.transform(pred_df['text'])\n",
        "pred_v_df = pd.DataFrame(pred_vectors.toarray(), index=pred_df.index, columns=user_vec.get_feature_names())\n",
        "\n",
        "predItemRating=pd.DataFrame(np.dot(pred_v_df.loc[0],Q.T),index=Q.index,columns=['Rating'])\n",
        "topRecom=pd.DataFrame.sort_values(predItemRating,['Rating'],ascending=[0])[:3]\n",
        "\n",
        "# print the result\n",
        "print(\"USER QUERY : \",words+\"\\n\")\n",
        "for i in topRecom.index:\n",
        "  print(subset_df[subset_df['business_id']==i]['name'].iloc[0])\n",
        "  print(subset_df[subset_df['business_id']==i]['categories'].iloc[0])\n",
        "  print(\"stars: \"+ str(subset_df[subset_df['business_id']==i]['review_stars'].iloc[0])+\"\\n\")\n",
        "    \n"
      ],
      "execution_count": 54,
      "outputs": [
        {
          "output_type": "stream",
          "text": [
            "USER QUERY :  I want to have sushi\n",
            "\n",
            "Hannah\n",
            "Japanese, Restaurants, Sushi Bars\n",
            "stars: 4.0\n",
            "\n",
            "Sarvin\n",
            "Restaurants, Sushi Bars, Buffets, Japanese, Bars, Nightlife\n",
            "stars: 5.0\n",
            "\n",
            "Caroline\n",
            "Korean, Food, Sushi Bars, Desserts, Chinese, Japanese, Restaurants, Breakfast & Brunch\n",
            "stars: 5.0\n",
            "\n"
          ],
          "name": "stdout"
        }
      ]
    },
    {
      "cell_type": "code",
      "metadata": {
        "id": "1G9aDwKhhDvj",
        "colab_type": "code",
        "outputId": "fa120e42-6e79-49b5-c95c-9c1d7f7ee651",
        "colab": {
          "base_uri": "https://localhost:8080/",
          "height": 275
        }
      },
      "source": [
        "# give me recommendation for Tacos!\n",
        "words = \"I want to have Tacos\"\n",
        "pred_df= pd.DataFrame([words], columns=['text'])\n",
        "pred_df['text'] = pred_df['text'].apply(text_cleaner)\n",
        "pred_vectors = user_vec.transform(pred_df['text'])\n",
        "pred_v_df = pd.DataFrame(pred_vectors.toarray(), index=pred_df.index, columns=user_vec.get_feature_names())\n",
        "\n",
        "predItemRating=pd.DataFrame(np.dot(pred_v_df.loc[0],Q.T),index=Q.index,columns=['Rating'])\n",
        "topRecom=pd.DataFrame.sort_values(predItemRating,['Rating'],ascending=[0])[:3]\n",
        "\n",
        "# print the result\n",
        "print(\"USER QUERY : \",words+\"\\n\")\n",
        "for i in topRecom.index:\n",
        "  print(subset_df[subset_df['business_id']==i]['name'].iloc[0])\n",
        "  print(subset_df[subset_df['business_id']==i]['categories'].iloc[0])\n",
        "  print(\"stars: \"+ str(subset_df[subset_df['business_id']==i]['review_stars'].iloc[0])+\"\\n\")"
      ],
      "execution_count": 55,
      "outputs": [
        {
          "output_type": "stream",
          "text": [
            "USER QUERY :  I want to have Tacos\n",
            "\n",
            "Briana\n",
            "Restaurants, Seafood, Mexican, Latin American, Tex-Mex\n",
            "stars: 5.0\n",
            "\n",
            "Erin\n",
            "American (New), Mexican, Restaurants\n",
            "stars: 2.0\n",
            "\n",
            "Amber\n",
            "Mexican, Breakfast & Brunch, Restaurants\n",
            "stars: 5.0\n",
            "\n"
          ],
          "name": "stdout"
        }
      ]
    },
    {
      "cell_type": "code",
      "metadata": {
        "id": "AkA4nrU4a4jG",
        "colab_type": "code",
        "outputId": "d3d7d1b2-0098-4c10-afe9-c17b9fa35029",
        "colab": {
          "base_uri": "https://localhost:8080/",
          "height": 275
        }
      },
      "source": [
        "# give me recommendation for Birthday Party!\n",
        "words = \"I want a place for a birthday party\"\n",
        "pred_df= pd.DataFrame([words], columns=['text'])\n",
        "pred_df['text'] = pred_df['text'].apply(text_cleaner)\n",
        "pred_vectors = user_vec.transform(pred_df['text'])\n",
        "pred_v_df = pd.DataFrame(pred_vectors.toarray(), index=pred_df.index, columns=user_vec.get_feature_names())\n",
        "\n",
        "predItemRating=pd.DataFrame(np.dot(pred_v_df.loc[0],Q.T),index=Q.index,columns=['Rating'])\n",
        "topRecom=pd.DataFrame.sort_values(predItemRating,['Rating'],ascending=[0])[:3]\n",
        "\n",
        "# print the result\n",
        "print(\"USER QUERY : \",words+\"\\n\")\n",
        "for i in topRecom.index:\n",
        "  print(subset_df[subset_df['business_id']==i]['name'].iloc[0])\n",
        "  print(subset_df[subset_df['business_id']==i]['categories'].iloc[0])\n",
        "  print(\"stars: \"+ str(subset_df[subset_df['business_id']==i]['review_stars'].iloc[0])+\"\\n\")"
      ],
      "execution_count": 56,
      "outputs": [
        {
          "output_type": "stream",
          "text": [
            "USER QUERY :  I want a place for a birthday party\n",
            "\n",
            "Brandon\n",
            "American (Traditional), Mini Golf, Arcades, Pizza, Cinema, Restaurants, Arts & Entertainment, Italian, Food, Active Life, Bowling, Beer, Wine & Spirits\n",
            "stars: 5.0\n",
            "\n",
            "Chro\n",
            "Bars, Sports Bars, Mexican, Restaurants, Nightlife, Food, Dance Clubs\n",
            "stars: 1.0\n",
            "\n",
            "Cassie\n",
            "Restaurants, Local Flavor, Pizza, American (Traditional), Salad, Italian\n",
            "stars: 4.0\n",
            "\n"
          ],
          "name": "stdout"
        }
      ]
    },
    {
      "cell_type": "code",
      "metadata": {
        "id": "cFVba2-_lj-v",
        "colab_type": "code",
        "outputId": "c8dc827d-aeb2-49b3-cd09-5dc61210a463",
        "colab": {
          "base_uri": "https://localhost:8080/",
          "height": 275
        }
      },
      "source": [
        "# give me recommendation for Birthday Party!\n",
        "words = \"I want a romantic place\"\n",
        "pred_df= pd.DataFrame([words], columns=['text'])\n",
        "pred_df['text'] = pred_df['text'].apply(text_cleaner)\n",
        "pred_vectors = user_vec.transform(pred_df['text'])\n",
        "pred_v_df = pd.DataFrame(pred_vectors.toarray(), index=pred_df.index, columns=user_vec.get_feature_names())\n",
        "\n",
        "predItemRating=pd.DataFrame(np.dot(pred_v_df.loc[0],Q.T),index=Q.index,columns=['Rating'])\n",
        "topRecom=pd.DataFrame.sort_values(predItemRating,['Rating'],ascending=[0])[:3]\n",
        "\n",
        "# print the result\n",
        "print(\"USER QUERY : \",words+\"\\n\")\n",
        "for i in topRecom.index:\n",
        "  print(subset_df[subset_df['business_id']==i]['name'].iloc[0])\n",
        "  print(subset_df[subset_df['business_id']==i]['categories'].iloc[0])\n",
        "  print(\"stars: \"+ str(subset_df[subset_df['business_id']==i]['review_stars'].iloc[0])+\"\\n\")"
      ],
      "execution_count": 57,
      "outputs": [
        {
          "output_type": "stream",
          "text": [
            "USER QUERY :  I want a romantic place\n",
            "\n",
            "Cimirriar\n",
            "Cajun/Creole, Vietnamese, Seafood, Restaurants, American (Traditional)\n",
            "stars: 5.0\n",
            "\n",
            "Cassie\n",
            "Restaurants, Local Flavor, Pizza, American (Traditional), Salad, Italian\n",
            "stars: 4.0\n",
            "\n",
            "Jenny\n",
            "Restaurants, Food, Cafes, Tea Rooms, Bubble Tea, Desserts\n",
            "stars: 5.0\n",
            "\n"
          ],
          "name": "stdout"
        }
      ]
    }
  ]
}