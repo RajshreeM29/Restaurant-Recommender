{
  "nbformat": 4,
  "nbformat_minor": 0,
  "metadata": {
    "colab": {
      "name": "Big Data Project.ipynb",
      "provenance": [],
      "collapsed_sections": [],
      "machine_shape": "hm",
      "authorship_tag": "ABX9TyMTBVEWH2YuQ4aruEUCSDlO"
    },
    "kernelspec": {
      "name": "python3",
      "display_name": "Python 3"
    }
  },
  "cells": [
    {
      "cell_type": "markdown",
      "metadata": {
        "id": "2OH0M587cUMU",
        "colab_type": "text"
      },
      "source": [
        "## DATA PREPROCESSING"
      ]
    },
    {
      "cell_type": "code",
      "metadata": {
        "id": "Ip3BlgDOcJPA",
        "colab_type": "code",
        "outputId": "690d079e-ec05-4bb6-d456-6b680090a987",
        "colab": {
          "base_uri": "https://localhost:8080/",
          "height": 131
        }
      },
      "source": [
        "from google.colab import drive\n",
        "drive.mount('/content/drive')"
      ],
      "execution_count": 1,
      "outputs": [
        {
          "output_type": "stream",
          "text": [
            "Mounted at /content/drive\n"
          ],
          "name": "stdout"
        }
      ]
    },
    {
      "cell_type": "code",
      "metadata": {
        "id": "ywrN7G06VzIy",
        "colab_type": "code",
        "colab": {}
      },
      "source": [
        "import numpy as np\n",
        "import pandas as pd\n",
        "\n",
        "import matplotlib.pyplot as plt\n",
        "import seaborn as sns\n",
        "\n",
        "from sklearn.model_selection import train_test_split\n",
        "from sklearn.feature_extraction.text import TfidfVectorizer\n",
        "\n",
        "from nltk.corpus import stopwords \n",
        "from nltk.tokenize import WordPunctTokenizer\n",
        "\n",
        "import time\n",
        "import math\n",
        "import json\n",
        "import os\n",
        "\n",
        "import seaborn as sns; sns.set()\n",
        "import matplotlib.pyplot as plt"
      ],
      "execution_count": 0,
      "outputs": []
    },
    {
      "cell_type": "code",
      "metadata": {
        "id": "KdZVptVPy__S",
        "colab_type": "code",
        "colab": {}
      },
      "source": [
        "def timeSince(since):\n",
        "    now = time.time()\n",
        "    s = now - since\n",
        "    m = math.floor(s / 60)\n",
        "    s -= m * 60\n",
        "    return '%dm %ds' % (m, s) "
      ],
      "execution_count": 0,
      "outputs": []
    },
    {
      "cell_type": "code",
      "metadata": {
        "id": "cM2bWPMqe_WH",
        "colab_type": "code",
        "outputId": "921ecf59-7d80-41b2-b182-81cca6fdcff3",
        "colab": {
          "base_uri": "https://localhost:8080/",
          "height": 148
        }
      },
      "source": [
        "os.chdir(\"...(enter file path here)")\n",
        "!ls"
      ],
      "execution_count": 4,
      "outputs": [
        {
          "output_type": "stream",
          "text": [
            "business_data_file.csv\t    user_data_file.csv\n",
            "Dataset_User_Agreement.pdf  yelp_academic_dataset_business.json\n",
            "merged_dataset2.csv\t    yelp_academic_dataset_checkin.json\n",
            "merged_dataset.csv\t    yelp_academic_dataset_review.json\n",
            "P.csv\t\t\t    yelp_academic_dataset_tip.json\n",
            "Q.csv\t\t\t    yelp_academic_dataset_user.json\n",
            "review_data_file.csv\n"
          ],
          "name": "stdout"
        }
      ]
    },
    {
      "cell_type": "code",
      "metadata": {
        "id": "ri-sfZZo8exn",
        "colab_type": "code",
        "outputId": "2d66679d-d974-47dd-c69a-c1a59c309b9f",
        "colab": {
          "base_uri": "https://localhost:8080/",
          "height": 36
        }
      },
      "source": [
        "from datetime import datetime\n",
        "import pytz\n",
        "\n",
        "i=1\n",
        "start = time.time()\n",
        "tz = pytz.timezone('America/Chicago') \n",
        "print(\"#\",i, timeSince(start),datetime.now(tz) )"
      ],
      "execution_count": 5,
      "outputs": [
        {
          "output_type": "stream",
          "text": [
            "# 1 0m 0s 2020-05-13 13:28:26.101841-05:00\n"
          ],
          "name": "stdout"
        }
      ]
    },
    {
      "cell_type": "markdown",
      "metadata": {
        "id": "TE4hgH6lHGxV",
        "colab_type": "text"
      },
      "source": [
        "All the orginial data is in the JSON format. for ease of use, we save them into csv files"
      ]
    },
    {
      "cell_type": "code",
      "metadata": {
        "id": "yKaIeIoi_Clu",
        "colab_type": "code",
        "colab": {}
      },
      "source": [
        "users = []\n",
        "for line in open('yelp_academic_dataset_user.json', 'r'):\n",
        "    users.append(json.loads(line))\n",
        "\n",
        "data_file = open('user_data_file.csv', 'w')\n",
        "csv_writer = csv.writer(data_file)\n",
        "\n",
        "count = 0\n",
        "  \n",
        "for emp in users: \n",
        "    if count == 0: \n",
        "\n",
        "        # Writing headers of CSV file \n",
        "        header = emp.keys() \n",
        "        csv_writer.writerow(header) \n",
        "        count += 1\n",
        "  \n",
        "    # Writing data of CSV file \n",
        "    csv_writer.writerow(emp.values()) \n",
        "  \n",
        "data_file.close() \n",
        "\n",
        "del users\n",
        "us_tb = pd.read_csv(\"user_data_file.csv\")"
      ],
      "execution_count": 0,
      "outputs": []
    },
    {
      "cell_type": "code",
      "metadata": {
        "id": "eGlxnjcTEaSE",
        "colab_type": "code",
        "colab": {}
      },
      "source": [
        "business = []\n",
        "for line in open('yelp_academic_dataset_business.json', 'r'):\n",
        "    business.append(json.loads(line))\n",
        "\n",
        "data_file = open('business_data_file.csv', 'w')\n",
        "csv_writer = csv.writer(data_file)\n",
        "\n",
        "count = 0\n",
        "  \n",
        "for emp in business: \n",
        "    if count == 0: \n",
        "  \n",
        "        # Writing headers of CSV file \n",
        "        header = emp.keys() \n",
        "        csv_writer.writerow(header) \n",
        "        count += 1\n",
        "  \n",
        "    # Writing data of CSV file \n",
        "    csv_writer.writerow(emp.values()) \n",
        "  \n",
        "data_file.close() \n",
        "\n",
        "del business\n",
        "business_tb = pd.read_csv(\"business_data_file.csv\")"
      ],
      "execution_count": 0,
      "outputs": []
    },
    {
      "cell_type": "code",
      "metadata": {
        "id": "jJIcRLw6Eaf_",
        "colab_type": "code",
        "colab": {}
      },
      "source": [
        "review = []\n",
        "for line in open('yelp_academic_dataset_review.json', 'r'):\n",
        "    review.append(json.loads(line))\n",
        "\n",
        "\n",
        "data_file = open('review_data_file.csv', 'w')\n",
        "csv_writer = csv.writer(data_file)\n",
        "\n",
        "count = 0\n",
        "  \n",
        "for emp in review: \n",
        "    if count == 0: \n",
        "  \n",
        "        # Writing headers of CSV file \n",
        "        header = emp.keys() \n",
        "        csv_writer.writerow(header) \n",
        "        count += 1\n",
        "  \n",
        "    # Writing data of CSV file \n",
        "    csv_writer.writerow(emp.values()) \n",
        "  \n",
        "data_file.close() \n",
        "del review\n",
        "review_tb = pd.read_csv(\"review_data_file.csv\")"
      ],
      "execution_count": 0,
      "outputs": []
    },
    {
      "cell_type": "code",
      "metadata": {
        "id": "d7imyuwoFtFi",
        "colab_type": "code",
        "outputId": "2adc839f-b109-41f1-e037-27522c97a8f3",
        "colab": {
          "base_uri": "https://localhost:8080/",
          "height": 206
        }
      },
      "source": [
        "review_tb.head()"
      ],
      "execution_count": 0,
      "outputs": [
        {
          "output_type": "execute_result",
          "data": {
            "text/html": [
              "<div>\n",
              "<style scoped>\n",
              "    .dataframe tbody tr th:only-of-type {\n",
              "        vertical-align: middle;\n",
              "    }\n",
              "\n",
              "    .dataframe tbody tr th {\n",
              "        vertical-align: top;\n",
              "    }\n",
              "\n",
              "    .dataframe thead th {\n",
              "        text-align: right;\n",
              "    }\n",
              "</style>\n",
              "<table border=\"1\" class=\"dataframe\">\n",
              "  <thead>\n",
              "    <tr style=\"text-align: right;\">\n",
              "      <th></th>\n",
              "      <th>review_id</th>\n",
              "      <th>user_id</th>\n",
              "      <th>business_id</th>\n",
              "      <th>stars</th>\n",
              "      <th>useful</th>\n",
              "      <th>funny</th>\n",
              "      <th>cool</th>\n",
              "      <th>text</th>\n",
              "      <th>date</th>\n",
              "    </tr>\n",
              "  </thead>\n",
              "  <tbody>\n",
              "    <tr>\n",
              "      <th>0</th>\n",
              "      <td>xQY8N_XvtGbearJ5X4QryQ</td>\n",
              "      <td>OwjRMXRC0KyPrIlcjaXeFQ</td>\n",
              "      <td>-MhfebM0QIsKt87iDN-FNw</td>\n",
              "      <td>2.0</td>\n",
              "      <td>5</td>\n",
              "      <td>0</td>\n",
              "      <td>0</td>\n",
              "      <td>As someone who has worked ...</td>\n",
              "      <td>2015-04-15 05:21:16</td>\n",
              "    </tr>\n",
              "    <tr>\n",
              "      <th>1</th>\n",
              "      <td>UmFMZ8PyXZTY2QcwzsfQYA</td>\n",
              "      <td>nIJD_7ZXHq-FX8byPMOkMQ</td>\n",
              "      <td>lbrU8StCq3yDfr-QMnGrmQ</td>\n",
              "      <td>1.0</td>\n",
              "      <td>1</td>\n",
              "      <td>1</td>\n",
              "      <td>0</td>\n",
              "      <td>I am actually horrified th...</td>\n",
              "      <td>2013-12-07 03:16:52</td>\n",
              "    </tr>\n",
              "    <tr>\n",
              "      <th>2</th>\n",
              "      <td>LG2ZaYiOgpr2DK_90pYjNw</td>\n",
              "      <td>V34qejxNsCbcgD8C0HVk-Q</td>\n",
              "      <td>HQl28KMwrEKHqhFrrDqVNQ</td>\n",
              "      <td>5.0</td>\n",
              "      <td>1</td>\n",
              "      <td>0</td>\n",
              "      <td>0</td>\n",
              "      <td>I love Deagan's. I do. I r...</td>\n",
              "      <td>2015-12-05 03:18:11</td>\n",
              "    </tr>\n",
              "    <tr>\n",
              "      <th>3</th>\n",
              "      <td>i6g_oA9Yf9Y31qt0wibXpw</td>\n",
              "      <td>ofKDkJKXSKZXu5xJNGiiBQ</td>\n",
              "      <td>5JxlZaqCnk1MnbgRirs40Q</td>\n",
              "      <td>1.0</td>\n",
              "      <td>0</td>\n",
              "      <td>0</td>\n",
              "      <td>0</td>\n",
              "      <td>Dismal, lukewarm, defroste...</td>\n",
              "      <td>2011-05-27 05:30:52</td>\n",
              "    </tr>\n",
              "    <tr>\n",
              "      <th>4</th>\n",
              "      <td>6TdNDKywdbjoTkizeMce8A</td>\n",
              "      <td>UgMW8bLE0QMJDCkQ1Ax5Mg</td>\n",
              "      <td>IS4cv902ykd8wj1TR0N3-A</td>\n",
              "      <td>4.0</td>\n",
              "      <td>0</td>\n",
              "      <td>0</td>\n",
              "      <td>0</td>\n",
              "      <td>Oh happy day, finally have...</td>\n",
              "      <td>2017-01-14 21:56:57</td>\n",
              "    </tr>\n",
              "  </tbody>\n",
              "</table>\n",
              "</div>"
            ],
            "text/plain": [
              "                review_id  ...                 date\n",
              "0  xQY8N_XvtGbearJ5X4QryQ  ...  2015-04-15 05:21:16\n",
              "1  UmFMZ8PyXZTY2QcwzsfQYA  ...  2013-12-07 03:16:52\n",
              "2  LG2ZaYiOgpr2DK_90pYjNw  ...  2015-12-05 03:18:11\n",
              "3  i6g_oA9Yf9Y31qt0wibXpw  ...  2011-05-27 05:30:52\n",
              "4  6TdNDKywdbjoTkizeMce8A  ...  2017-01-14 21:56:57\n",
              "\n",
              "[5 rows x 9 columns]"
            ]
          },
          "metadata": {
            "tags": []
          },
          "execution_count": 218
        }
      ]
    },
    {
      "cell_type": "code",
      "metadata": {
        "id": "T6upH7VoHVOU",
        "colab_type": "code",
        "outputId": "6dff6cb1-b979-49f0-812c-ec3483b19927",
        "colab": {
          "base_uri": "https://localhost:8080/",
          "height": 206
        }
      },
      "source": [
        "subset_df = review_tb[['review_id', 'user_id', 'business_id', 'stars', 'text', 'date']]\n",
        "subset_df.head()"
      ],
      "execution_count": 0,
      "outputs": [
        {
          "output_type": "execute_result",
          "data": {
            "text/html": [
              "<div>\n",
              "<style scoped>\n",
              "    .dataframe tbody tr th:only-of-type {\n",
              "        vertical-align: middle;\n",
              "    }\n",
              "\n",
              "    .dataframe tbody tr th {\n",
              "        vertical-align: top;\n",
              "    }\n",
              "\n",
              "    .dataframe thead th {\n",
              "        text-align: right;\n",
              "    }\n",
              "</style>\n",
              "<table border=\"1\" class=\"dataframe\">\n",
              "  <thead>\n",
              "    <tr style=\"text-align: right;\">\n",
              "      <th></th>\n",
              "      <th>review_id</th>\n",
              "      <th>user_id</th>\n",
              "      <th>business_id</th>\n",
              "      <th>stars</th>\n",
              "      <th>text</th>\n",
              "      <th>date</th>\n",
              "    </tr>\n",
              "  </thead>\n",
              "  <tbody>\n",
              "    <tr>\n",
              "      <th>0</th>\n",
              "      <td>xQY8N_XvtGbearJ5X4QryQ</td>\n",
              "      <td>OwjRMXRC0KyPrIlcjaXeFQ</td>\n",
              "      <td>-MhfebM0QIsKt87iDN-FNw</td>\n",
              "      <td>2.0</td>\n",
              "      <td>As someone who has worked ...</td>\n",
              "      <td>2015-04-15 05:21:16</td>\n",
              "    </tr>\n",
              "    <tr>\n",
              "      <th>1</th>\n",
              "      <td>UmFMZ8PyXZTY2QcwzsfQYA</td>\n",
              "      <td>nIJD_7ZXHq-FX8byPMOkMQ</td>\n",
              "      <td>lbrU8StCq3yDfr-QMnGrmQ</td>\n",
              "      <td>1.0</td>\n",
              "      <td>I am actually horrified th...</td>\n",
              "      <td>2013-12-07 03:16:52</td>\n",
              "    </tr>\n",
              "    <tr>\n",
              "      <th>2</th>\n",
              "      <td>LG2ZaYiOgpr2DK_90pYjNw</td>\n",
              "      <td>V34qejxNsCbcgD8C0HVk-Q</td>\n",
              "      <td>HQl28KMwrEKHqhFrrDqVNQ</td>\n",
              "      <td>5.0</td>\n",
              "      <td>I love Deagan's. I do. I r...</td>\n",
              "      <td>2015-12-05 03:18:11</td>\n",
              "    </tr>\n",
              "    <tr>\n",
              "      <th>3</th>\n",
              "      <td>i6g_oA9Yf9Y31qt0wibXpw</td>\n",
              "      <td>ofKDkJKXSKZXu5xJNGiiBQ</td>\n",
              "      <td>5JxlZaqCnk1MnbgRirs40Q</td>\n",
              "      <td>1.0</td>\n",
              "      <td>Dismal, lukewarm, defroste...</td>\n",
              "      <td>2011-05-27 05:30:52</td>\n",
              "    </tr>\n",
              "    <tr>\n",
              "      <th>4</th>\n",
              "      <td>6TdNDKywdbjoTkizeMce8A</td>\n",
              "      <td>UgMW8bLE0QMJDCkQ1Ax5Mg</td>\n",
              "      <td>IS4cv902ykd8wj1TR0N3-A</td>\n",
              "      <td>4.0</td>\n",
              "      <td>Oh happy day, finally have...</td>\n",
              "      <td>2017-01-14 21:56:57</td>\n",
              "    </tr>\n",
              "  </tbody>\n",
              "</table>\n",
              "</div>"
            ],
            "text/plain": [
              "                review_id  ...                 date\n",
              "0  xQY8N_XvtGbearJ5X4QryQ  ...  2015-04-15 05:21:16\n",
              "1  UmFMZ8PyXZTY2QcwzsfQYA  ...  2013-12-07 03:16:52\n",
              "2  LG2ZaYiOgpr2DK_90pYjNw  ...  2015-12-05 03:18:11\n",
              "3  i6g_oA9Yf9Y31qt0wibXpw  ...  2011-05-27 05:30:52\n",
              "4  6TdNDKywdbjoTkizeMce8A  ...  2017-01-14 21:56:57\n",
              "\n",
              "[5 rows x 6 columns]"
            ]
          },
          "metadata": {
            "tags": []
          },
          "execution_count": 231
        }
      ]
    },
    {
      "cell_type": "code",
      "metadata": {
        "id": "abrY9rGxJAQK",
        "colab_type": "code",
        "colab": {}
      },
      "source": [
        "subset_df = review_tb[['review_id', 'user_id', 'business_id', 'stars', 'text', 'date']]\n",
        "subset_df.columns = ['review_id', 'user_id', 'business_id', 'review_stars', 'text', 'date']\n",
        "\n",
        "business_tb = pd.read_csv(\"business_data_file.csv\")\n",
        "business_tb['categories'] = business_tb['categories'].apply(lambda x: str(x).split(','))\n",
        "business_tb['categories'] = business_tb['categories'].apply(lambda x: [y.strip() for y in x])\n",
        "\n",
        "business_tb['count'] = business_tb['categories'].apply(lambda x: len(x))\n",
        "business_tb['food'] = business_tb['categories'].apply(lambda x: 'Restaurants' in x)\n"
      ],
      "execution_count": 0,
      "outputs": []
    },
    {
      "cell_type": "code",
      "metadata": {
        "id": "3FUpqrIsKQXD",
        "colab_type": "code",
        "outputId": "26ef51e3-230b-420f-e31d-225ce6641bc4",
        "colab": {
          "base_uri": "https://localhost:8080/",
          "height": 73
        }
      },
      "source": [
        "subset_df.keys()\n",
        "business_tb['food'].value_counts()"
      ],
      "execution_count": 0,
      "outputs": [
        {
          "output_type": "execute_result",
          "data": {
            "text/plain": [
              "False    145449\n",
              "True      63944\n",
              "Name: food, dtype: int64"
            ]
          },
          "metadata": {
            "tags": []
          },
          "execution_count": 235
        }
      ]
    },
    {
      "cell_type": "code",
      "metadata": {
        "id": "yOChbmK_HnZk",
        "colab_type": "code",
        "colab": {}
      },
      "source": [
        "pd.options.display.max_colwidth=30\n",
        "subset_df = pd.merge(subset_df,business_tb, how= 'left',on='business_id')[['review_id', 'user_id', 'business_id','name','state', 'review_stars', 'text', 'date','categories','food']]\n",
        "subset_df.columns = ['review_id', 'user_id', 'business_id', 'business_name', 'state','review_stars', 'text', 'date',  'categories', 'food']"
      ],
      "execution_count": 0,
      "outputs": []
    },
    {
      "cell_type": "code",
      "metadata": {
        "id": "Dtl0kEZBKDJe",
        "colab_type": "code",
        "colab": {}
      },
      "source": [
        "business_tb.head()"
      ],
      "execution_count": 0,
      "outputs": []
    },
    {
      "cell_type": "code",
      "metadata": {
        "id": "bwdgdLO0xML_",
        "colab_type": "code",
        "colab": {}
      },
      "source": [
        "subset_df = pd.merge(subset_df,us_tb, how= 'left',on='user_id')[['review_id', 'user_id', 'business_id', \n",
        "                                                     'business_name', 'state','review_stars', 'text', 'date', 'categories', 'food', 'name','yelping_since']]"
      ],
      "execution_count": 0,
      "outputs": []
    },
    {
      "cell_type": "markdown",
      "metadata": {
        "id": "VghFFQHucly2",
        "colab_type": "text"
      },
      "source": [
        ""
      ]
    },
    {
      "cell_type": "code",
      "metadata": {
        "id": "2FE9Xb6m1Diu",
        "colab_type": "code",
        "colab": {}
      },
      "source": [
        "uiz = sorted(list(subset_df['user_id'].unique()))\n",
        "uiz = {uiz[k]:k for k in range(len(uiz))} \n",
        "\n",
        "biz = sorted(list(subset_df['business_id'].unique()))\n",
        "biz = {biz[k]:k for k in range(len(biz))}"
      ],
      "execution_count": 0,
      "outputs": []
    },
    {
      "cell_type": "code",
      "metadata": {
        "id": "XOC70jn71wtI",
        "colab_type": "code",
        "outputId": "676599c2-5d5f-48f7-c411-8ffc1ff81393",
        "colab": {
          "base_uri": "https://localhost:8080/",
          "height": 293
        }
      },
      "source": [
        "subset_df['uiz'] = subset_df['user_id'].apply(lambda x: uiz[x])\n",
        "subset_df['biz'] = subset_df['business_id'].apply(lambda x: biz[x])\n",
        "\n",
        "subset_df.head()"
      ],
      "execution_count": 0,
      "outputs": [
        {
          "output_type": "execute_result",
          "data": {
            "text/html": [
              "<div>\n",
              "<style scoped>\n",
              "    .dataframe tbody tr th:only-of-type {\n",
              "        vertical-align: middle;\n",
              "    }\n",
              "\n",
              "    .dataframe tbody tr th {\n",
              "        vertical-align: top;\n",
              "    }\n",
              "\n",
              "    .dataframe thead th {\n",
              "        text-align: right;\n",
              "    }\n",
              "</style>\n",
              "<table border=\"1\" class=\"dataframe\">\n",
              "  <thead>\n",
              "    <tr style=\"text-align: right;\">\n",
              "      <th></th>\n",
              "      <th>review_id</th>\n",
              "      <th>user_id</th>\n",
              "      <th>business_id</th>\n",
              "      <th>business_name</th>\n",
              "      <th>state</th>\n",
              "      <th>review_stars</th>\n",
              "      <th>text</th>\n",
              "      <th>date</th>\n",
              "      <th>categories</th>\n",
              "      <th>food</th>\n",
              "      <th>name</th>\n",
              "      <th>yelping_since</th>\n",
              "      <th>uiz</th>\n",
              "      <th>biz</th>\n",
              "    </tr>\n",
              "  </thead>\n",
              "  <tbody>\n",
              "    <tr>\n",
              "      <th>0</th>\n",
              "      <td>LG2ZaYiOgpr2DK_90pYjNw</td>\n",
              "      <td>V34qejxNsCbcgD8C0HVk-Q</td>\n",
              "      <td>HQl28KMwrEKHqhFrrDqVNQ</td>\n",
              "      <td>Deagan's Kitchen &amp; Bar</td>\n",
              "      <td>OH</td>\n",
              "      <td>5.0</td>\n",
              "      <td>I love Deagan's. I do. I r...</td>\n",
              "      <td>2015-12-05 03:18:11</td>\n",
              "      <td>[Restaurants, Gastropubs, ...</td>\n",
              "      <td>True</td>\n",
              "      <td>Danielle</td>\n",
              "      <td>2014-11-05 14:36:08</td>\n",
              "      <td>104315</td>\n",
              "      <td>1709</td>\n",
              "    </tr>\n",
              "    <tr>\n",
              "      <th>1</th>\n",
              "      <td>i6g_oA9Yf9Y31qt0wibXpw</td>\n",
              "      <td>ofKDkJKXSKZXu5xJNGiiBQ</td>\n",
              "      <td>5JxlZaqCnk1MnbgRirs40Q</td>\n",
              "      <td>Cabo Mexican Restaurant</td>\n",
              "      <td>NV</td>\n",
              "      <td>1.0</td>\n",
              "      <td>Dismal, lukewarm, defroste...</td>\n",
              "      <td>2011-05-27 05:30:52</td>\n",
              "      <td>[Restaurants, Mexican]</td>\n",
              "      <td>True</td>\n",
              "      <td>Butch</td>\n",
              "      <td>2010-01-09 19:05:00</td>\n",
              "      <td>171412</td>\n",
              "      <td>614</td>\n",
              "    </tr>\n",
              "    <tr>\n",
              "      <th>2</th>\n",
              "      <td>6TdNDKywdbjoTkizeMce8A</td>\n",
              "      <td>UgMW8bLE0QMJDCkQ1Ax5Mg</td>\n",
              "      <td>IS4cv902ykd8wj1TR0N3-A</td>\n",
              "      <td>Raising Cane's Chicken Fin...</td>\n",
              "      <td>NV</td>\n",
              "      <td>4.0</td>\n",
              "      <td>Oh happy day, finally have...</td>\n",
              "      <td>2017-01-14 21:56:57</td>\n",
              "      <td>[Fast Food, Restaurants, S...</td>\n",
              "      <td>True</td>\n",
              "      <td>Micah</td>\n",
              "      <td>2014-07-21 00:47:49</td>\n",
              "      <td>103121</td>\n",
              "      <td>1810</td>\n",
              "    </tr>\n",
              "    <tr>\n",
              "      <th>3</th>\n",
              "      <td>L2O_INwlrRuoX05KSjc4eg</td>\n",
              "      <td>5vD2kmE25YBrbayKhykNxQ</td>\n",
              "      <td>nlxHRv1zXGT0c0K51q3jDg</td>\n",
              "      <td>Firehouse Subs</td>\n",
              "      <td>NV</td>\n",
              "      <td>5.0</td>\n",
              "      <td>This is definitely my favo...</td>\n",
              "      <td>2013-05-07 07:25:25</td>\n",
              "      <td>[Restaurants, Delis, Sandw...</td>\n",
              "      <td>True</td>\n",
              "      <td>Gary</td>\n",
              "      <td>2013-03-18 21:32:18</td>\n",
              "      <td>22920</td>\n",
              "      <td>4798</td>\n",
              "    </tr>\n",
              "    <tr>\n",
              "      <th>4</th>\n",
              "      <td>ZayJ1zWyWgY9S_TRLT_y9Q</td>\n",
              "      <td>aq_ZxGHiri48TUXJlpRkCQ</td>\n",
              "      <td>Pthe4qk5xh4n-ef-9bvMSg</td>\n",
              "      <td>Chon Thai Food</td>\n",
              "      <td>AZ</td>\n",
              "      <td>5.0</td>\n",
              "      <td>Really good place with sim...</td>\n",
              "      <td>2015-11-05 23:11:05</td>\n",
              "      <td>[Restaurants, Thai]</td>\n",
              "      <td>True</td>\n",
              "      <td>Jagan</td>\n",
              "      <td>2014-05-30 18:53:04</td>\n",
              "      <td>126339</td>\n",
              "      <td>2436</td>\n",
              "    </tr>\n",
              "  </tbody>\n",
              "</table>\n",
              "</div>"
            ],
            "text/plain": [
              "                review_id                 user_id  ...     uiz   biz\n",
              "0  LG2ZaYiOgpr2DK_90pYjNw  V34qejxNsCbcgD8C0HVk-Q  ...  104315  1709\n",
              "1  i6g_oA9Yf9Y31qt0wibXpw  ofKDkJKXSKZXu5xJNGiiBQ  ...  171412   614\n",
              "2  6TdNDKywdbjoTkizeMce8A  UgMW8bLE0QMJDCkQ1Ax5Mg  ...  103121  1810\n",
              "3  L2O_INwlrRuoX05KSjc4eg  5vD2kmE25YBrbayKhykNxQ  ...   22920  4798\n",
              "4  ZayJ1zWyWgY9S_TRLT_y9Q  aq_ZxGHiri48TUXJlpRkCQ  ...  126339  2436\n",
              "\n",
              "[5 rows x 14 columns]"
            ]
          },
          "metadata": {
            "tags": []
          },
          "execution_count": 260
        }
      ]
    },
    {
      "cell_type": "code",
      "metadata": {
        "id": "uLYMWbXK2j3W",
        "colab_type": "code",
        "colab": {}
      },
      "source": [
        "subset_df.to_csv(\"merged_dataset.csv\",index=False)##save checkpoint"
      ],
      "execution_count": 0,
      "outputs": []
    },
    {
      "cell_type": "markdown",
      "metadata": {
        "id": "vaoBa9-5hsJm",
        "colab_type": "text"
      },
      "source": [
        "## Recommender systems using ALS"
      ]
    },
    {
      "cell_type": "code",
      "metadata": {
        "id": "03OJMws3hxS-",
        "colab_type": "code",
        "colab": {}
      },
      "source": [
        "subset_df = pd.read_csv('merged_dataset.csv', nrows = 50000)"
      ],
      "execution_count": 0,
      "outputs": []
    },
    {
      "cell_type": "markdown",
      "metadata": {
        "id": "El6NQetGkTw3",
        "colab_type": "text"
      },
      "source": [
        "Setting up a spark session"
      ]
    },
    {
      "cell_type": "code",
      "metadata": {
        "id": "PaBERYzRhxWV",
        "colab_type": "code",
        "colab": {}
      },
      "source": [
        "%%time\n",
        "!apt-get install openjdk-8-jdk-headless -qq > /dev/null\n",
        "!wget -q http://apache.mirrors.hoobly.com/spark/spark-2.4.5/spark-2.4.5-bin-hadoop2.7.tgz\n",
        "!tar -xvf spark-2.4.5-bin-hadoop2.7.tgz\n",
        "!pip install -q findspark"
      ],
      "execution_count": 0,
      "outputs": []
    },
    {
      "cell_type": "code",
      "metadata": {
        "id": "YzuEbvUnhxZv",
        "colab_type": "code",
        "colab": {
          "base_uri": "https://localhost:8080/",
          "height": 36
        },
        "outputId": "bbd6c672-a35d-4a14-83de-c50b2982b987"
      },
      "source": [
        "import os\n",
        "os.environ[\"JAVA_HOME\"] = \"/usr/lib/jvm/java-8-openjdk-amd64\"\n",
        "os.environ[\"SPARK_HOME\"] = \"/content/drive/My Drive/IDS 561/Project/old/spark-2.4.5-bin-hadoop2.7\"\n",
        "# os.environ[\"SPARK_HOME\"] = \"/content/spark-2.4.5-bin-hadoop2.7\"\n",
        "import findspark\n",
        "findspark.init()\n",
        "from pyspark.sql import SparkSession\n",
        "spark = SparkSession.builder.master(\"local[*]\").getOrCreate()\n",
        "\n",
        "print(\"Done\")"
      ],
      "execution_count": 71,
      "outputs": [
        {
          "output_type": "stream",
          "text": [
            "Done\n"
          ],
          "name": "stdout"
        }
      ]
    },
    {
      "cell_type": "markdown",
      "metadata": {
        "id": "TKt_ub86cC_P",
        "colab_type": "text"
      },
      "source": [
        "Using Pyspark dataframes to apply ALS"
      ]
    },
    {
      "cell_type": "code",
      "metadata": {
        "id": "j1gnymRDhxcX",
        "colab_type": "code",
        "colab": {}
      },
      "source": [
        "# import libraries\n",
        "from pyspark.ml.evaluation import RegressionEvaluator\n",
        "from pyspark.ml.recommendation import ALS\n",
        "from pyspark.ml.tuning import TrainValidationSplit, ParamGridBuilder\n",
        "from pyspark.sql import Row\n"
      ],
      "execution_count": 0,
      "outputs": []
    },
    {
      "cell_type": "code",
      "metadata": {
        "id": "HJuGnzKZhxfo",
        "colab_type": "code",
        "colab": {
          "base_uri": "https://localhost:8080/",
          "height": 505
        },
        "outputId": "24336d79-1e9e-4938-c1f8-14f78e79cf9e"
      },
      "source": [
        "#Converting the datatype to string to convert it into a pyspark dataframe\n",
        "data = subset_df.astype(str)\n",
        "\n",
        "data_spark = spark.createDataFrame(data)\n",
        "data_spark.show()"
      ],
      "execution_count": 74,
      "outputs": [
        {
          "output_type": "stream",
          "text": [
            "+--------------------+--------------------+--------------------+--------------------+-----+------------+--------------------+-------------------+--------------------+----+--------+-------------------+------+----+\n",
            "|           review_id|             user_id|         business_id|       business_name|state|review_stars|                text|               date|          categories|food|    name|      yelping_since|   uiz| biz|\n",
            "+--------------------+--------------------+--------------------+--------------------+-----+------------+--------------------+-------------------+--------------------+----+--------+-------------------+------+----+\n",
            "|LG2ZaYiOgpr2DK_90...|V34qejxNsCbcgD8C0...|HQl28KMwrEKHqhFrr...|Deagan's Kitchen ...|   OH|         5.0|I love Deagan's. ...|2015-12-05 03:18:11|['Restaurants', '...|True|Danielle|2014-11-05 14:36:08|104315|1709|\n",
            "|i6g_oA9Yf9Y31qt0w...|ofKDkJKXSKZXu5xJN...|5JxlZaqCnk1MnbgRi...|Cabo Mexican Rest...|   NV|         1.0|Dismal, lukewarm,...|2011-05-27 05:30:52|['Restaurants', '...|True|   Butch|2010-01-09 19:05:00|171412| 614|\n",
            "|6TdNDKywdbjoTkize...|UgMW8bLE0QMJDCkQ1...|IS4cv902ykd8wj1TR...|Raising Cane's Ch...|   NV|         4.0|Oh happy day, fin...|2017-01-14 21:56:57|['Fast Food', 'Re...|True|   Micah|2014-07-21 00:47:49|103121|1810|\n",
            "|L2O_INwlrRuoX05KS...|5vD2kmE25YBrbayKh...|nlxHRv1zXGT0c0K51...|      Firehouse Subs|   NV|         5.0|This is definitel...|2013-05-07 07:25:25|['Restaurants', '...|True|    Gary|2013-03-18 21:32:18| 22920|4798|\n",
            "|ZayJ1zWyWgY9S_TRL...|aq_ZxGHiri48TUXJl...|Pthe4qk5xh4n-ef-9...|      Chon Thai Food|   AZ|         5.0|Really good place...|2015-11-05 23:11:05|['Restaurants', '...|True|   Jagan|2014-05-30 18:53:04|126339|2436|\n",
            "|JA-xnyHytKiOIHl_z...|P6apihD4ASf1vpPxH...|e_BiI4ej1CW1F0EyV...|            Casa Mia|   AZ|         5.0|Most delicious au...|2015-02-16 06:48:47|['Restaurants', '...|True| Marodin|2013-10-05 22:07:56| 84796|3926|\n",
            "|z4BCgTkfNtCu4XY5L...|jOERvhmK6_lo_XGUB...|Ws8V970-mQt2X9CwC...|  The Urban Tea Loft|   AZ|         4.0|I have been here ...|2009-10-13 04:16:41|['Home & Garden',...|True|  Yazmin|2006-12-16 05:21:17|154315|3101|\n",
            "|Tyx7AxYQfSRnBFUIX...|HJECayULRM-6xh2GC...|l-nL4BmhzpZjcavoo...|The Wokker Restau...|   ON|         4.0|ORDER In (Deliver...|2015-10-17 01:38:13|['Specialty Food'...|True|     Tim|2014-09-24 22:48:30| 59593|4540|\n",
            "|QCxPzh7cuxJrLd6A_...|qftVgPj_kRTildMDj...|Ns4tjgLfqR1qawGlN...|SN Pacific Rim As...|   AZ|         5.0|Everything that m...|2016-06-11 22:00:11|['Asian Fusion', ...|True|    Tiky|2012-03-19 19:19:40|177780|2249|\n",
            "|bVTjZgRNq8Toxzvti...|2hRe26HSCAWbFRn5W...|d4qwVw4PcN-_2mK2o...|           Pink Taco|   NV|         1.0|10pm on a super b...|2015-02-02 06:28:00|['Mexican', 'Rest...|True|    Mike|2012-01-03 14:16:45| 12257|3790|\n",
            "|Ne_2CSfcKIqXHmv_K...|6sJN_HlM_uwpfLJ1p...|oVuZtlCFg_zF090Nh...| Choolaah Indian BBQ|   PA|         4.0|A close friend wa...|2018-02-01 19:15:00|['Restaurants', '...|True|   Ahmed|2015-10-05 00:16:05| 25933|4868|\n",
            "|UGErdm6bt48SXTVwJ...|QodunSzok4nIYFNrT...|poSV39UqEg-gpESXa...|    Angry Crab Shack|   AZ|         3.0|My husband and I ...|2018-03-04 01:03:53|['Restaurants', '...|True|   Jerns|2016-05-24 18:30:12| 90468|4988|\n",
            "|TeX0eOIeZb_wpo86r...|RR-2nouBn408e3djx...|d4qwVw4PcN-_2mK2o...|           Pink Taco|   NV|         5.0|Holy heck this pl...|2017-02-09 04:25:03|['Mexican', 'Rest...|True| Bradley|2013-04-25 17:36:39| 92398|3790|\n",
            "|sgTnHfeaEvyOoWX4T...|A0j21z2Q1HGic7jW6...|9Jo1pu0y2zU6ktiwQ...| Coconut's Fish Cafe|   AZ|         4.0|Coconut's Fish Ca...|2016-12-04 03:15:21|['Hawaiian', 'Fis...|True| Georgie|2010-07-02 16:21:38| 36120| 954|\n",
            "|XvLG7ReC8JZmBltOL...|-Co-ReNx_lXT1xL_R...|XZbuPXdyA0ZtTu3Az...|          Mesa Grill|   NV|         4.0|As the previous p...|2009-10-13 09:50:48|['Southern', 'Mex...|True|  Micole|2008-06-29 05:28:18|   747|3168|\n",
            "|mM8i91yWP1QbImEvz...|TZQSUDDcA4ek5gBd6...|qUWqjjjfpB2-4P3He...|             Levetto|   ON|         4.0|In the heart of C...|2017-06-06 19:04:10|['Pizza', 'Italia...|True| Cecilia|2011-05-16 02:07:47| 99475|5050|\n",
            "|-u8Oz_iSZACGwWW_p...|UreiTV1I9i-XF6_bJ...|d_q4avZYM1sOlQP7n...|     El Güero Canelo|   AZ|         4.0|Always a fun outi...|2018-04-15 11:13:11|['Mexican', 'Rest...|True|    Judy|2012-12-17 19:00:02|103677|3835|\n",
            "|09qxjFi4abaW66JeS...|mbdtyUUzZZx5ld1Qc...|wkzWdo1mBqbzR2KPo...|        Vito's Pizza|   AZ|         4.0|Was a Chicago sty...|2010-08-21 01:19:17|['Sandwiches', 'C...|True|    Dave|2010-02-22 20:39:35|164807|5647|\n",
            "|K-wdPGHbErfxbKK6P...|FCoXqPxuI7GRBYyzJ...|r4HkiC71nB9k8Fe8z...|  Sal's Tuscan Grill|   AZ|         5.0|First time eating...|2015-12-05 02:16:06|['Italian', 'Rest...|True|   Norma|2012-07-06 05:17:26| 52752|5090|\n",
            "|01DNCgnW8K6xSyv4k...|XivuRnPq3D-K5cPiB...|oyjkEn5fAqcGNsBbq...|  Buffalo Wild Wings|   NC|         1.0|Just... not good....|2016-04-11 16:42:13|['Burgers', 'Chic...|True|  Leslie|2011-12-29 17:56:36|113032|4917|\n",
            "+--------------------+--------------------+--------------------+--------------------+-----+------------+--------------------+-------------------+--------------------+----+--------+-------------------+------+----+\n",
            "only showing top 20 rows\n",
            "\n"
          ],
          "name": "stdout"
        }
      ]
    },
    {
      "cell_type": "code",
      "metadata": {
        "id": "wCjl7wF1hxh2",
        "colab_type": "code",
        "colab": {
          "base_uri": "https://localhost:8080/",
          "height": 317
        },
        "outputId": "718a8713-066c-4596-817b-5b7dc3a7f81d"
      },
      "source": [
        "#convert stars / Biz/ Uiz back to right data-type\n",
        "from pyspark.sql.functions import col\n",
        "from pyspark.sql.types import IntegerType\n",
        "from pyspark.sql.types import FloatType\n",
        "\n",
        "df1 = data_spark.withColumn(\"review_stars\",col(\"review_stars\").cast(FloatType())).withColumn(\"Biz\",col(\"Biz\").cast(IntegerType())).withColumn(\"Uiz\",col(\"Uiz\").cast(IntegerType()))\n",
        "df1.printSchema()"
      ],
      "execution_count": 76,
      "outputs": [
        {
          "output_type": "stream",
          "text": [
            "root\n",
            " |-- review_id: string (nullable = true)\n",
            " |-- user_id: string (nullable = true)\n",
            " |-- business_id: string (nullable = true)\n",
            " |-- business_name: string (nullable = true)\n",
            " |-- state: string (nullable = true)\n",
            " |-- review_stars: float (nullable = true)\n",
            " |-- text: string (nullable = true)\n",
            " |-- date: string (nullable = true)\n",
            " |-- categories: string (nullable = true)\n",
            " |-- food: string (nullable = true)\n",
            " |-- name: string (nullable = true)\n",
            " |-- yelping_since: string (nullable = true)\n",
            " |-- Uiz: integer (nullable = true)\n",
            " |-- Biz: integer (nullable = true)\n",
            "\n"
          ],
          "name": "stdout"
        }
      ]
    },
    {
      "cell_type": "code",
      "metadata": {
        "id": "5AwRC1Qphxlf",
        "colab_type": "code",
        "colab": {
          "base_uri": "https://localhost:8080/",
          "height": 317
        },
        "outputId": "5946e1aa-87fa-4aa5-a231-9a483fa0f45d"
      },
      "source": [
        "#split dataset into training, validation, and testing\n",
        "import random\n",
        "random.seed(123)\n",
        "(training, validation,testing) = df1.randomSplit([0.70,0.10, 0.2])\n",
        "fulltraining = training.union(validation)\n",
        "fulltraining.show(10)"
      ],
      "execution_count": 78,
      "outputs": [
        {
          "output_type": "stream",
          "text": [
            "+--------------------+--------------------+--------------------+--------------------+-----+------------+--------------------+-------------------+--------------------+----+---------+-------------------+------+----+\n",
            "|           review_id|             user_id|         business_id|       business_name|state|review_stars|                text|               date|          categories|food|     name|      yelping_since|   Uiz| Biz|\n",
            "+--------------------+--------------------+--------------------+--------------------+-----+------------+--------------------+-------------------+--------------------+----+---------+-------------------+------+----+\n",
            "|--MC9foCbGXJ0d0W_...|4suJsf9Q2uruOwKln...|ACb637NG7EnswRs8U...|Bar Louie - Tempe...|   AZ|         4.0|I've only been he...|2017-01-28 00:41:41|['Beer', 'Wine & ...|True|  Jeffrey|2008-03-25 11:01:51| 19514|1028|\n",
            "|--heTyt0akG0nZZ-s...|JCRtGjbiOeB4I5BYL...|9Jo1pu0y2zU6ktiwQ...| Coconut's Fish Cafe|   AZ|         3.0|Good place and a ...|2018-07-08 01:08:16|['Hawaiian', 'Fis...|True|   Raevin|2017-04-01 16:26:59| 65686| 954|\n",
            "|--nskK6USf9QBTEz3...|llyK5_o-6L9H5QG2r...|LZxSxY98S7l4a7tJi...|Cracker Barrel Ol...|   AZ|         1.0|Never again.  The...|2012-07-16 01:00:56|['Comfort Food', ...|True|        T|2011-02-24 00:26:21|162004|2080|\n",
            "|-03MkZkRSHjBky_5e...|s_htLnKwjWZjIcUK0...|AueEbb9kao4lt6CYt...|Okra Cookhouse & ...|   AZ|         5.0|Went here for a m...|2015-09-24 04:38:17|['Italian', 'Rest...|True|  Carolyn|2013-05-16 02:22:49|184061|1090|\n",
            "|-0ISwybjwdng4aoUV...|nC1Q1lfY8O0sKN9d2...|vhKUBKcOm8zOLxeS3...|      Rosati's Pizza|   AZ|         4.0|The food wasn't b...|2014-09-10 00:36:54|['Pizza', 'Restau...|True|   Manuel|2011-11-13 04:18:45|166672|5539|\n",
            "|-11AeWAml2ZZCkStV...|fwiWVtNjEtRcGKhqj...|Cm7PADnhAzW5R2fQP...|Huntersville Fami...|   NC|         3.0|Good food, great ...|2016-08-25 21:48:47|['American (Tradi...|True|   Teresa|2016-08-11 00:17:42|142926|1251|\n",
            "|-1FnvJ1LPEIVUYH2v...|Xh-H_W0C9OL11aff3...|0FUtlsQrJI7LhqDPx...|    Joe's Farm Grill|   AZ|         5.0|Absolutely delici...|2017-06-07 00:16:09|['Restaurants', '...|True| Jamielyn|2015-05-26 01:52:12|112923| 125|\n",
            "|-1qxlXvAu8YOefjzj...|kXbWqoCmNchoU_U3a...|NFm869_w6cvVaWaNp...|   Soul Gastrolounge|   NC|         5.0|I've been here tw...|2015-07-04 00:12:01|['Restaurants', '...|True|   Rizzle|2011-09-11 20:48:36|157927|2202|\n",
            "|-2kwzDa1XsdHZ5gwG...|yxMQ20t16bLcmzdjt...|9g4p3tny291ANSAQK...|Villa-Roma Restau...|   NC|         3.0|Pizza was ok. It ...|2015-06-21 01:27:52|['Italian', 'Rest...|True|    marko|2011-09-02 03:03:19|204631| 984|\n",
            "|-3DmFwrKM2M4zj4xQ...|QxdlG_uzIVg5op20O...|UPSzbM6D2SkarWAIN...|Taydo Vietnamese ...|   OH|         5.0|My husband and I ...|2015-02-16 16:17:30|['Restaurants', '...|True|Ann Marie|2013-09-04 12:35:38| 90892|2859|\n",
            "+--------------------+--------------------+--------------------+--------------------+-----+------------+--------------------+-------------------+--------------------+----+---------+-------------------+------+----+\n",
            "only showing top 10 rows\n",
            "\n"
          ],
          "name": "stdout"
        }
      ]
    },
    {
      "cell_type": "markdown",
      "metadata": {
        "id": "5CxWTtmylYFI",
        "colab_type": "text"
      },
      "source": [
        "Now we apply the ALS algorithm. We will tune the Rank as well as the regularizer"
      ]
    },
    {
      "cell_type": "code",
      "metadata": {
        "id": "gF2k08S8hxpa",
        "colab_type": "code",
        "colab": {
          "base_uri": "https://localhost:8080/",
          "height": 243
        },
        "outputId": "be851e49-e6d9-46f8-bbc4-7cc38acd6e8c"
      },
      "source": [
        "#Cross validation\n",
        "\n",
        "als = ALS(userCol=\"Uiz\", itemCol=\"Biz\", ratingCol=\"review_stars\", nonnegative=True)\n",
        "evaluator = RegressionEvaluator(metricName=\"rmse\", labelCol=\"review_stars\",predictionCol=\"prediction\")\n",
        "\n",
        "ranks = [x for x in range(1,150,15)]\n",
        "regparam = [.1,.15,.25,.35,.5]\n",
        "\n",
        "best_par = -10\n",
        "best_rank = -10\n",
        "\n",
        "min_err = float('inf')\n",
        "\n",
        "Reg = ['Regulariser']\n",
        "cv_table = pd.DataFrame(columns = Reg )\n",
        "cv_table['Regulariser'] = regparam\n",
        "\n",
        "print(\"Starting the Validation process\")\n",
        "for r in ranks:\n",
        "  als.setRank(r)\n",
        "  j = 0\n",
        "\n",
        "  for par in regparam:\n",
        "\n",
        "\n",
        "    als.setRegParam(par)\n",
        "    model = als.fit(training)\n",
        "    pred = model.transform(validation)\n",
        "    pred_clean = pred.filter(pred.prediction !=float('nan') )\n",
        "    rmse = evaluator.evaluate(pred_clean)\n",
        "\n",
        "    cv_table.loc[j,r] = rmse\n",
        "\n",
        "    j+=1\n",
        "\n",
        "    #print('Rank %s, Regularizer %s, RMSE %s' % (r,  par,round(rmse,4)), \"Iteration Time\", timeSince(iterstart))\n",
        "    # print('Rank %s, Regularizer %s, RMSE %s' % (r,  par,round(rmse,4)))\n",
        "    \n",
        "\n",
        "    if rmse < min_err:\n",
        "      min_err = rmse\n",
        "      best_rank = r\n",
        "      best_par = par\n",
        "    \n",
        "    iterstart = time.time()\n",
        "\n",
        "print(\"Best Rank = \",best_rank ,\"Best Regularizer\", best_par, \"Min Error\", round(min_err,4) )\n",
        "cv_table"
      ],
      "execution_count": 105,
      "outputs": [
        {
          "output_type": "stream",
          "text": [
            "Starting the Validation process\n",
            "Best Rank =  1 Best Regularizer 0.35 Min Error 1.8882\n"
          ],
          "name": "stdout"
        },
        {
          "output_type": "execute_result",
          "data": {
            "text/html": [
              "<div>\n",
              "<style scoped>\n",
              "    .dataframe tbody tr th:only-of-type {\n",
              "        vertical-align: middle;\n",
              "    }\n",
              "\n",
              "    .dataframe tbody tr th {\n",
              "        vertical-align: top;\n",
              "    }\n",
              "\n",
              "    .dataframe thead th {\n",
              "        text-align: right;\n",
              "    }\n",
              "</style>\n",
              "<table border=\"1\" class=\"dataframe\">\n",
              "  <thead>\n",
              "    <tr style=\"text-align: right;\">\n",
              "      <th></th>\n",
              "      <th>Regulariser</th>\n",
              "      <th>1</th>\n",
              "      <th>16</th>\n",
              "      <th>31</th>\n",
              "      <th>46</th>\n",
              "      <th>61</th>\n",
              "      <th>76</th>\n",
              "      <th>91</th>\n",
              "      <th>106</th>\n",
              "      <th>121</th>\n",
              "      <th>136</th>\n",
              "    </tr>\n",
              "  </thead>\n",
              "  <tbody>\n",
              "    <tr>\n",
              "      <th>0</th>\n",
              "      <td>0.10</td>\n",
              "      <td>1.982494</td>\n",
              "      <td>2.055631</td>\n",
              "      <td>2.048772</td>\n",
              "      <td>2.013333</td>\n",
              "      <td>2.053183</td>\n",
              "      <td>2.021442</td>\n",
              "      <td>2.027939</td>\n",
              "      <td>2.029493</td>\n",
              "      <td>2.028431</td>\n",
              "      <td>2.020137</td>\n",
              "    </tr>\n",
              "    <tr>\n",
              "      <th>1</th>\n",
              "      <td>0.15</td>\n",
              "      <td>1.923756</td>\n",
              "      <td>2.021200</td>\n",
              "      <td>2.028161</td>\n",
              "      <td>2.010844</td>\n",
              "      <td>2.046420</td>\n",
              "      <td>2.016450</td>\n",
              "      <td>2.026835</td>\n",
              "      <td>2.032761</td>\n",
              "      <td>2.030850</td>\n",
              "      <td>2.021948</td>\n",
              "    </tr>\n",
              "    <tr>\n",
              "      <th>2</th>\n",
              "      <td>0.25</td>\n",
              "      <td>1.891928</td>\n",
              "      <td>1.981744</td>\n",
              "      <td>2.001121</td>\n",
              "      <td>1.995722</td>\n",
              "      <td>2.025552</td>\n",
              "      <td>2.000414</td>\n",
              "      <td>2.010433</td>\n",
              "      <td>2.021754</td>\n",
              "      <td>2.019250</td>\n",
              "      <td>2.009937</td>\n",
              "    </tr>\n",
              "    <tr>\n",
              "      <th>3</th>\n",
              "      <td>0.35</td>\n",
              "      <td>1.888181</td>\n",
              "      <td>1.974529</td>\n",
              "      <td>1.997127</td>\n",
              "      <td>1.993431</td>\n",
              "      <td>2.020863</td>\n",
              "      <td>1.997680</td>\n",
              "      <td>2.006322</td>\n",
              "      <td>2.018558</td>\n",
              "      <td>2.016196</td>\n",
              "      <td>2.007998</td>\n",
              "    </tr>\n",
              "    <tr>\n",
              "      <th>4</th>\n",
              "      <td>0.50</td>\n",
              "      <td>1.897396</td>\n",
              "      <td>2.003548</td>\n",
              "      <td>2.024990</td>\n",
              "      <td>2.020170</td>\n",
              "      <td>2.046576</td>\n",
              "      <td>2.024369</td>\n",
              "      <td>2.031771</td>\n",
              "      <td>2.043244</td>\n",
              "      <td>2.041309</td>\n",
              "      <td>2.034582</td>\n",
              "    </tr>\n",
              "  </tbody>\n",
              "</table>\n",
              "</div>"
            ],
            "text/plain": [
              "   Regulariser         1        16  ...       106       121       136\n",
              "0         0.10  1.982494  2.055631  ...  2.029493  2.028431  2.020137\n",
              "1         0.15  1.923756  2.021200  ...  2.032761  2.030850  2.021948\n",
              "2         0.25  1.891928  1.981744  ...  2.021754  2.019250  2.009937\n",
              "3         0.35  1.888181  1.974529  ...  2.018558  2.016196  2.007998\n",
              "4         0.50  1.897396  2.003548  ...  2.043244  2.041309  2.034582\n",
              "\n",
              "[5 rows x 11 columns]"
            ]
          },
          "metadata": {
            "tags": []
          },
          "execution_count": 105
        }
      ]
    },
    {
      "cell_type": "code",
      "metadata": {
        "id": "KzlxTfED5s6M",
        "colab_type": "code",
        "colab": {
          "base_uri": "https://localhost:8080/",
          "height": 413
        },
        "outputId": "aca94d0b-fa53-4e43-e620-488b02f51abc"
      },
      "source": [
        "#Let us look at the RMSE by each rank\n",
        "\n",
        "fig, ax =plt.subplots(1,1 , figsize=(20,6))\n",
        "\n",
        "sns.set()\n",
        "data1 = pd.melt(cv_table, ['Regulariser'])#reshaping the dataframe for visualisation \n",
        "data1.columns = ['Regulariser', 'Ranks', 'RMSE']\n",
        "sns.lineplot(x='Regulariser', y='RMSE', hue='Ranks', data=data1,palette= sns.color_palette('Paired', n_colors=len(ranks)), linewidth=2)\n",
        "ax.legend(ranks)\n"
      ],
      "execution_count": 191,
      "outputs": [
        {
          "output_type": "execute_result",
          "data": {
            "text/plain": [
              "<matplotlib.legend.Legend at 0x7fea5c43b828>"
            ]
          },
          "metadata": {
            "tags": []
          },
          "execution_count": 191
        },
        {
          "output_type": "display_data",
          "data": {
            "image/png": "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\n",
            "text/plain": [
              "<Figure size 1440x432 with 1 Axes>"
            ]
          },
          "metadata": {
            "tags": []
          }
        }
      ]
    },
    {
      "cell_type": "code",
      "metadata": {
        "id": "R24vjUcrhxst",
        "colab_type": "code",
        "colab": {
          "base_uri": "https://localhost:8080/",
          "height": 36
        },
        "outputId": "ff633947-d189-4400-f2e4-2d18f31defec"
      },
      "source": [
        "#using the best rank and regulariser to train the model \n",
        "als = ALS(userCol=\"Uiz\", itemCol=\"Biz\", ratingCol=\"review_stars\", nonnegative=True)\n",
        "evaluator = RegressionEvaluator(metricName=\"rmse\", labelCol=\"review_stars\",predictionCol=\"prediction\")\n",
        "\n",
        "als.setRank(best_rank)\n",
        "als.setRegParam(best_par)\n",
        "model = als.fit(fulltraining)\n",
        "\n",
        "# Evaluate the model by computing the RMSE on the test data\n",
        "predictions = model.transform(testing)\n",
        "rmse = evaluator.evaluate(predictions)\n",
        "predicted_clean = predictions.filter(predictions.prediction != float('nan'))\n",
        "\n",
        "rmse = evaluator.evaluate(predicted_clean)\n",
        "print(\"Root-mean-square error = \" , round(rmse,4))"
      ],
      "execution_count": 192,
      "outputs": [
        {
          "output_type": "stream",
          "text": [
            "Root-mean-square error =  1.8223\n"
          ],
          "name": "stdout"
        }
      ]
    },
    {
      "cell_type": "code",
      "metadata": {
        "id": "MlZHSHYghxvG",
        "colab_type": "code",
        "colab": {
          "base_uri": "https://localhost:8080/",
          "height": 505
        },
        "outputId": "abc6b74e-a343-4176-cf42-1e5326d0372f"
      },
      "source": [
        "# Generate top 3 restaurant recommendations for each user\n",
        "userRecs = model.recommendForAllUsers(3)\n",
        "userRecs.show()\n",
        "# Generate top 3 user recommendations for each restaurant\n",
        "BusRecs = model.recommendForAllItems(3)"
      ],
      "execution_count": 193,
      "outputs": [
        {
          "output_type": "stream",
          "text": [
            "+-----+--------------------+\n",
            "|  Uiz|     recommendations|\n",
            "+-----+--------------------+\n",
            "|  471|[[5634, 1.6093864...|\n",
            "| 1580|[[5634, 7.769094]...|\n",
            "| 1645|[[20, 0.0], [30, ...|\n",
            "| 1829|[[5634, 7.94936],...|\n",
            "| 3997|[[5634, 6.1692333...|\n",
            "| 4101|[[5634, 1.7341815...|\n",
            "| 4818|[[5634, 7.38908],...|\n",
            "| 7253|[[5634, 7.8112245...|\n",
            "| 9465|[[20, 0.0], [30, ...|\n",
            "|11033|[[5634, 8.153218]...|\n",
            "|15619|[[20, 0.0], [30, ...|\n",
            "|15727|[[20, 0.0], [30, ...|\n",
            "|16574|[[5634, 6.5885615...|\n",
            "|18654|[[5634, 4.9735594...|\n",
            "|18911|[[5634, 7.69226],...|\n",
            "|21700|[[5634, 8.067332]...|\n",
            "|22223|[[5634, 7.873633]...|\n",
            "|22346|[[5634, 3.438445]...|\n",
            "|23015|[[5634, 3.3837929...|\n",
            "|24354|[[20, 0.0], [30, ...|\n",
            "+-----+--------------------+\n",
            "only showing top 20 rows\n",
            "\n"
          ],
          "name": "stdout"
        }
      ]
    },
    {
      "cell_type": "code",
      "metadata": {
        "id": "STWsg_eqhx3_",
        "colab_type": "code",
        "colab": {}
      },
      "source": [
        "mymap = subset_df[['biz','business_name']]\n",
        "mapper = {}\n",
        "for i in range(len(subset_df)):\n",
        "  mapper[mymap['biz'][i]] = mymap['business_name'][i]\n",
        "usermap = subset_df[['uiz','name']]\n",
        "user_mapper = {}\n",
        "for i in range(len(subset_df)):\n",
        "  user_mapper[usermap['uiz'][i]] = usermap['name'][i]\n",
        "del mymap\n",
        "del usermap\n"
      ],
      "execution_count": 0,
      "outputs": []
    },
    {
      "cell_type": "code",
      "metadata": {
        "id": "5-NfZLn5hxxv",
        "colab_type": "code",
        "colab": {
          "base_uri": "https://localhost:8080/",
          "height": 206
        },
        "outputId": "29a98098-c674-4e19-fab8-58bcd3320343"
      },
      "source": [
        "# convert to pandas dataframe\n",
        "result_als = userRecs.select(\"*\").toPandas()\n",
        "result_als[\"recommendations\"] = result_als[\"recommendations\"].apply(lambda x: [x[i][0] for i in range(3)] )#removing the restaurant ratings, retaining only the ids\n",
        "result_als.head()"
      ],
      "execution_count": 257,
      "outputs": [
        {
          "output_type": "execute_result",
          "data": {
            "text/html": [
              "<div>\n",
              "<style scoped>\n",
              "    .dataframe tbody tr th:only-of-type {\n",
              "        vertical-align: middle;\n",
              "    }\n",
              "\n",
              "    .dataframe tbody tr th {\n",
              "        vertical-align: top;\n",
              "    }\n",
              "\n",
              "    .dataframe thead th {\n",
              "        text-align: right;\n",
              "    }\n",
              "</style>\n",
              "<table border=\"1\" class=\"dataframe\">\n",
              "  <thead>\n",
              "    <tr style=\"text-align: right;\">\n",
              "      <th></th>\n",
              "      <th>Uiz</th>\n",
              "      <th>recommendations</th>\n",
              "    </tr>\n",
              "  </thead>\n",
              "  <tbody>\n",
              "    <tr>\n",
              "      <th>0</th>\n",
              "      <td>471</td>\n",
              "      <td>[5634, 4919, 4404]</td>\n",
              "    </tr>\n",
              "    <tr>\n",
              "      <th>1</th>\n",
              "      <td>1580</td>\n",
              "      <td>[5634, 4919, 4404]</td>\n",
              "    </tr>\n",
              "    <tr>\n",
              "      <th>2</th>\n",
              "      <td>1645</td>\n",
              "      <td>[20, 30, 40]</td>\n",
              "    </tr>\n",
              "    <tr>\n",
              "      <th>3</th>\n",
              "      <td>1829</td>\n",
              "      <td>[5634, 4919, 4404]</td>\n",
              "    </tr>\n",
              "    <tr>\n",
              "      <th>4</th>\n",
              "      <td>3997</td>\n",
              "      <td>[5634, 4919, 4404]</td>\n",
              "    </tr>\n",
              "  </tbody>\n",
              "</table>\n",
              "</div>"
            ],
            "text/plain": [
              "    Uiz     recommendations\n",
              "0   471  [5634, 4919, 4404]\n",
              "1  1580  [5634, 4919, 4404]\n",
              "2  1645        [20, 30, 40]\n",
              "3  1829  [5634, 4919, 4404]\n",
              "4  3997  [5634, 4919, 4404]"
            ]
          },
          "metadata": {
            "tags": []
          },
          "execution_count": 257
        }
      ]
    },
    {
      "cell_type": "code",
      "metadata": {
        "id": "FNH7_CyNhx8_",
        "colab_type": "code",
        "colab": {
          "base_uri": "https://localhost:8080/",
          "height": 206
        },
        "outputId": "748c7ce2-5931-4e48-a561-57e1d8a90bb7"
      },
      "source": [
        "result_als[\"recommendations\"] = result_als[\"recommendations\"].apply(lambda x: [mapper[int(x)] for x in x])\n",
        "result_als.columns = ['User_Id', \"Recommendations\"]\n",
        "result_als[\"User Name\"] = result_als[\"User_Id\"].apply(lambda x : user_mapper[int(x)])\n",
        "pd.options.display.max_colwidth=100\n",
        "result_als[\"Recommendations\"] = result_als[\"Recommendations\"].apply(lambda x: str(x))\n",
        "result_als[\"Recommendations\"] = result_als[\"Recommendations\"].str.replace(r'[', \"\")\n",
        "result_als[\"Recommendations\"] = result_als[\"Recommendations\"].str.replace(r']', \"\")\n",
        "result_als[\"Recommendations\"] = result_als[\"Recommendations\"].str.replace(r\"'\", \"\")\n",
        "result_als[\"Recommendations\"] = result_als[\"Recommendations\"].str.replace(r'\"', \"\")\n",
        "\n",
        "result_als = result_als[['User_Id', 'User Name','Recommendations']]\n",
        "result_als.head()"
      ],
      "execution_count": 258,
      "outputs": [
        {
          "output_type": "execute_result",
          "data": {
            "text/html": [
              "<div>\n",
              "<style scoped>\n",
              "    .dataframe tbody tr th:only-of-type {\n",
              "        vertical-align: middle;\n",
              "    }\n",
              "\n",
              "    .dataframe tbody tr th {\n",
              "        vertical-align: top;\n",
              "    }\n",
              "\n",
              "    .dataframe thead th {\n",
              "        text-align: right;\n",
              "    }\n",
              "</style>\n",
              "<table border=\"1\" class=\"dataframe\">\n",
              "  <thead>\n",
              "    <tr style=\"text-align: right;\">\n",
              "      <th></th>\n",
              "      <th>User_Id</th>\n",
              "      <th>User Name</th>\n",
              "      <th>Recommendations</th>\n",
              "    </tr>\n",
              "  </thead>\n",
              "  <tbody>\n",
              "    <tr>\n",
              "      <th>0</th>\n",
              "      <td>471</td>\n",
              "      <td>Margaret</td>\n",
              "      <td>Nicks Family Restaurant, Sub Factory, The Bier Haus</td>\n",
              "    </tr>\n",
              "    <tr>\n",
              "      <th>1</th>\n",
              "      <td>1580</td>\n",
              "      <td>Colleen</td>\n",
              "      <td>Nicks Family Restaurant, Sub Factory, The Bier Haus</td>\n",
              "    </tr>\n",
              "    <tr>\n",
              "      <th>2</th>\n",
              "      <td>1645</td>\n",
              "      <td>R</td>\n",
              "      <td>El Ranchero Of Traditional Mexican Food, Ohiyo 68 Asian Cuisine, Stownut Donut &amp; Diner</td>\n",
              "    </tr>\n",
              "    <tr>\n",
              "      <th>3</th>\n",
              "      <td>1829</td>\n",
              "      <td>Robert</td>\n",
              "      <td>Nicks Family Restaurant, Sub Factory, The Bier Haus</td>\n",
              "    </tr>\n",
              "    <tr>\n",
              "      <th>4</th>\n",
              "      <td>3997</td>\n",
              "      <td>Mike</td>\n",
              "      <td>Nicks Family Restaurant, Sub Factory, The Bier Haus</td>\n",
              "    </tr>\n",
              "  </tbody>\n",
              "</table>\n",
              "</div>"
            ],
            "text/plain": [
              "   User_Id  ...                                                                         Recommendations\n",
              "0      471  ...                                     Nicks Family Restaurant, Sub Factory, The Bier Haus\n",
              "1     1580  ...                                     Nicks Family Restaurant, Sub Factory, The Bier Haus\n",
              "2     1645  ...  El Ranchero Of Traditional Mexican Food, Ohiyo 68 Asian Cuisine, Stownut Donut & Diner\n",
              "3     1829  ...                                     Nicks Family Restaurant, Sub Factory, The Bier Haus\n",
              "4     3997  ...                                     Nicks Family Restaurant, Sub Factory, The Bier Haus\n",
              "\n",
              "[5 rows x 3 columns]"
            ]
          },
          "metadata": {
            "tags": []
          },
          "execution_count": 258
        }
      ]
    },
    {
      "cell_type": "markdown",
      "metadata": {
        "id": "CZPCedfN3X9h",
        "colab_type": "text"
      },
      "source": [
        "## Query Based Recommendation for users \n",
        "\n",
        "Here we use the tfidf scores of the tokenised reviews to predict top three places the users should go to. "
      ]
    },
    {
      "cell_type": "code",
      "metadata": {
        "id": "1tsmfuKV2qMA",
        "colab_type": "code",
        "outputId": "7536c5aa-4a29-4040-e6ef-5ae39f4f29f3",
        "colab": {
          "base_uri": "https://localhost:8080/",
          "height": 55
        }
      },
      "source": [
        "import nltk\n",
        "nltk.download('stopwords')\n",
        "import string\n",
        "from nltk.corpus import stopwords\n",
        "\n"
      ],
      "execution_count": 6,
      "outputs": [
        {
          "output_type": "stream",
          "text": [
            "[nltk_data] Downloading package stopwords to /root/nltk_data...\n",
            "[nltk_data]   Unzipping corpora/stopwords.zip.\n"
          ],
          "name": "stdout"
        }
      ]
    },
    {
      "cell_type": "code",
      "metadata": {
        "id": "gzVtg_OF3sdl",
        "colab_type": "code",
        "colab": {}
      },
      "source": [
        "#clean punctuation and stopwords out of text \n",
        "def text_cleaner(txt):\n",
        "\n",
        "  stop = []\n",
        "  for word in stopwords.words('english'):\n",
        "    s = [char for char in word if char not in string.punctuation]\n",
        "    stop.append(''.join(s))\n",
        "\n",
        "  nopunc = [char for char in txt if char not in string.punctuation]\n",
        "  #join char back to a string\n",
        "  nopunc = ''.join(nopunc)\n",
        "  \n",
        "  return \" \".join([word for word in nopunc.split() if word.lower() not in stop])"
      ],
      "execution_count": 0,
      "outputs": []
    },
    {
      "cell_type": "code",
      "metadata": {
        "id": "Bw9iUgGiyToe",
        "colab_type": "code",
        "outputId": "651b61af-532b-4439-fcb7-e2d8a4fb6c67",
        "colab": {
          "base_uri": "https://localhost:8080/",
          "height": 36
        }
      },
      "source": [
        "# subset_df = pd.read_csv(\"merged_dataset.csv\")\n",
        "# subset_df.shape"
      ],
      "execution_count": 0,
      "outputs": [
        {
          "output_type": "execute_result",
          "data": {
            "text/plain": [
              "(318721, 14)"
            ]
          },
          "metadata": {
            "tags": []
          },
          "execution_count": 152
        }
      ]
    },
    {
      "cell_type": "code",
      "metadata": {
        "id": "w9Yxw98e3sj-",
        "colab_type": "code",
        "outputId": "e86220b3-bb47-4fc2-a7a1-4d73cc012417",
        "colab": {
          "base_uri": "https://localhost:8080/",
          "height": 54
        }
      },
      "source": [
        "# %%time \n",
        "\n",
        "# subset_df['clean_text'] = subset_df['text'].apply(text_cleaner)\n",
        "# subset_df.to_csv(\"merged_dataset2.csv\",index=False)##save checkpoint\n",
        "# subset_df.head()"
      ],
      "execution_count": 0,
      "outputs": [
        {
          "output_type": "stream",
          "text": [
            "CPU times: user 2min 40s, sys: 5.09 s, total: 2min 45s\n",
            "Wall time: 2min 47s\n"
          ],
          "name": "stdout"
        }
      ]
    },
    {
      "cell_type": "code",
      "metadata": {
        "id": "CNRXGDllTnAX",
        "colab_type": "code",
        "outputId": "74fa67f0-6adf-4b76-e45b-1132aed2d407",
        "colab": {
          "base_uri": "https://localhost:8080/",
          "height": 225
        }
      },
      "source": [
        "pd.options.display.max_colwidth = 20\n",
        "rows = 50000\n",
        "subset_df = pd.read_csv('merged_dataset2.csv', nrows=rows)\n",
        "\n",
        "subset_df['categories'] = subset_df[\"categories\"].apply(lambda x : x.replace(\"[\", \" \").strip(\" \"))\n",
        "subset_df['categories'] = subset_df[\"categories\"].apply(lambda x : x.replace(\"]\", \" \").strip(\" \"))\n",
        "subset_df['categories'] = subset_df[\"categories\"].apply(lambda x : x.replace(\"'\", \"\").strip(\" \"))\n",
        "\n",
        "\n",
        "print(subset_df.shape)\n",
        "subset_df.head()\n",
        "# subset_df['categories'][0]\n"
      ],
      "execution_count": 32,
      "outputs": [
        {
          "output_type": "stream",
          "text": [
            "(50000, 15)\n"
          ],
          "name": "stdout"
        },
        {
          "output_type": "execute_result",
          "data": {
            "text/html": [
              "<div>\n",
              "<style scoped>\n",
              "    .dataframe tbody tr th:only-of-type {\n",
              "        vertical-align: middle;\n",
              "    }\n",
              "\n",
              "    .dataframe tbody tr th {\n",
              "        vertical-align: top;\n",
              "    }\n",
              "\n",
              "    .dataframe thead th {\n",
              "        text-align: right;\n",
              "    }\n",
              "</style>\n",
              "<table border=\"1\" class=\"dataframe\">\n",
              "  <thead>\n",
              "    <tr style=\"text-align: right;\">\n",
              "      <th></th>\n",
              "      <th>review_id</th>\n",
              "      <th>user_id</th>\n",
              "      <th>business_id</th>\n",
              "      <th>business_name</th>\n",
              "      <th>state</th>\n",
              "      <th>review_stars</th>\n",
              "      <th>text</th>\n",
              "      <th>date</th>\n",
              "      <th>categories</th>\n",
              "      <th>food</th>\n",
              "      <th>name</th>\n",
              "      <th>yelping_since</th>\n",
              "      <th>uiz</th>\n",
              "      <th>biz</th>\n",
              "      <th>clean_text</th>\n",
              "    </tr>\n",
              "  </thead>\n",
              "  <tbody>\n",
              "    <tr>\n",
              "      <th>0</th>\n",
              "      <td>LG2ZaYiOgpr2DK_9...</td>\n",
              "      <td>V34qejxNsCbcgD8C...</td>\n",
              "      <td>HQl28KMwrEKHqhFr...</td>\n",
              "      <td>Deagan's Kitchen...</td>\n",
              "      <td>OH</td>\n",
              "      <td>5.0</td>\n",
              "      <td>I love Deagan's....</td>\n",
              "      <td>2015-12-05 03:18:11</td>\n",
              "      <td>Restaurants, Gas...</td>\n",
              "      <td>True</td>\n",
              "      <td>Danielle</td>\n",
              "      <td>2014-11-05 14:36:08</td>\n",
              "      <td>104315</td>\n",
              "      <td>1709</td>\n",
              "      <td>love Deagans rea...</td>\n",
              "    </tr>\n",
              "    <tr>\n",
              "      <th>1</th>\n",
              "      <td>i6g_oA9Yf9Y31qt0...</td>\n",
              "      <td>ofKDkJKXSKZXu5xJ...</td>\n",
              "      <td>5JxlZaqCnk1MnbgR...</td>\n",
              "      <td>Cabo Mexican Res...</td>\n",
              "      <td>NV</td>\n",
              "      <td>1.0</td>\n",
              "      <td>Dismal, lukewarm...</td>\n",
              "      <td>2011-05-27 05:30:52</td>\n",
              "      <td>Restaurants, Mex...</td>\n",
              "      <td>True</td>\n",
              "      <td>Butch</td>\n",
              "      <td>2010-01-09 19:05:00</td>\n",
              "      <td>171412</td>\n",
              "      <td>614</td>\n",
              "      <td>Dismal lukewarm ...</td>\n",
              "    </tr>\n",
              "    <tr>\n",
              "      <th>2</th>\n",
              "      <td>6TdNDKywdbjoTkiz...</td>\n",
              "      <td>UgMW8bLE0QMJDCkQ...</td>\n",
              "      <td>IS4cv902ykd8wj1T...</td>\n",
              "      <td>Raising Cane's C...</td>\n",
              "      <td>NV</td>\n",
              "      <td>4.0</td>\n",
              "      <td>Oh happy day, fi...</td>\n",
              "      <td>2017-01-14 21:56:57</td>\n",
              "      <td>Fast Food, Resta...</td>\n",
              "      <td>True</td>\n",
              "      <td>Micah</td>\n",
              "      <td>2014-07-21 00:47:49</td>\n",
              "      <td>103121</td>\n",
              "      <td>1810</td>\n",
              "      <td>Oh happy day fin...</td>\n",
              "    </tr>\n",
              "    <tr>\n",
              "      <th>3</th>\n",
              "      <td>L2O_INwlrRuoX05K...</td>\n",
              "      <td>5vD2kmE25YBrbayK...</td>\n",
              "      <td>nlxHRv1zXGT0c0K5...</td>\n",
              "      <td>Firehouse Subs</td>\n",
              "      <td>NV</td>\n",
              "      <td>5.0</td>\n",
              "      <td>This is definite...</td>\n",
              "      <td>2013-05-07 07:25:25</td>\n",
              "      <td>Restaurants, Del...</td>\n",
              "      <td>True</td>\n",
              "      <td>Gary</td>\n",
              "      <td>2013-03-18 21:32:18</td>\n",
              "      <td>22920</td>\n",
              "      <td>4798</td>\n",
              "      <td>definitely favor...</td>\n",
              "    </tr>\n",
              "    <tr>\n",
              "      <th>4</th>\n",
              "      <td>ZayJ1zWyWgY9S_TR...</td>\n",
              "      <td>aq_ZxGHiri48TUXJ...</td>\n",
              "      <td>Pthe4qk5xh4n-ef-...</td>\n",
              "      <td>Chon Thai Food</td>\n",
              "      <td>AZ</td>\n",
              "      <td>5.0</td>\n",
              "      <td>Really good plac...</td>\n",
              "      <td>2015-11-05 23:11:05</td>\n",
              "      <td>Restaurants, Thai</td>\n",
              "      <td>True</td>\n",
              "      <td>Jagan</td>\n",
              "      <td>2014-05-30 18:53:04</td>\n",
              "      <td>126339</td>\n",
              "      <td>2436</td>\n",
              "      <td>Really good plac...</td>\n",
              "    </tr>\n",
              "  </tbody>\n",
              "</table>\n",
              "</div>"
            ],
            "text/plain": [
              "             review_id              user_id  ...   biz           clean_text\n",
              "0  LG2ZaYiOgpr2DK_9...  V34qejxNsCbcgD8C...  ...  1709  love Deagans rea...\n",
              "1  i6g_oA9Yf9Y31qt0...  ofKDkJKXSKZXu5xJ...  ...   614  Dismal lukewarm ...\n",
              "2  6TdNDKywdbjoTkiz...  UgMW8bLE0QMJDCkQ...  ...  1810  Oh happy day fin...\n",
              "3  L2O_INwlrRuoX05K...  5vD2kmE25YBrbayK...  ...  4798  definitely favor...\n",
              "4  ZayJ1zWyWgY9S_TR...  aq_ZxGHiri48TUXJ...  ...  2436  Really good plac...\n",
              "\n",
              "[5 rows x 15 columns]"
            ]
          },
          "metadata": {
            "tags": []
          },
          "execution_count": 32
        }
      ]
    },
    {
      "cell_type": "code",
      "metadata": {
        "id": "GEXFD1tg3srG",
        "colab_type": "code",
        "colab": {}
      },
      "source": [
        "user_df = subset_df[['user_id','clean_text']]\n",
        "bus_df = subset_df[['business_id', 'clean_text']]\n",
        "\n",
        "#append all the text for each user && each restaurant\n",
        "u_df = user_df.groupby('user_id').agg({'clean_text': ' '.join})\n",
        "b_df = bus_df.groupby('business_id').agg({'clean_text': ' '.join})"
      ],
      "execution_count": 0,
      "outputs": []
    },
    {
      "cell_type": "code",
      "metadata": {
        "id": "dqg0qMmw3spt",
        "colab_type": "code",
        "outputId": "4843bf73-99a3-4dd8-9ed8-61f32de7ea5f",
        "colab": {
          "base_uri": "https://localhost:8080/",
          "height": 36
        }
      },
      "source": [
        "#apply the TFIDF Vectorizer to extract the features from the text\n",
        "from sklearn.feature_extraction.text import TfidfVectorizer\n",
        "from nltk.tokenize import WordPunctTokenizer\n",
        "\n",
        "#userid vectorizer\n",
        "user_vec = TfidfVectorizer(tokenizer = WordPunctTokenizer().tokenize, max_features=1000)\n",
        "u_vectors = user_vec.fit_transform(u_df['clean_text'])\n",
        "\n",
        "#Business id vectorizer\n",
        "bus_vec = TfidfVectorizer(tokenizer = WordPunctTokenizer().tokenize, max_features=1000)\n",
        "b_vectors = bus_vec.fit_transform(b_df['clean_text'])\n",
        "\n",
        "# Matrix Factorization\n",
        "rating_matrix = pd.pivot_table(subset_df, values='review_stars', index=['user_id'], columns=['business_id'])\n",
        "rating_matrix.shape"
      ],
      "execution_count": 34,
      "outputs": [
        {
          "output_type": "execute_result",
          "data": {
            "text/plain": [
              "(42940, 4551)"
            ]
          },
          "metadata": {
            "tags": []
          },
          "execution_count": 34
        }
      ]
    },
    {
      "cell_type": "code",
      "metadata": {
        "id": "_-_CRNO25UMV",
        "colab_type": "code",
        "colab": {}
      },
      "source": [
        "#To avoid our model overfitting we have to add regularization to our LSE formula \n",
        "#apply the equation to minimize the error using Gradient Decent\n",
        "#update the values of each feature in matrix P and matrix Q.\n",
        " \n",
        "from datetime import datetime\n",
        "import pytz\n",
        " \n",
        "def matrix_factorization(R, P, Q, steps=25, gamma=0.001,lamda=0.02, threshold = 0.001):\n",
        "    start = time.time()\n",
        "    zz =0\n",
        "    tot = len(R.index)*len(R.columns)*2*steps\n",
        "    print(tot)\n",
        "    tz = pytz.timezone('America/Chicago') \n",
        "    datetime_CH = datetime.now(tz)\n",
        "    print(\"Start\",datetime_CH.strftime('%Y-%m-%d %H:%M:%S'))\n",
        "    iter= 1\n",
        "    for step in range(steps):\n",
        "        for i in R.index:\n",
        "            for j in R.columns:\n",
        "                if R.loc[i,j]>0:\n",
        "                    eij=R.loc[i,j]-np.dot(P.loc[i],Q.loc[j])\n",
        "                    P.loc[i]=P.loc[i]+gamma*(eij*Q.loc[j]-lamda*P.loc[i])\n",
        "                    Q.loc[j]=Q.loc[j]+gamma*(eij*P.loc[i]-lamda*Q.loc[j])\n",
        "                    zz+=1\n",
        "                    \n",
        "        e=0\n",
        "        for i in R.index:\n",
        "            for j in R.columns:\n",
        "                if R.loc[i,j]>0:\n",
        "                    e= e + pow(R.loc[i,j]-np.dot(P.loc[i],Q.loc[j]),2)+lamda*(pow(np.linalg.norm(P.loc[i]),2)+pow(np.linalg.norm(Q.loc[j]),2))\n",
        "                    zz+=1\n",
        "\n",
        "        print(\"Iter #\", iter,datetime.now(tz).strftime('%Y-%m-%d %H:%M:%S'), timeSince(start))\n",
        "        iter+=1\n",
        "        if e<threshold:\n",
        "            print(zz)\n",
        "            break\n",
        "    print(\"Iterations :\", zz)  \n",
        "    return P,Q"
      ],
      "execution_count": 0,
      "outputs": []
    },
    {
      "cell_type": "code",
      "metadata": {
        "id": "NTglVdMpn0XL",
        "colab_type": "code",
        "outputId": "c824e7da-7d07-4d5b-db7d-2608e9ea90e3",
        "colab": {
          "base_uri": "https://localhost:8080/",
          "height": 36
        }
      },
      "source": [
        "print(rating_matrix.shape)"
      ],
      "execution_count": 0,
      "outputs": [
        {
          "output_type": "stream",
          "text": [
            "(42940, 4551)\n"
          ],
          "name": "stdout"
        }
      ]
    },
    {
      "cell_type": "code",
      "metadata": {
        "id": "Lefpa9FUUiMa",
        "colab_type": "code",
        "colab": {}
      },
      "source": [
        "P = pd.DataFrame(u_vectors.toarray(), index=u_df.index, columns=user_vec.get_feature_names())\n",
        "Q = pd.DataFrame(b_vectors.toarray(), index=b_df.index, columns=bus_vec.get_feature_names())\n"
      ],
      "execution_count": 0,
      "outputs": []
    },
    {
      "cell_type": "code",
      "metadata": {
        "id": "t7arPhe3Ui8-",
        "colab_type": "code",
        "colab": {}
      },
      "source": [
        "# ids = P.index\n",
        "# ids2 = Q.index"
      ],
      "execution_count": 0,
      "outputs": []
    },
    {
      "cell_type": "code",
      "metadata": {
        "id": "knj8wRjb5UQl",
        "colab_type": "code",
        "colab": {}
      },
      "source": [
        "%%time\n",
        "P = pd.DataFrame(u_vectors.toarray(), index=u_df.index, columns=user_vec.get_feature_names())\n",
        "Q = pd.DataFrame(b_vectors.toarray(), index=b_df.index, columns=bus_vec.get_feature_names())\n",
        "\n",
        "P, Q = matrix_factorization(rating_matrix, P, Q, steps=5, gamma=0.01,lamda=0.01,threshold = 0.0075)\n",
        "\n",
        "P.to_csv(\"P.csv\")\n",
        "Q.to_csv(\"Q.csv\")"
      ],
      "execution_count": 0,
      "outputs": []
    },
    {
      "cell_type": "code",
      "metadata": {
        "id": "0erG2PehS7s2",
        "colab_type": "code",
        "colab": {
          "base_uri": "https://localhost:8080/",
          "height": 286
        },
        "outputId": "47d3acd8-33ad-46a5-daf1-ae062c8b8aee"
      },
      "source": [
        "## reading the dataframes from saved locations\n",
        "\n",
        "P = pd.read_csv('P.csv')\n",
        "Q = pd.read_csv('Q.csv')\n"
      ],
      "execution_count": 58,
      "outputs": [
        {
          "output_type": "execute_result",
          "data": {
            "text/html": [
              "<div>\n",
              "<style scoped>\n",
              "    .dataframe tbody tr th:only-of-type {\n",
              "        vertical-align: middle;\n",
              "    }\n",
              "\n",
              "    .dataframe tbody tr th {\n",
              "        vertical-align: top;\n",
              "    }\n",
              "\n",
              "    .dataframe thead th {\n",
              "        text-align: right;\n",
              "    }\n",
              "</style>\n",
              "<table border=\"1\" class=\"dataframe\">\n",
              "  <thead>\n",
              "    <tr style=\"text-align: right;\">\n",
              "      <th></th>\n",
              "      <th>1</th>\n",
              "      <th>10</th>\n",
              "      <th>100</th>\n",
              "      <th>12</th>\n",
              "      <th>15</th>\n",
              "      <th>2</th>\n",
              "      <th>20</th>\n",
              "      <th>25</th>\n",
              "      <th>3</th>\n",
              "      <th>30</th>\n",
              "      <th>35</th>\n",
              "      <th>4</th>\n",
              "      <th>40</th>\n",
              "      <th>45</th>\n",
              "      <th>5</th>\n",
              "      <th>50</th>\n",
              "      <th>6</th>\n",
              "      <th>7</th>\n",
              "      <th>8</th>\n",
              "      <th>9</th>\n",
              "      <th>able</th>\n",
              "      <th>absolutely</th>\n",
              "      <th>accommodating</th>\n",
              "      <th>across</th>\n",
              "      <th>actually</th>\n",
              "      <th>add</th>\n",
              "      <th>added</th>\n",
              "      <th>addition</th>\n",
              "      <th>afternoon</th>\n",
              "      <th>ago</th>\n",
              "      <th>almost</th>\n",
              "      <th>alone</th>\n",
              "      <th>along</th>\n",
              "      <th>already</th>\n",
              "      <th>also</th>\n",
              "      <th>although</th>\n",
              "      <th>always</th>\n",
              "      <th>amazing</th>\n",
              "      <th>ambiance</th>\n",
              "      <th>ambience</th>\n",
              "      <th>...</th>\n",
              "      <th>want</th>\n",
              "      <th>wanted</th>\n",
              "      <th>warm</th>\n",
              "      <th>watch</th>\n",
              "      <th>water</th>\n",
              "      <th>way</th>\n",
              "      <th>week</th>\n",
              "      <th>weekend</th>\n",
              "      <th>weird</th>\n",
              "      <th>welcoming</th>\n",
              "      <th>well</th>\n",
              "      <th>went</th>\n",
              "      <th>weve</th>\n",
              "      <th>whatever</th>\n",
              "      <th>white</th>\n",
              "      <th>whole</th>\n",
              "      <th>wife</th>\n",
              "      <th>wine</th>\n",
              "      <th>wings</th>\n",
              "      <th>wish</th>\n",
              "      <th>within</th>\n",
              "      <th>without</th>\n",
              "      <th>wonderful</th>\n",
              "      <th>work</th>\n",
              "      <th>working</th>\n",
              "      <th>world</th>\n",
              "      <th>worst</th>\n",
              "      <th>worth</th>\n",
              "      <th>would</th>\n",
              "      <th>wow</th>\n",
              "      <th>write</th>\n",
              "      <th>wrong</th>\n",
              "      <th>year</th>\n",
              "      <th>years</th>\n",
              "      <th>yelp</th>\n",
              "      <th>yes</th>\n",
              "      <th>yet</th>\n",
              "      <th>young</th>\n",
              "      <th>yum</th>\n",
              "      <th>yummy</th>\n",
              "    </tr>\n",
              "    <tr>\n",
              "      <th>business_id</th>\n",
              "      <th></th>\n",
              "      <th></th>\n",
              "      <th></th>\n",
              "      <th></th>\n",
              "      <th></th>\n",
              "      <th></th>\n",
              "      <th></th>\n",
              "      <th></th>\n",
              "      <th></th>\n",
              "      <th></th>\n",
              "      <th></th>\n",
              "      <th></th>\n",
              "      <th></th>\n",
              "      <th></th>\n",
              "      <th></th>\n",
              "      <th></th>\n",
              "      <th></th>\n",
              "      <th></th>\n",
              "      <th></th>\n",
              "      <th></th>\n",
              "      <th></th>\n",
              "      <th></th>\n",
              "      <th></th>\n",
              "      <th></th>\n",
              "      <th></th>\n",
              "      <th></th>\n",
              "      <th></th>\n",
              "      <th></th>\n",
              "      <th></th>\n",
              "      <th></th>\n",
              "      <th></th>\n",
              "      <th></th>\n",
              "      <th></th>\n",
              "      <th></th>\n",
              "      <th></th>\n",
              "      <th></th>\n",
              "      <th></th>\n",
              "      <th></th>\n",
              "      <th></th>\n",
              "      <th></th>\n",
              "      <th></th>\n",
              "      <th></th>\n",
              "      <th></th>\n",
              "      <th></th>\n",
              "      <th></th>\n",
              "      <th></th>\n",
              "      <th></th>\n",
              "      <th></th>\n",
              "      <th></th>\n",
              "      <th></th>\n",
              "      <th></th>\n",
              "      <th></th>\n",
              "      <th></th>\n",
              "      <th></th>\n",
              "      <th></th>\n",
              "      <th></th>\n",
              "      <th></th>\n",
              "      <th></th>\n",
              "      <th></th>\n",
              "      <th></th>\n",
              "      <th></th>\n",
              "      <th></th>\n",
              "      <th></th>\n",
              "      <th></th>\n",
              "      <th></th>\n",
              "      <th></th>\n",
              "      <th></th>\n",
              "      <th></th>\n",
              "      <th></th>\n",
              "      <th></th>\n",
              "      <th></th>\n",
              "      <th></th>\n",
              "      <th></th>\n",
              "      <th></th>\n",
              "      <th></th>\n",
              "      <th></th>\n",
              "      <th></th>\n",
              "      <th></th>\n",
              "      <th></th>\n",
              "      <th></th>\n",
              "      <th></th>\n",
              "    </tr>\n",
              "  </thead>\n",
              "  <tbody>\n",
              "    <tr>\n",
              "      <th>-0T0jfPnuBRdpNTXpOQZcA</th>\n",
              "      <td>0.000000</td>\n",
              "      <td>0.000000</td>\n",
              "      <td>0.000000</td>\n",
              "      <td>0.000000</td>\n",
              "      <td>0.000000</td>\n",
              "      <td>0.256306</td>\n",
              "      <td>0.0000</td>\n",
              "      <td>0.000000</td>\n",
              "      <td>0.138812</td>\n",
              "      <td>0.00000</td>\n",
              "      <td>0.000000</td>\n",
              "      <td>0.000000</td>\n",
              "      <td>0.000000</td>\n",
              "      <td>0.000000</td>\n",
              "      <td>0.000000</td>\n",
              "      <td>0.000000</td>\n",
              "      <td>0.000000</td>\n",
              "      <td>0.000000</td>\n",
              "      <td>0.000000</td>\n",
              "      <td>0.000000</td>\n",
              "      <td>0.000000</td>\n",
              "      <td>0.000000</td>\n",
              "      <td>0.000000</td>\n",
              "      <td>0.000000</td>\n",
              "      <td>0.000000</td>\n",
              "      <td>0.000000</td>\n",
              "      <td>0.000000</td>\n",
              "      <td>0.000000</td>\n",
              "      <td>0.000000</td>\n",
              "      <td>0.000000</td>\n",
              "      <td>0.000000</td>\n",
              "      <td>0.000000</td>\n",
              "      <td>0.000000</td>\n",
              "      <td>0.000000</td>\n",
              "      <td>0.00000</td>\n",
              "      <td>0.000000</td>\n",
              "      <td>0.000000</td>\n",
              "      <td>0.000000</td>\n",
              "      <td>0.000000</td>\n",
              "      <td>0.000000</td>\n",
              "      <td>...</td>\n",
              "      <td>0.000000</td>\n",
              "      <td>0.000000</td>\n",
              "      <td>0.000000</td>\n",
              "      <td>0.000000</td>\n",
              "      <td>0.000000</td>\n",
              "      <td>0.000000</td>\n",
              "      <td>0.000000</td>\n",
              "      <td>0.000000</td>\n",
              "      <td>0.00000</td>\n",
              "      <td>0.00000</td>\n",
              "      <td>0.000000</td>\n",
              "      <td>0.000000</td>\n",
              "      <td>0.000000</td>\n",
              "      <td>0.000000</td>\n",
              "      <td>0.000000</td>\n",
              "      <td>0.000000</td>\n",
              "      <td>0.000000</td>\n",
              "      <td>0.000000</td>\n",
              "      <td>0.000000</td>\n",
              "      <td>0.000000</td>\n",
              "      <td>0.000000</td>\n",
              "      <td>0.000000</td>\n",
              "      <td>0.00000</td>\n",
              "      <td>0.000000</td>\n",
              "      <td>0.000000</td>\n",
              "      <td>0.000000</td>\n",
              "      <td>0.179130</td>\n",
              "      <td>0.000000</td>\n",
              "      <td>0.000000</td>\n",
              "      <td>0.000000</td>\n",
              "      <td>0.000000</td>\n",
              "      <td>0.000000</td>\n",
              "      <td>0.000000</td>\n",
              "      <td>0.000000</td>\n",
              "      <td>0.000000</td>\n",
              "      <td>0.000000</td>\n",
              "      <td>0.000000</td>\n",
              "      <td>0.000000</td>\n",
              "      <td>0.000000</td>\n",
              "      <td>0.000000</td>\n",
              "    </tr>\n",
              "    <tr>\n",
              "      <th>-0aOudcaAyac0VJbMX-L1g</th>\n",
              "      <td>0.000000</td>\n",
              "      <td>0.000000</td>\n",
              "      <td>0.000000</td>\n",
              "      <td>0.000000</td>\n",
              "      <td>0.000000</td>\n",
              "      <td>0.000000</td>\n",
              "      <td>0.0000</td>\n",
              "      <td>0.000000</td>\n",
              "      <td>0.000000</td>\n",
              "      <td>0.00000</td>\n",
              "      <td>0.000000</td>\n",
              "      <td>0.000000</td>\n",
              "      <td>0.000000</td>\n",
              "      <td>0.000000</td>\n",
              "      <td>0.000000</td>\n",
              "      <td>0.000000</td>\n",
              "      <td>0.000000</td>\n",
              "      <td>0.000000</td>\n",
              "      <td>0.000000</td>\n",
              "      <td>0.000000</td>\n",
              "      <td>0.000000</td>\n",
              "      <td>0.000000</td>\n",
              "      <td>0.000000</td>\n",
              "      <td>0.000000</td>\n",
              "      <td>0.000000</td>\n",
              "      <td>0.000000</td>\n",
              "      <td>0.000000</td>\n",
              "      <td>0.000000</td>\n",
              "      <td>0.000000</td>\n",
              "      <td>0.000000</td>\n",
              "      <td>0.000000</td>\n",
              "      <td>0.000000</td>\n",
              "      <td>0.000000</td>\n",
              "      <td>0.000000</td>\n",
              "      <td>0.00000</td>\n",
              "      <td>0.000000</td>\n",
              "      <td>0.000000</td>\n",
              "      <td>0.000000</td>\n",
              "      <td>0.000000</td>\n",
              "      <td>0.000000</td>\n",
              "      <td>...</td>\n",
              "      <td>0.000000</td>\n",
              "      <td>0.000000</td>\n",
              "      <td>0.000000</td>\n",
              "      <td>0.000000</td>\n",
              "      <td>0.000000</td>\n",
              "      <td>0.000000</td>\n",
              "      <td>0.000000</td>\n",
              "      <td>0.000000</td>\n",
              "      <td>0.00000</td>\n",
              "      <td>0.00000</td>\n",
              "      <td>0.000000</td>\n",
              "      <td>0.159773</td>\n",
              "      <td>0.000000</td>\n",
              "      <td>0.000000</td>\n",
              "      <td>0.000000</td>\n",
              "      <td>0.000000</td>\n",
              "      <td>0.000000</td>\n",
              "      <td>0.000000</td>\n",
              "      <td>0.000000</td>\n",
              "      <td>0.000000</td>\n",
              "      <td>0.000000</td>\n",
              "      <td>0.000000</td>\n",
              "      <td>0.00000</td>\n",
              "      <td>0.000000</td>\n",
              "      <td>0.000000</td>\n",
              "      <td>0.000000</td>\n",
              "      <td>0.247063</td>\n",
              "      <td>0.000000</td>\n",
              "      <td>0.000000</td>\n",
              "      <td>0.000000</td>\n",
              "      <td>0.000000</td>\n",
              "      <td>0.000000</td>\n",
              "      <td>0.000000</td>\n",
              "      <td>0.000000</td>\n",
              "      <td>0.000000</td>\n",
              "      <td>0.000000</td>\n",
              "      <td>0.000000</td>\n",
              "      <td>0.000000</td>\n",
              "      <td>0.000000</td>\n",
              "      <td>0.000000</td>\n",
              "    </tr>\n",
              "    <tr>\n",
              "      <th>-0mgn9dRi95otXd_h61LdA</th>\n",
              "      <td>0.000000</td>\n",
              "      <td>0.000000</td>\n",
              "      <td>0.000000</td>\n",
              "      <td>0.000000</td>\n",
              "      <td>0.000000</td>\n",
              "      <td>0.000000</td>\n",
              "      <td>0.0000</td>\n",
              "      <td>0.000000</td>\n",
              "      <td>0.000000</td>\n",
              "      <td>0.00000</td>\n",
              "      <td>0.000000</td>\n",
              "      <td>0.000000</td>\n",
              "      <td>0.000000</td>\n",
              "      <td>0.000000</td>\n",
              "      <td>0.000000</td>\n",
              "      <td>0.000000</td>\n",
              "      <td>0.000000</td>\n",
              "      <td>0.000000</td>\n",
              "      <td>0.000000</td>\n",
              "      <td>0.000000</td>\n",
              "      <td>0.000000</td>\n",
              "      <td>0.000000</td>\n",
              "      <td>0.000000</td>\n",
              "      <td>0.000000</td>\n",
              "      <td>0.000000</td>\n",
              "      <td>0.000000</td>\n",
              "      <td>0.000000</td>\n",
              "      <td>0.000000</td>\n",
              "      <td>0.000000</td>\n",
              "      <td>0.521618</td>\n",
              "      <td>0.000000</td>\n",
              "      <td>0.000000</td>\n",
              "      <td>0.000000</td>\n",
              "      <td>0.000000</td>\n",
              "      <td>0.00000</td>\n",
              "      <td>0.000000</td>\n",
              "      <td>0.000000</td>\n",
              "      <td>0.000000</td>\n",
              "      <td>0.000000</td>\n",
              "      <td>0.000000</td>\n",
              "      <td>...</td>\n",
              "      <td>0.000000</td>\n",
              "      <td>0.000000</td>\n",
              "      <td>0.000000</td>\n",
              "      <td>0.000000</td>\n",
              "      <td>0.000000</td>\n",
              "      <td>0.000000</td>\n",
              "      <td>0.000000</td>\n",
              "      <td>0.000000</td>\n",
              "      <td>0.00000</td>\n",
              "      <td>0.00000</td>\n",
              "      <td>0.000000</td>\n",
              "      <td>0.332962</td>\n",
              "      <td>0.000000</td>\n",
              "      <td>0.000000</td>\n",
              "      <td>0.000000</td>\n",
              "      <td>0.000000</td>\n",
              "      <td>0.000000</td>\n",
              "      <td>0.000000</td>\n",
              "      <td>0.000000</td>\n",
              "      <td>0.000000</td>\n",
              "      <td>0.000000</td>\n",
              "      <td>0.000000</td>\n",
              "      <td>0.00000</td>\n",
              "      <td>0.000000</td>\n",
              "      <td>0.530897</td>\n",
              "      <td>0.000000</td>\n",
              "      <td>0.000000</td>\n",
              "      <td>0.000000</td>\n",
              "      <td>0.000000</td>\n",
              "      <td>0.000000</td>\n",
              "      <td>0.000000</td>\n",
              "      <td>0.000000</td>\n",
              "      <td>0.000000</td>\n",
              "      <td>0.000000</td>\n",
              "      <td>0.000000</td>\n",
              "      <td>0.000000</td>\n",
              "      <td>0.000000</td>\n",
              "      <td>0.000000</td>\n",
              "      <td>0.000000</td>\n",
              "      <td>0.000000</td>\n",
              "    </tr>\n",
              "    <tr>\n",
              "      <th>-2R--HQiUyvN4qld52oL6g</th>\n",
              "      <td>0.000000</td>\n",
              "      <td>0.000000</td>\n",
              "      <td>0.000000</td>\n",
              "      <td>0.000000</td>\n",
              "      <td>0.000000</td>\n",
              "      <td>0.000000</td>\n",
              "      <td>0.0000</td>\n",
              "      <td>0.000000</td>\n",
              "      <td>0.000000</td>\n",
              "      <td>0.00000</td>\n",
              "      <td>0.000000</td>\n",
              "      <td>0.000000</td>\n",
              "      <td>0.000000</td>\n",
              "      <td>0.000000</td>\n",
              "      <td>0.000000</td>\n",
              "      <td>0.000000</td>\n",
              "      <td>0.000000</td>\n",
              "      <td>0.000000</td>\n",
              "      <td>0.000000</td>\n",
              "      <td>0.000000</td>\n",
              "      <td>0.000000</td>\n",
              "      <td>0.000000</td>\n",
              "      <td>0.000000</td>\n",
              "      <td>0.000000</td>\n",
              "      <td>0.000000</td>\n",
              "      <td>0.000000</td>\n",
              "      <td>0.000000</td>\n",
              "      <td>0.000000</td>\n",
              "      <td>0.000000</td>\n",
              "      <td>0.000000</td>\n",
              "      <td>0.000000</td>\n",
              "      <td>0.000000</td>\n",
              "      <td>0.000000</td>\n",
              "      <td>0.000000</td>\n",
              "      <td>0.00000</td>\n",
              "      <td>0.000000</td>\n",
              "      <td>0.000000</td>\n",
              "      <td>0.000000</td>\n",
              "      <td>0.000000</td>\n",
              "      <td>0.000000</td>\n",
              "      <td>...</td>\n",
              "      <td>0.000000</td>\n",
              "      <td>0.000000</td>\n",
              "      <td>0.000000</td>\n",
              "      <td>0.000000</td>\n",
              "      <td>0.000000</td>\n",
              "      <td>0.000000</td>\n",
              "      <td>0.000000</td>\n",
              "      <td>0.000000</td>\n",
              "      <td>0.00000</td>\n",
              "      <td>0.00000</td>\n",
              "      <td>0.000000</td>\n",
              "      <td>0.000000</td>\n",
              "      <td>0.000000</td>\n",
              "      <td>0.000000</td>\n",
              "      <td>0.000000</td>\n",
              "      <td>0.000000</td>\n",
              "      <td>0.000000</td>\n",
              "      <td>0.000000</td>\n",
              "      <td>0.000000</td>\n",
              "      <td>0.000000</td>\n",
              "      <td>0.241141</td>\n",
              "      <td>0.000000</td>\n",
              "      <td>0.00000</td>\n",
              "      <td>0.000000</td>\n",
              "      <td>0.000000</td>\n",
              "      <td>0.000000</td>\n",
              "      <td>0.000000</td>\n",
              "      <td>0.000000</td>\n",
              "      <td>0.000000</td>\n",
              "      <td>0.000000</td>\n",
              "      <td>0.000000</td>\n",
              "      <td>0.000000</td>\n",
              "      <td>0.000000</td>\n",
              "      <td>0.178905</td>\n",
              "      <td>0.000000</td>\n",
              "      <td>0.000000</td>\n",
              "      <td>0.000000</td>\n",
              "      <td>0.000000</td>\n",
              "      <td>0.000000</td>\n",
              "      <td>0.000000</td>\n",
              "    </tr>\n",
              "    <tr>\n",
              "      <th>-5L8zOxibac-vBrsYtxXbQ</th>\n",
              "      <td>0.001233</td>\n",
              "      <td>0.000786</td>\n",
              "      <td>0.044585</td>\n",
              "      <td>0.055679</td>\n",
              "      <td>0.001111</td>\n",
              "      <td>0.001143</td>\n",
              "      <td>0.0003</td>\n",
              "      <td>0.000014</td>\n",
              "      <td>0.032638</td>\n",
              "      <td>0.05792</td>\n",
              "      <td>0.000547</td>\n",
              "      <td>0.046053</td>\n",
              "      <td>0.000006</td>\n",
              "      <td>0.062801</td>\n",
              "      <td>0.001313</td>\n",
              "      <td>0.000022</td>\n",
              "      <td>0.000834</td>\n",
              "      <td>0.000728</td>\n",
              "      <td>0.000026</td>\n",
              "      <td>0.000138</td>\n",
              "      <td>0.017069</td>\n",
              "      <td>0.002857</td>\n",
              "      <td>0.001409</td>\n",
              "      <td>0.000471</td>\n",
              "      <td>0.087578</td>\n",
              "      <td>0.000131</td>\n",
              "      <td>0.000907</td>\n",
              "      <td>0.062817</td>\n",
              "      <td>0.000169</td>\n",
              "      <td>0.149494</td>\n",
              "      <td>0.001205</td>\n",
              "      <td>0.000088</td>\n",
              "      <td>0.000691</td>\n",
              "      <td>0.000099</td>\n",
              "      <td>0.14945</td>\n",
              "      <td>0.000734</td>\n",
              "      <td>0.071831</td>\n",
              "      <td>0.041652</td>\n",
              "      <td>0.002345</td>\n",
              "      <td>0.000546</td>\n",
              "      <td>...</td>\n",
              "      <td>0.079559</td>\n",
              "      <td>0.033665</td>\n",
              "      <td>0.001435</td>\n",
              "      <td>0.132141</td>\n",
              "      <td>0.081406</td>\n",
              "      <td>0.084013</td>\n",
              "      <td>0.052953</td>\n",
              "      <td>0.143808</td>\n",
              "      <td>0.00009</td>\n",
              "      <td>0.00053</td>\n",
              "      <td>0.182255</td>\n",
              "      <td>0.015061</td>\n",
              "      <td>0.061671</td>\n",
              "      <td>0.000095</td>\n",
              "      <td>0.000966</td>\n",
              "      <td>0.000432</td>\n",
              "      <td>0.001522</td>\n",
              "      <td>0.005457</td>\n",
              "      <td>0.060735</td>\n",
              "      <td>0.038514</td>\n",
              "      <td>0.000729</td>\n",
              "      <td>0.091229</td>\n",
              "      <td>0.00112</td>\n",
              "      <td>0.001481</td>\n",
              "      <td>0.000153</td>\n",
              "      <td>0.002148</td>\n",
              "      <td>0.000346</td>\n",
              "      <td>0.083084</td>\n",
              "      <td>0.088498</td>\n",
              "      <td>0.000649</td>\n",
              "      <td>0.000042</td>\n",
              "      <td>0.000234</td>\n",
              "      <td>0.000519</td>\n",
              "      <td>0.036989</td>\n",
              "      <td>0.000828</td>\n",
              "      <td>0.001405</td>\n",
              "      <td>0.001317</td>\n",
              "      <td>0.000086</td>\n",
              "      <td>0.000688</td>\n",
              "      <td>0.000443</td>\n",
              "    </tr>\n",
              "  </tbody>\n",
              "</table>\n",
              "<p>5 rows × 1000 columns</p>\n",
              "</div>"
            ],
            "text/plain": [
              "                             1        10  ...       yum     yummy\n",
              "business_id                               ...                    \n",
              "-0T0jfPnuBRdpNTXp...  0.000000  0.000000  ...  0.000000  0.000000\n",
              "-0aOudcaAyac0VJbM...  0.000000  0.000000  ...  0.000000  0.000000\n",
              "-0mgn9dRi95otXd_h...  0.000000  0.000000  ...  0.000000  0.000000\n",
              "-2R--HQiUyvN4qld5...  0.000000  0.000000  ...  0.000000  0.000000\n",
              "-5L8zOxibac-vBrsY...  0.001233  0.000786  ...  0.000688  0.000443\n",
              "\n",
              "[5 rows x 1000 columns]"
            ]
          },
          "metadata": {
            "tags": []
          },
          "execution_count": 58
        }
      ]
    },
    {
      "cell_type": "code",
      "metadata": {
        "id": "WVsRwVg4bLMq",
        "colab_type": "code",
        "colab": {}
      },
      "source": [
        "P.to_csv(\"P.csv\")\n",
        "Q.to_csv(\"Q.csv\")"
      ],
      "execution_count": 0,
      "outputs": []
    },
    {
      "cell_type": "code",
      "metadata": {
        "id": "0xLRz2AkaFsi",
        "colab_type": "code",
        "colab": {}
      },
      "source": [
        "P.index = ids\n",
        "Q.index = ids2"
      ],
      "execution_count": 0,
      "outputs": []
    },
    {
      "cell_type": "code",
      "metadata": {
        "id": "RpVkQH5P5UV3",
        "colab_type": "code",
        "outputId": "dc628e60-c020-4e6c-c54d-7e642284e8e0",
        "colab": {
          "base_uri": "https://localhost:8080/",
          "height": 242
        }
      },
      "source": [
        "# give me recommendation for sushi!\n",
        "words = \"I want to have sushi\"\n",
        "pred_df= pd.DataFrame([words], columns=['text'])\n",
        "pred_df['text'] = pred_df['text'].apply(text_cleaner)\n",
        "pred_vectors = user_vec.transform(pred_df['text'])\n",
        "pred_v_df = pd.DataFrame(pred_vectors.toarray(), index=pred_df.index, columns=user_vec.get_feature_names())\n",
        "\n",
        "predItemRating=pd.DataFrame(np.dot(pred_v_df.loc[0],Q.T),index=Q.index,columns=['Rating'])\n",
        "topRecom=pd.DataFrame.sort_values(predItemRating,['Rating'],ascending=[0])[:3]\n",
        "\n",
        "# print the result\n",
        "for i in topRecom.index:\n",
        "  print(subset_df[subset_df['business_id']==i]['name'].iloc[0])\n",
        "  print(subset_df[subset_df['business_id']==i]['categories'].iloc[0])\n",
        "  print(\"stars: \"+ str(subset_df[subset_df['business_id']==i]['review_stars'].iloc[0])+\"\\n\")\n",
        "    \n"
      ],
      "execution_count": 51,
      "outputs": [
        {
          "output_type": "stream",
          "text": [
            "Hannah\n",
            "Japanese, Restaurants, Sushi Bars\n",
            "stars: 4.0\n",
            "\n",
            "Sarvin\n",
            "Restaurants, Sushi Bars, Buffets, Japanese, Bars, Nightlife\n",
            "stars: 5.0\n",
            "\n",
            "Caroline\n",
            "Korean, Food, Sushi Bars, Desserts, Chinese, Japanese, Restaurants, Breakfast & Brunch\n",
            "stars: 5.0\n",
            "\n"
          ],
          "name": "stdout"
        }
      ]
    },
    {
      "cell_type": "code",
      "metadata": {
        "id": "1G9aDwKhhDvj",
        "colab_type": "code",
        "outputId": "bb1478c4-a56e-470e-9033-5feb7722771e",
        "colab": {
          "base_uri": "https://localhost:8080/",
          "height": 242
        }
      },
      "source": [
        "# give me recommendation for sushi!\n",
        "words = \"i want to have Tacos\"\n",
        "pred_df= pd.DataFrame([words], columns=['text'])\n",
        "pred_df['text'] = pred_df['text'].apply(text_cleaner)\n",
        "pred_vectors = user_vec.transform(pred_df['text'])\n",
        "pred_v_df = pd.DataFrame(pred_vectors.toarray(), index=pred_df.index, columns=user_vec.get_feature_names())\n",
        "\n",
        "predItemRating=pd.DataFrame(np.dot(pred_v_df.loc[0],Q.T),index=Q.index,columns=['Rating'])\n",
        "topRecom=pd.DataFrame.sort_values(predItemRating,['Rating'],ascending=[0])[:3]\n",
        "\n",
        "# print the result\n",
        "for i in topRecom.index:\n",
        "  print(subset_df[subset_df['business_id']==i]['name'].iloc[0])\n",
        "  print(subset_df[subset_df['business_id']==i]['categories'].iloc[0])\n",
        "  print(\"stars: \"+ str(subset_df[subset_df['business_id']==i]['review_stars'].iloc[0])+\"\\n\")"
      ],
      "execution_count": 52,
      "outputs": [
        {
          "output_type": "stream",
          "text": [
            "Briana\n",
            "Restaurants, Seafood, Mexican, Latin American, Tex-Mex\n",
            "stars: 5.0\n",
            "\n",
            "Erin\n",
            "American (New), Mexican, Restaurants\n",
            "stars: 2.0\n",
            "\n",
            "Amber\n",
            "Mexican, Breakfast & Brunch, Restaurants\n",
            "stars: 5.0\n",
            "\n"
          ],
          "name": "stdout"
        }
      ]
    },
    {
      "cell_type": "code",
      "metadata": {
        "id": "AkA4nrU4a4jG",
        "colab_type": "code",
        "colab": {
          "base_uri": "https://localhost:8080/",
          "height": 242
        },
        "outputId": "16bb0e41-05ee-47dc-ec16-67c4cdea6ac8"
      },
      "source": [
        "# give me recommendation for sushi!\n",
        "words = \"i want a place for a birthday party\"\n",
        "pred_df= pd.DataFrame([words], columns=['text'])\n",
        "pred_df['text'] = pred_df['text'].apply(text_cleaner)\n",
        "pred_vectors = user_vec.transform(pred_df['text'])\n",
        "pred_v_df = pd.DataFrame(pred_vectors.toarray(), index=pred_df.index, columns=user_vec.get_feature_names())\n",
        "\n",
        "predItemRating=pd.DataFrame(np.dot(pred_v_df.loc[0],Q.T),index=Q.index,columns=['Rating'])\n",
        "topRecom=pd.DataFrame.sort_values(predItemRating,['Rating'],ascending=[0])[:3]\n",
        "\n",
        "# print the result\n",
        "for i in topRecom.index:\n",
        "  print(subset_df[subset_df['business_id']==i]['name'].iloc[0])\n",
        "  print(subset_df[subset_df['business_id']==i]['categories'].iloc[0])\n",
        "  print(\"stars: \"+ str(subset_df[subset_df['business_id']==i]['review_stars'].iloc[0])+\"\\n\")"
      ],
      "execution_count": 57,
      "outputs": [
        {
          "output_type": "stream",
          "text": [
            "Brandon\n",
            "American (Traditional), Mini Golf, Arcades, Pizza, Cinema, Restaurants, Arts & Entertainment, Italian, Food, Active Life, Bowling, Beer, Wine & Spirits\n",
            "stars: 5.0\n",
            "\n",
            "Chro\n",
            "Bars, Sports Bars, Mexican, Restaurants, Nightlife, Food, Dance Clubs\n",
            "stars: 1.0\n",
            "\n",
            "Cassie\n",
            "Restaurants, Local Flavor, Pizza, American (Traditional), Salad, Italian\n",
            "stars: 4.0\n",
            "\n"
          ],
          "name": "stdout"
        }
      ]
    }
  ]
}
